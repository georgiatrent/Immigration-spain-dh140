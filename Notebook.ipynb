{
 "cells": [
  {
   "cell_type": "markdown",
   "id": "6ca12213-78d3-43e4-8116-8af7a4c12b49",
   "metadata": {},
   "source": [
    "# Immigration into Spain: A Case Study\n",
    "This is the main notebook for this project. All code, analysis and discussion is contained within this document. "
   ]
  }
 ],
 "metadata": {
  "kernelspec": {
   "display_name": "Python 3 (ipykernel)",
   "language": "python",
   "name": "python3"
  },
  "language_info": {
   "codemirror_mode": {
    "name": "ipython",
    "version": 3
   },
   "file_extension": ".py",
   "mimetype": "text/x-python",
   "name": "python",
   "nbconvert_exporter": "python",
   "pygments_lexer": "ipython3",
   "version": "3.11.5"
  }
 },
 "nbformat": 4,
 "nbformat_minor": 5
}
