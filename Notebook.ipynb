{
 "cells": [
  {
   "cell_type": "markdown",
   "id": "6ca12213-78d3-43e4-8116-8af7a4c12b49",
   "metadata": {},
   "source": [
    "# Immigration into Spain: A Case Study\n",
    "\n",
    "**Author:** Georgia Trentalange | **Date:** August 2, 2024\n",
    "\n",
    "*This is the main notebook for this project. All code, analysis and discussion is contained within this document.*\n",
    "\n",
    "## Introduction \n",
    "This summer, I was an intern at a small non-profit organization based out of Barcelona called the **Open Cultural Center (OCC)**. Its main goal is to support migrants and refugees coming into Spain through free language classes, career workshops, and skill-based classes, as long as need is demonstrated. I took a particular interest in **Migracode**, a daughter project specializing in coding skills classes. Given my background as a female computer science major, I was curious about the general demographics of these classes, and whether this sample reflects those of Barcelona's immigrant population as a whole. I also wondered if any origin countries were increasingly represented among Migracode students. \n",
    "\n",
    "These are important questions to ask, as [the educational level of the immigrant population in Spain has remained stagnant since the beginning of the century](https://blog.funcas.es/el-nivel-educativo-de-la-poblacion-inmigrante-en-espana-permanece-estancado-desde-principios-de-siglo/) *despite* positive population growth solely due to immigration. Certain South American countries are eligible for [expedited Spanish nationality applications](https://corralinternational.com/en/complete-guide-for-latin-american-citizens-emigrating-to-spain/#:~:text=Requirements:%20After%20residing%20legally%20in%20Spain%20for,only%20requires%20two%20years%20of%20legal%20residency.), and arrivals continue to break records each year. For these reasons and many others, the OCC needs to be able to recognize whether it effectively attracts immigrants in need so that it can continue to receive donor support. More importantly, it needs to make sure that no eligible immigrant feels deterred from applying on the basis of exclusion or cultural expectations. \n",
    "\n",
    "Luckily, it was easy to obtain the data for all of the students who have taken classes through **Migracode** from the years 2021 (its origin year) through 2024. \n",
    "\n",
    "Next, I took a look at the **Migracode** user-facing [website](https://migracode.org/) and walked through the application process myself. There are four requirements in order to apply.\n",
    " \n",
    "#### Requirements to be a Migracode Student:\n",
    "\n",
    "**(1)** EITHER / Be a refugee or asylum seeker / Be a migrant from outside the EU who cannot find work / OR / Be a migrant from outside the EU in a difficult/vulnerable living situation\n",
    "\n",
    "**(2)** Be fluent in **English** or **Spanish**\n",
    "\n",
    "**(3)** Have **documentation** to live/work in Spain \n",
    "\n",
    "**(4)** Live in/around **Barcelona**\n",
    "\n",
    "<u>Henceforth, I will be refering to people fulfilling these four criteria as **4 Criteria People**. I will refer to people who are or have been Migracode students as **Migracode Students**.</u>\n",
    "\n",
    "The form on the Migracode website populates an entry in the data table once a new student has applied. The data table I will start with has been populated with a new row each time a new student applies.\n",
    "\n",
    "## Research Question: How do Migracode Students differ from 4 Criteria People? \n",
    "\n",
    "I want to know if **Migracode Students** represent the general population of **4 Criteria People**, or if there are certain groups that are more highly saturated among **Migracode Students**. \n",
    "\n",
    "This may help to determine which groups respond to Migracode recruitment, in order to better target groups which are underrepresented. \n",
    "\n",
    "\n",
    "## Some sub-questions: \n",
    "### Do Migracode Students already have technical experience? \n",
    "\n",
    "This question aims to address the approachability of Migracode classes. The courses are intended to be easy to apply for and encouraging of little to no technical background (unless they are taking the advanced courses). \n",
    "\n",
    "If most **Migracode Students** indicate that they already have experience, there may be other factors that discourage unexperienced people to apply, like marketing or website interface. \n",
    "\n",
    "### Where do Migracode students come from? \n",
    "\n",
    "Are certain countries of origin represented more highly among **Migracode Students** than **4 Criteria People**?  \n",
    "\n",
    "### What portion of students are over the age of 30? \n",
    "\n",
    "It's possible that filling out an online application or embarking on a course in technical skills is more approachable for a younger generation. "
   ]
  },
  {
   "cell_type": "code",
   "execution_count": 48,
   "id": "e1c5d363-5b28-4059-a14a-31fc0adb718a",
   "metadata": {},
   "outputs": [],
   "source": [
    "##import cell \n",
    "import pandas as pd\n",
    "import matplotlib.pyplot as plt\n",
    "import seaborn as sns\n",
    "import plotly.express as px\n"
   ]
  },
  {
   "cell_type": "markdown",
   "id": "6f154628-e227-4608-88bc-124e8b1532c6",
   "metadata": {},
   "source": [
    "## Methods / The Data\n",
    "I will be using the following datasets/documents, described in more detail below:\n",
    "\n",
    "**(1)** Migracode's Students Database (modified for anonymity, cleanliness, and application)\n",
    "\n",
    "**(2)** Ajuntament de Barcelona's (City Hall of Barcelona) public Immigrants by Nationality, Sex, and Age dataset, 2023\n",
    "\n",
    "**(3)** Instituto Nacional de Estadística (National Statistics Institute): Living Conditions Survey (LCS), 2023, At Risk of Poverty of Social Exclusion (AROPE) by nationality\n",
    "\n",
    "### Limitations\n",
    "My main research question is a lofty and largely unattainable ask for the following reasons: \n",
    "\n",
    "**There is no way to find data on broader 4 Criteria People.** That is, people who are  (1) immigrants/aslum seekers in sub-optimal financial/employment situations (2) speaking english or spanish,  (3) with documentation (4) in Barcelona. \n",
    "\n",
    "**Why?**\n",
    "- There is *yearly population data* on immigration into Barcelona, but it doesn't get into income, employment or spoken language. Neighborhoods are described, which can hint at financial situation, but ultimately are unreliable indicators. \n",
    "- There is *asylum seeker annual arrival data*, but it doesn't describe individual cities or work documentation.\n",
    "- Annual reports don't describe immigrants who may have arrived a long time ago, and compiling all the yearly data would take lots of time. \n",
    "\n",
    "\n",
    "### Solutions\n",
    "\n",
    "I will describe Migracode students as they appear in the applications data table. Then, I will use various sources for information about arrivals or immigrants in Spain to hopefully describe its immigrant population, though it will be impossible to describe the very specific **4 Criteria Person** demographic. \n",
    "\n",
    "### Migracode's Students Database\n",
    "\n",
    "Migracode's data table was originally populated through the use of a form, intended to register students for individual classes. This means that if a returning student filled out the form for a new class, they were added to the table as a new entry. In order to process each entry as **one individual**, I needed to find a way to combine entries.\n",
    "\n",
    "I alphabetized the entries by name so that it was more clear which people had taken multiple classes over time, and then manually remove extraneous entries by the same person. I replaced a field originally called **Course** with a field called **Most Basic Course Taken** which describes whether the person *ever* took a basic level course. This will hopefully indicate approachability. \n",
    "\n",
    "To preserve anonymity, after each person only had one entry, I removed the names from the sheet and replaced them with an index. This process reduced the entries from 1731 to 1390. \n",
    "\n",
    "I also added Did not report or Unknown values, as sometimes there are empty values, which can get in the way of code execution. \n",
    "\n",
    "#### Encodings \n",
    "\n",
    "**Most Basic Class Taken:**\n",
    "\n",
    "| Code    | Courses |\n",
    "| -------- | ------- |\n",
    "| 0  | Applied for a Beginner class   |\n",
    "| 1 | Only applied for Intermediate     |\n",
    "| 2    | Only applied for AWS, ADA     |\n",
    "| 3    | Only applied for Self-Learning Class\n",
    "\n",
    "*By this classification, a value of 0 means the student has applied for at least one basic level class, and any other values mean the student has not applied for a basic level class. As this exploration is not concerned with retention, progess of students over time, or popularity of class topics, I simply note the most basic course taken overall.*\n",
    "\n",
    "**Gender**\n",
    "| Code    | Gender |\n",
    "| -------- | ------- |\n",
    "| 0  | Woman  |\n",
    "| 1 | Man     |\n",
    "| 2    | Other   |\n",
    "| 3 | Did not report | \n",
    "\n",
    "**Country of Birth**\n",
    "\n",
    "A string of the name of the country. If they did not fill it out, it's Unknown\n",
    "\n",
    "\n",
    "**Languages**\n",
    "| Code    | Languages |\n",
    "| -------- | ------- |\n",
    "| 0  | English  |\n",
    "| 1 | English Or Spanish     |\n",
    "| 2    | Spanish   |\n",
    "| 3 | Unknown | \n",
    "\n",
    "**Laptop**\n",
    "| Code    | Meaning |\n",
    "| -------- | ------- |\n",
    "| 0  | I don't have a laptop  |\n",
    "| 1 | I have a good laptop to use     |\n",
    "| 2    | I'm not sure/did not select an option  |\n",
    "\n",
    "\n",
    "**Self-Reported Experience:**\n",
    "\n",
    "| Code    | Self-Reported Experience |\n",
    "| -------- | ------- |\n",
    "| 0  | I don't have previous experience with coding   |\n",
    "| 1 | I know a little bit about the basics     |\n",
    "| 2    | I know already about coding   |\n",
    "| 3 | Did not select an option | \n",
    "\n",
    "*To stay true to the form responses, I have copied their original values here, which are awkwardly translated. It should eb noted that language barriers contribute to form confusion as well and can affect applicant responses.*\n",
    "\n",
    "**Educational Background**\n",
    "| Code    | Education |\n",
    "| -------- | ------- |\n",
    "| 0  | (Online) Courses or Elementary School  |\n",
    "| 1 | High School     |\n",
    "| 2    | University   |\n",
    "| 3 | Other Education | \n",
    "\n",
    "**Work Permit**\n",
    "| Code    | Permit |\n",
    "| -------- | ------- |\n",
    "| 0  | I don't have a work permit in Spain  |\n",
    "| 1 | No, but within 8 months from now I can get it     |\n",
    "| 2    | I have a work permit in Spain   |\n",
    "| 3 | I don't know/did not select an option | \n",
    "\n",
    "**Age**\n",
    "\n",
    "-1 if not reported or value is nonsensical (i.e. 110+, 0)\n",
    "otherwise a two-digit number \n",
    "\n",
    "**Nationality**\n",
    "| Code    | Sex |\n",
    "| -------- | ------- |\n",
    "| 1 | Spain  |\n",
    "| 2 | Rest of the EU     |\n",
    "| 3 | Rest of the world  |\n",
    "| 4 | No value     |\n",
    "\n",
    "\n",
    "**Younger than 30**\n",
    "| Code | Age group | \n",
    "| ------- | -------- |\n",
    "| -1 | if age is -1 \n",
    "| 0 | Age is equal to or greater than 30\n",
    "| 1 | Age is less than 30\n",
    "\n",
    "#### Preview of Data\n",
    "*Including modifications to assist data visualization creation*"
   ]
  },
  {
   "cell_type": "code",
   "execution_count": 4,
   "id": "8c15ad11-579a-4651-b31f-6f14c9bef90d",
   "metadata": {},
   "outputs": [
    {
     "data": {
      "text/html": [
       "<div>\n",
       "<style scoped>\n",
       "    .dataframe tbody tr th:only-of-type {\n",
       "        vertical-align: middle;\n",
       "    }\n",
       "\n",
       "    .dataframe tbody tr th {\n",
       "        vertical-align: top;\n",
       "    }\n",
       "\n",
       "    .dataframe thead th {\n",
       "        text-align: right;\n",
       "    }\n",
       "</style>\n",
       "<table border=\"1\" class=\"dataframe\">\n",
       "  <thead>\n",
       "    <tr style=\"text-align: right;\">\n",
       "      <th></th>\n",
       "      <th>Application date</th>\n",
       "      <th>Selected course</th>\n",
       "      <th>Gender</th>\n",
       "      <th>Country of Birth</th>\n",
       "      <th>Language(s)</th>\n",
       "      <th>Laptop</th>\n",
       "      <th>Previous Experience</th>\n",
       "      <th>Educational background</th>\n",
       "      <th>Work permit</th>\n",
       "      <th>Age</th>\n",
       "      <th>Nationality</th>\n",
       "      <th>Younger than 30</th>\n",
       "    </tr>\n",
       "  </thead>\n",
       "  <tbody>\n",
       "    <tr>\n",
       "      <th>0</th>\n",
       "      <td>18/7/2023</td>\n",
       "      <td>1</td>\n",
       "      <td>1</td>\n",
       "      <td>Egypt</td>\n",
       "      <td>0</td>\n",
       "      <td>1</td>\n",
       "      <td>1</td>\n",
       "      <td>2</td>\n",
       "      <td>2.0</td>\n",
       "      <td>-1</td>\n",
       "      <td>3</td>\n",
       "      <td>-1</td>\n",
       "    </tr>\n",
       "    <tr>\n",
       "      <th>1</th>\n",
       "      <td>19/3/2021</td>\n",
       "      <td>1</td>\n",
       "      <td>1</td>\n",
       "      <td>Morocco</td>\n",
       "      <td>0</td>\n",
       "      <td>0</td>\n",
       "      <td>1</td>\n",
       "      <td>1</td>\n",
       "      <td>0.0</td>\n",
       "      <td>38</td>\n",
       "      <td>3</td>\n",
       "      <td>0</td>\n",
       "    </tr>\n",
       "    <tr>\n",
       "      <th>2</th>\n",
       "      <td>30/8/2021</td>\n",
       "      <td>1</td>\n",
       "      <td>1</td>\n",
       "      <td>Morocco</td>\n",
       "      <td>0</td>\n",
       "      <td>1</td>\n",
       "      <td>2</td>\n",
       "      <td>2</td>\n",
       "      <td>1.0</td>\n",
       "      <td>28</td>\n",
       "      <td>3</td>\n",
       "      <td>1</td>\n",
       "    </tr>\n",
       "    <tr>\n",
       "      <th>3</th>\n",
       "      <td>5/10/2023</td>\n",
       "      <td>2</td>\n",
       "      <td>1</td>\n",
       "      <td>Morocco</td>\n",
       "      <td>0</td>\n",
       "      <td>0</td>\n",
       "      <td>2</td>\n",
       "      <td>2</td>\n",
       "      <td>0.0</td>\n",
       "      <td>25</td>\n",
       "      <td>3</td>\n",
       "      <td>1</td>\n",
       "    </tr>\n",
       "    <tr>\n",
       "      <th>4</th>\n",
       "      <td>1/5/2023</td>\n",
       "      <td>0</td>\n",
       "      <td>1</td>\n",
       "      <td>Morocco</td>\n",
       "      <td>1</td>\n",
       "      <td>1</td>\n",
       "      <td>2</td>\n",
       "      <td>0</td>\n",
       "      <td>2.0</td>\n",
       "      <td>33</td>\n",
       "      <td>3</td>\n",
       "      <td>0</td>\n",
       "    </tr>\n",
       "    <tr>\n",
       "      <th>5</th>\n",
       "      <td>29/6/2022</td>\n",
       "      <td>0</td>\n",
       "      <td>1</td>\n",
       "      <td>Syria</td>\n",
       "      <td>1</td>\n",
       "      <td>1</td>\n",
       "      <td>2</td>\n",
       "      <td>3</td>\n",
       "      <td>2.0</td>\n",
       "      <td>26</td>\n",
       "      <td>3</td>\n",
       "      <td>1</td>\n",
       "    </tr>\n",
       "    <tr>\n",
       "      <th>6</th>\n",
       "      <td>29/3/2022</td>\n",
       "      <td>0</td>\n",
       "      <td>1</td>\n",
       "      <td>Afghanistan</td>\n",
       "      <td>0</td>\n",
       "      <td>0</td>\n",
       "      <td>0</td>\n",
       "      <td>2</td>\n",
       "      <td>1.0</td>\n",
       "      <td>27</td>\n",
       "      <td>3</td>\n",
       "      <td>1</td>\n",
       "    </tr>\n",
       "    <tr>\n",
       "      <th>7</th>\n",
       "      <td>4/1/2022</td>\n",
       "      <td>0</td>\n",
       "      <td>1</td>\n",
       "      <td>Syria</td>\n",
       "      <td>0</td>\n",
       "      <td>1</td>\n",
       "      <td>2</td>\n",
       "      <td>1</td>\n",
       "      <td>2.0</td>\n",
       "      <td>24</td>\n",
       "      <td>3</td>\n",
       "      <td>1</td>\n",
       "    </tr>\n",
       "    <tr>\n",
       "      <th>8</th>\n",
       "      <td>7/11/2023</td>\n",
       "      <td>2</td>\n",
       "      <td>1</td>\n",
       "      <td>Pakistan</td>\n",
       "      <td>0</td>\n",
       "      <td>1</td>\n",
       "      <td>2</td>\n",
       "      <td>2</td>\n",
       "      <td>0.0</td>\n",
       "      <td>19</td>\n",
       "      <td>3</td>\n",
       "      <td>1</td>\n",
       "    </tr>\n",
       "    <tr>\n",
       "      <th>9</th>\n",
       "      <td>28/10/2023</td>\n",
       "      <td>1</td>\n",
       "      <td>1</td>\n",
       "      <td>Afghanistan</td>\n",
       "      <td>0</td>\n",
       "      <td>1</td>\n",
       "      <td>1</td>\n",
       "      <td>2</td>\n",
       "      <td>2.0</td>\n",
       "      <td>37</td>\n",
       "      <td>3</td>\n",
       "      <td>0</td>\n",
       "    </tr>\n",
       "  </tbody>\n",
       "</table>\n",
       "</div>"
      ],
      "text/plain": [
       "  Application date  Selected course Gender Country of Birth  Language(s)  \\\n",
       "0        18/7/2023                1      1            Egypt            0   \n",
       "1        19/3/2021                1      1          Morocco            0   \n",
       "2        30/8/2021                1      1          Morocco            0   \n",
       "3        5/10/2023                2      1          Morocco            0   \n",
       "4         1/5/2023                0      1          Morocco            1   \n",
       "5        29/6/2022                0      1            Syria            1   \n",
       "6        29/3/2022                0      1      Afghanistan            0   \n",
       "7         4/1/2022                0      1            Syria            0   \n",
       "8        7/11/2023                2      1         Pakistan            0   \n",
       "9       28/10/2023                1      1      Afghanistan            0   \n",
       "\n",
       "   Laptop  Previous Experience  Educational background  Work permit  Age  \\\n",
       "0       1                    1                       2          2.0   -1   \n",
       "1       0                    1                       1          0.0   38   \n",
       "2       1                    2                       2          1.0   28   \n",
       "3       0                    2                       2          0.0   25   \n",
       "4       1                    2                       0          2.0   33   \n",
       "5       1                    2                       3          2.0   26   \n",
       "6       0                    0                       2          1.0   27   \n",
       "7       1                    2                       1          2.0   24   \n",
       "8       1                    2                       2          0.0   19   \n",
       "9       1                    1                       2          2.0   37   \n",
       "\n",
       "   Nationality  Younger than 30  \n",
       "0            3               -1  \n",
       "1            3                0  \n",
       "2            3                1  \n",
       "3            3                1  \n",
       "4            3                0  \n",
       "5            3                1  \n",
       "6            3                1  \n",
       "7            3                1  \n",
       "8            3                1  \n",
       "9            3                0  "
      ]
     },
     "execution_count": 4,
     "metadata": {},
     "output_type": "execute_result"
    }
   ],
   "source": [
    "# LOAD DATASET: Migracode's Students Database\n",
    "# NAME FOR PANDAS:\n",
    "#                   migra \n",
    "#\n",
    "\n",
    "migra = pd.read_csv('./data/Students_Migracode_Anon_Encoded.csv')\n",
    "\n",
    "#Create a new column for nationality \n",
    "eu_countries = [\n",
    "    'Austria', 'Belgium', 'Bulgaria', 'Croatia', 'Cyprus', 'Czech Republic', \n",
    "    'Denmark', 'Estonia', 'Finland', 'France', 'Germany', 'Greece', 'Hungary', \n",
    "    'Ireland', 'Italy', 'Latvia', 'Lithuania', 'Luxembourg', 'Malta', \n",
    "    'Netherlands', 'Poland', 'Portugal', 'Romania', 'Slovakia', 'Slovenia', \n",
    "    'Spain', 'Sweden'\n",
    "]\n",
    "def classify_country(country):\n",
    "    if country == 'Spain':\n",
    "        return 1\n",
    "    elif country in eu_countries:\n",
    "        return 2\n",
    "    elif country == 'Unknown':\n",
    "        return 4\n",
    "    else:\n",
    "        return 3\n",
    "migra['Nationality'] = migra['Country of Birth'].apply(classify_country)\n",
    "\n",
    "#Under 30 column \n",
    "def age_status(age):\n",
    "    age = int(age)\n",
    "    if age == -1:\n",
    "        return -1\n",
    "    elif age < 30:\n",
    "        return 1\n",
    "    else:\n",
    "        return 0\n",
    "        \n",
    "migra['Younger than 30'] = migra['Age'].apply(age_status)\n",
    "\n",
    "# Preview the data. \n",
    "migra.head(10)\n"
   ]
  },
  {
   "cell_type": "markdown",
   "id": "5660dea0-98f8-4d22-aeaf-2011519ebc94",
   "metadata": {},
   "source": [
    "### Ajuntament de Barcelona: \n",
    "\n",
    "The City Hall of Barcelona provides many public datasets on annual immigration. While they don't report on indications of financial stability or employment, they do report age, nationality, and sex, among other data points. So, while this data will not be a perfect representation of a **4 Criteria Person**, as it lacks information about financial security, employment, spoken langugaes and documentation, it still provides valuable information on the demographics of recent arrivals into Spain. \n",
    "\n",
    "### [(1) public Immigrants by Nationality, Sex, and Age dataset, 2023](https://opendata-ajuntament.barcelona.cat/data/en/dataset/pad_imm_mdbas_sexe_edat-q_nacionalitat-g)\n",
    "\n",
    "This dataset only regards immigration into Barcelona. Large amounts of Spanish nationals are also included in this dataset, which confused me at first. This is actually an indication that though they have Spanish citizenship, they have immigrated to Barcelona from other parts of Spain. \n",
    "\n",
    "### [(2) public Population by Nationality dataset, 2023](https://opendata-ajuntament.barcelona.cat/data/en/dataset/pad_mdbas_nacionalitat-pais_nacionalitat-continent_sexe)\n",
    "\n",
    "This dataset describes Barcelona's population by Nationality. It does not describe the immigration-specific population. \n",
    "\n",
    " \n",
    "These datasets and their values have been modified from the original. This is because some  information was irrelevant to this exploration, and values and column names were translated from Catalan to English. **These datasets are specific to Barcelona.**\n",
    "\n",
    "#### Encodings\n",
    "\n",
    "**Sex**\n",
    "| Code    | Sex |\n",
    "| -------- | ------- |\n",
    "| 1 | Female  |\n",
    "| 2 | Male     |\n",
    "\n",
    "*This dataset did not have values for nonbinary or other gender expressions*\n",
    "\n",
    "**Nationality**\n",
    "| Code    | Sex |\n",
    "| -------- | ------- |\n",
    "| 1 | Spain  |\n",
    "| 2 | Rest of the EU     |\n",
    "| 3 | Rest of the world  |\n",
    "| 4 | No value     |\n",
    "\n",
    "**Age Range**\n",
    "| Code    | Sex |\n",
    "| -------- | ------- |\n",
    "| 0 | <5 years  |\n",
    "| 1 | 5-9    |\n",
    "...\n",
    "| 20 | >=100  |\n",
    "| 21| No value     |\n",
    "\n",
    "**Younger than 30**\n",
    "| Code | Age group | \n",
    "| ------- | -------- |\n",
    "| -1 | if age is -1 \n",
    "| 0 | Age is equal to or greater than 30\n",
    "| 1 | Age is less than 30\n"
   ]
  },
  {
   "cell_type": "code",
   "execution_count": 78,
   "id": "38666789-59ef-4987-ae0e-23707c99a9f1",
   "metadata": {},
   "outputs": [
    {
     "name": "stdout",
     "output_type": "stream",
     "text": [
      "                  Nationality  \\\n",
      "0                    No Value   \n",
      "1  Rest of the European Union   \n",
      "2           Rest of the World   \n",
      "3                       Spain   \n",
      "\n",
      "                                               Count  \n",
      "0  .................................................  \n",
      "1  ......56....5..........11611166..................  \n",
      "2  ............8788575685....................5......  \n",
      "3  ..........5..........6...........................  \n"
     ]
    },
    {
     "data": {
      "application/vnd.plotly.v1+json": {
       "config": {
        "plotlyServerURL": "https://plot.ly"
       },
       "data": [
        {
         "domain": {
          "x": [
           0,
           1
          ],
          "y": [
           0,
           1
          ]
         },
         "hole": 0.3,
         "hovertemplate": "Nationality=%{label}<br>Count=%{value}<extra></extra>",
         "labels": [
          "No Value",
          "Rest of the European Union",
          "Rest of the World",
          "Spain"
         ],
         "legendgroup": "",
         "name": "",
         "showlegend": true,
         "type": "pie",
         "values": [
          "............................................................................................................................................",
          "......56....5..........11611166......................7..7..........................85138101158..............11..7....5......................51085675............56....65..........................510..5..................666..................8..11695..6......8911..115..6..................576..5................................55................9..98......................8..86..5........8....656..................7..65..................15111315108..6..8..........21..1814866....................981417..8........................10711566..5................951269127................147911..5..........................131218131612514..958..7............17568106..5....................1871414512....5................14..81758......................1010141511....5......................9211367..6..............7..131287..85..........57....5......................11956......................68775..............................................6578......................15691196....................6....................5..............................881511665....................665..............9710877............7..8575................117201387610........................761817121365......5....................12135107......................12..11161014..............................861415712..............10914867..8................10..511..95............................9512137765............6..9855..5..............6520125..................5..6........6..............5..................1582211108..6............................6......................9........................7..9....................5..........................................6..7..........................7........................................5....................5755..............95..........6..116..9..............59575..5........................75..................5................5..7....5....................5..5....................5....5710..........5....5........5....................................6......................................8..7....7..............6....5..................68..5............6..................................................6..............5......5..............................................................................69..6............................9..10..5........................................................................................55..6..................................10..........................................................................11..............................6........................8555..................811..........................99............................67................565................676..........................................................................................6....5..................5..........................95656............................5........................5....................7....8..................9..8..................576..................6658........................................8..........................77..5....................6....6..................6..6....76..................5..51085................69..................................5....................9586..............................5....5..........................6..666....7................5..6....................8..75..9..7..................5..........................8..77......6................6....765..............................5....5....................6....6..............................................58..11......................78586..................7148..8......................612710..5..5......................75795................6..8................96................8........656....................6................76..6..........................5..5..........................5..............85..5..........5................97......7....6..................85..9..8..........................................................................5......................612........................................................................................5..............................................................................8..........................................5......................77..................................5............................................................................................................................................................................6........6..758........................5..55..........................6..5....................56..............578105................59555..................67................6....................................5....8..................6........................5....................................................5......................................................................................6..................8..7....5................5........................6..7......................5..........7....5..............5576..............76..5..................67..............7....................................9..........................................5..............5......5..........................................................5....................56..5..........7............................................................................................7..............................6............965................67126..5......................15..77..5..................866........11....136..5..............................5..........5..5....5..............6..........................................................................775........5............................876..................................56....................................................................................................................................................................................................................................................55........................................................................................5..............................................5..5..........................................5......5..................6........................78........................................................................................................................................................5..55......................5....................................................................................................................................................................................................................................................................................................5............................................................................................................................6........................................................................................5......5......7..............................5........................................................5..........................5..............................................................................................................................................................................................................................................................................................................................................5..........................5......................................................................................................................................................................................................................................................................................5..........................................................................................................................................................................................................................................................................................................5..............................66..................................................................................................55................................................................................................................................................................................................................................................................................................5..................5............................................................................................................................................................................................................................................................5..........................................................................................................................6..................................................................................................................................................................................................................................................................................................................................................................5....................................................................................5..........................5................5....................................................................................................6........................................................................................................................5......................................................................................................6........................................6..................6................................6..................................................6..................................6..............................................5........................................................................................................................5....................................................................................5............................5........................................................................................................................................................................7..................................................................................................56..................................................................5..6................................................7..............................7............................................5............................................................................55..5..................7..5................5..5..106............................756................7......5............................9....5..................7....7....................116........7....8..........66............665..........................5..5..........................7........5............5..................68..................6................................57..............146................95......5..............5..57............18..5......................6....................65..8....................................10..............9....................6..................................................7..75..6........................5..................................88..8........................................5..............................................................................8................6..................................6............566118..................65....................................6..........................................................................................................8........77........................................................................57..................................................................5..6........................................................................................................................................................................................................5........................................................................................................................................5....5......................................................6..........................8..........5..............................................................................................................................................................................................................................................................................................................................................................................6..............................................................5..................................................................................................................5......................................................5..............................................................................................................................................................5................................................................................................................................................................................................................................................................................................................................................................................................................................................................................................................................................................................................................................................................................................................................................................................................................................................................................................................................................................................................................................................................................................................................................................................................................................................................................................................................................................................................................................................................................................................................................................................................................................................................................................................................................................................................................................................................................................................................................................................5....................................5............................................6..............................................5....8..........7................................................................................6765..............6........................87..8..................................................6......................5................................................................................5..................7....................................................................5..............5....................................5......................................................5......................6..5..5........5..................5........5..................775..........................10..6812789..7......................7............................................................................................6........5......................................................................99..........................................................................................95..5............................................................5..5......................656......................7..........................................................6....................................55..5..........................5................5........................................5................................75............................5..5711......................................5..5............................................................................................................................................................................5..7..5............................................5..88..........................5........................................................................................................................................5............10................................................................................105....6................5757................................................55..........................................................................................................................................................................................................................................................................................................................................................................................................................................................................................512..6..6............................................................",
          "............8788575685....................5......111618211118..8108..............1378656713232531282726188141385....5....................5..131525232638123281861677..9............................819241929931131758..5..5......................7101417201220..137................................7..11122710349261217514..10......5........65..76..771635194516391524615..856..9..........67..........5712193013191016..11..6................67......611212419411536523610517................6....8589163833552731113010205......66....................769919161113..8..7........................55986512..13..6..7....5..............8661281011......6..........................61512191715189118..865..........................1086515211114911..9....7..........6........512132816392217181316166..86..........61516131951655..............5......5....112024282929351623815..55..........................651417193011311018111475..7..........................8151123241022615......565..................86321835919713611............................14182416171387..66..................................151115121312756..........5....213531282236331088851613560097494793277121132110145318261015....................1182116121213181010..7................................17253030141599..6................................618131020141451566..5..........5................12182821162513867..6............................6..131722301612101069..5............................16..14111310..1076..........................65..61313..6............................814119119..10......5......................61281685....6..............................7810797..6..7....................95811....5....................9111591210713........5....................611515711..7......................................6101110......6........................10..15151318610..7..........................13139126......5................5..........8149811910..5............................811891387..............................6825171718613..9..........5..........................191635211919101489............................81316232114108..7............................1014619111171356..5................77............2713119161859..........................14516161720612..6..............5..5........8151720913..14..9....................................1112121312119885..................................96212261157......................555136111069..6......................5....6..............................7..5....................19182526243541811121781591881341658612743863942472228158..6................16510..7..............................566..7........6............5....558..115612....................................511597............................................5..................................877..6..5..................................5896975................................6..75......5......................................................88131110106............................5..6..........................6..7968..................................6768125..................................8..5781010................................813..58............................6..99..................................10..671010......5....................131411814855....5..................................75566..............................................8..67..7..................................6............................510581167..................................68..886..7..........................810118786....68........................5..8..67..101791181387..................................5..8..1411141185........6..........55..............7........5........................86..106121176..............................10....8....................................9..55....66..................8....88657......................5........951913..5..5........................................8..1057..55................................75........................................6............................6..12755....................................78161189..12....7..............................1215211013856..5..............................10514512116..................................8..675....6............................5855..........................................5510966....................................75........7..5........13712798655..................................67812111114..10......7....................................651415198136..55..............................13913132216612........5..5................................101311757..6......7............................148141410877........................................57615101275......7........................871279106..................5............105118131288....................................513710886....................891412..8................................................................................6..5..............................851013..1258..7..........................771177106....................5..588....................................669858..7................................775........5............................75............5..............5..14..5....7........................55756........5................................8..11879..6..5..........................8..7101312115..556......................55..55............................10..71068........................7767....85..........................67..87............................6597796....7........................666......6..................9..89....5..................................6..10..10........5................................6616173023121668..............................6..5617710810..87..8....5........................8610131267..............6..........................9..106615126....5..5................5....7....6713698961410..657..................................5657............5..........135171010107..1057..................................89913149556..............................510871398....6....6............................9..1011966..............................56................................1057666......................................7..1013118512..7............................5699711887..65............................916563211926104106052359..7............................5..91218175567............................5....57118867....5................................10..6115................................6..118997....5....................61011131115..5..........................116888..6......................7599..6......5............................5..171058..6........................5..6..7..5..............................9..111311510............................................6..9....................................69121085......................6............................5..146171071478..5......................................86..67..............................5........8................................7..................................56..10..15910....5..................................105115..5....5........................811610568................................6......5................................61371075..5............................986..79..................................77......5............................................................6..57................................5657..........................6........................................76..55................587..........................................66..5............................97..5....................................6......................................7..77912........................................5....55......................................1110151297......................67965....6............................768................................................7795..6..5......................5..............................................................876..56............................8..14616..10108......................................86..855..5................10611128....................................7..79910957..................................55751714..6..............................8..10671156................................8657..............................912111851012....5..............................5..6610..56......................................106168125..8..........................7869121266............................10786..6................................5710101010..5....5......................5..11..87..............................978813677......5......................6910119956........................6..656659......6..................5....6..5..56..............................77..................................57..11................................7..71086555............................6..55....................5..9..............................9..713971012......5....................5....798911................................11788..................................5..876........................5....5....................55613..10858597..............................510..18797........................................881055....................................1281158129..55..............................511918108..7..7................71212885568........................965..57..5................................116....7....................65710117..8..5................87611..117............................57..66................................5..98127565..........................781097779..6....7......................6..5813510..7..5......................58..91310..6............................51110776....5..................11..........7................................7..8910....5....................5555..5........................5..8..7667....................681114..19119..10..5..........................616..9129861156........................5..19111613812101565................................711761218111195..5....................75..8..7881311131971066......................10151824971313......5......................5..7577......5..................5..751512557..................................7..812812115..5................................68787..6......6........................5..75610..6..............................................................97857........................5................711136..55..........................8..1099........................7..........87869558..566..............................................................56756................................6..81213610558....9667........................................................6......76..7......6..........................7511..79....55..............5..............66..............................................11..11797....66..............................7......58......6................................5..8......9....................5......6..1099..1157..6......................................6714810....7......6....................6............................5..6......511911101213685..6..5........................5..5131211912..66....5..............5............................6......76151417810..858..67........................1356..5....................................713887..6......................................88..........................................7..1216..57........................................7711914........6..................................67..................................6..6....5....................................56111289..955..........................10..665....................................96....7..755....................9..995....95............................86758126126................................5..125913..985..................6..........66..11131361311..665............................6....657....................................78710814................................105..10..11........................695..55....................................5..6........5............6..6..7..667..6..5........................5..6........................5..79..75..............6....710....5....5................77510..............1296159..7521132833292725171213989..5....................................6..........................101171259....58................................5676..5........................................8..665510..5....................................5..........................712578....8....................................8757..6......5................................658..576............................117115115..5..........................677766..............................611..8910..10................................5........................................8..77910..............................................105911111014..11..77................................66141191595..................................86910710......................................1012111516127....5..........................81287..9............................566..........................5........55....85..........................775..56..................................5..................................69..6..6................................57..755..................................................................................................................958......5........................5..7..6..................................78............................7............................10698811....5........................10....145147105..........................5121011910510..........................6121012..10513....78..........................696675................................7..5............48253736433940781362521522871532631051678912064704822283115766....................5..55..5..5......................5....................6..........5125..9......6............................76796..9..........................................138............................671424101811610..7..5......6......................95106611..6..................................5....7..7....................10..5........................65..................98151110..................................5............................5....10............................6510755..5....................................55....5................................555....................................5........................5..5..............................................................5........................9....5........6........................55..556..5....................5................................105..8......5................................................................5....................................................575..........5..............85..6................................8667....................6..7676......................7..66..............................................................5................................161581191589..8..........................................................................................76....................................5..............................5....56....................................7......................................................................................131010121311614252139502433242319201096......7..............................................................9....5........................................................6......5..........................511613867..........................6......714..7..9116..556............................6..................................65............................656118..6911............................69912710..5..5........................6687....................................5..16......6....................................9568..6......5..........................758..55..5..........................7..8..6................................5........96........7..............................7..5..............................1012131879..5......................755........................................................................5..................................76............5..................................7..78111396..8..5........................................................................................6............................17181220915658..5..............................5........................................5........................................................................................812..1065................................6..........................................5............87108118697......5........................6..........................................................................................................5......................7......6..................................5..........................................5............................................................................................................................................87................................................................................................................69..............................................................9............................................5..............................................................................................................................................................................................................................10..8....5........................1012........................................5..................8..................................86....8................................................................6......................96..7..............................1169858..5......................................5................66................................777866622193930202610141171317125............................5..5..............................6..5........5................5........................................................5......................................................................................................................558..................................5..................................................................................................................................................................................5..................................................................66............6......75........................................5............56..................................................................7..11666..5................................8............5..............................106......................5..65..5..7876766..................5..........11......10665........................5..9..5................5..............510....6..5..............................8..11..............................8..5..55......................6......5............97159..6....116..91314148812..................................89....6........................................77........................................6..5..5......................................856..10655..........................7105..567....................16..111185..5......................5..........9..8....765............................................................5....5....5..5......................5....5....................6......7..76766............................................................7......................8555........................7..5............................5..7976........................................6........10........................710..7765..............................1056..5..................................8....9..........................55..............................5..........5..................................5......998810..6..5..............................7..115........................................................................5..7..9..............................6..5......................68..556................................910............6....................6651168..5....5............................5............5..................................................6666....7........................5..5..7912..11128..5................................................................................................................................................................................6..12986..8................................567......5........................57789......................................1013108..........................................88............................................6....5......5....................5............................................9..86......................................85..........................5..28..................................................................8..85..........................................55..............................5117..............................6..6789........................577................................759..........................756..........................87..6..................................5..56......................1055..............................5..7....5......................1275..5........................................................7..75....7................................6..891598........................1281081013..6........................9..879595............................12510667..5..5..................................141771613161268......................8877895105......................6....1010....5....................965....................6..97..12........................................1911775..............................7..10998..................................8565....................6..88..............................61071295....................898..........................1166..................656......................................711687................................551975769......................5..11687..5......................56678..7..6........................115695..............................1366........5....................56................................7..68..6..........................5..7668..5................................5......................................................................6559116........................................8....5..........5............................768....................5710911..............................55......................7..5........5....................565..........................5......11..108........................................................5..8..................................5..10..79................5....5............................7..65..5............55............8..8....5............151423101112171627595185496040442327222010810..................................7..............................86......5..................................5......................56....5....................................................................65................................7........................................................................58..96..................5......6..66597577............................5....86....7..................................................6..5..........................6786..5......................5881289................................10786..5..8................................5....5..10..........................559..67........................7..865..........................6..5..........................659..........................................................5..5..7..95..7..................................75675........................................6................................................587..6..7........................................................5........................................6565................................5..57................................5..........55................................................788..........................................756................................5..566................................5..5..6559..............................87125........................................8....7....................5..........................................5856......................................7..........................................5........................................6..98..66..................................7......................................105885....5..............................5..9..68................................98..965..............................6....7..9..................................557..5......................................................................1110512........5..........................6....5....55........................5..5..............................7....7..6....................................668............................698810..............................55..115..5....5................................................55........................6..5......6..............................................................................................5......................65........................10..7..107..............................710..75..7......................................................................65......5..............5................55....8..........................5......87610....................................6813869..9..5..............................5..12....57965........................................91456..5........................................7127..955................................579957..............5..........6798................................55......................................6........9..5......................................78............................766......5............................7..................5..................................5....................................76......7................5......556756..78....5..........................12..12..5..9......6..............................5............................................9............................5....6......8....................7710........5..........................5..........5......................55........8....................................9913665..................................5..85..686....................................7..135..........6..................................69..........56................................96..................................66..85........................................6..58671257............................1228551087........................................9..55..................................6..89610106..............................11..7..88..........................................................................6......................................................................5............................................................................5....................6..352419121010..67..................................5....................................................................................................................................................565................................................................................................................................................5..............................5....................6..7............................................3127394535425338128160133170106158102120617556463823131689..5..5................................................61176..659................................5................................................................................5..........................7..............................................................5..6....6..................................75....................................658................5................................................5599555......................................................................711..5................................5667..125............................................7................................................................................6........5........................................6....................................66..7815755..................................5..5......................5....5..5....8................5................555....................................11156..11..66............................5..8........55..........................5..............................................................................................................................5........775....................................5769..7..........56....................5..76..6................................6................................................6..........................................6....7........................5..........................................................................59..10......6....................................7136....14..5......................30364056364452701521812052771292021101367799606940322622161457..............10678..8..8............................5........757....1271312................................5797......7......6..................6..6..101257............................................117..1958811..........5................56595812814715117106..........................................55..7........................................5........................12811965..............................66..991265..75....7............................6......96..107711....................................95141455..6..........................................................................6..............................................................................................................5............................5................................78......5............................9..6..................................5....................................8........5............................9..6..........................................................................................................................65..5....................................6611....6..659........................8..119612..8..5....5........................9775....109....................................7..12..59765..55................................8714..7..5..5..........................778665..5....7....................7......5....756....5..8................................5......................................8..1051016916610..655........................6..........81111101012..126..5..6....................5....116..877....5..8............................75688....8..................................................................7665107129811......6......................5665..1185..7..................................67..5..76..................................7..8611....9..7................................6..812710....65..........................66..7....................................................................................1196..968..5............................108..................................6......76....5......6..........................5......5............................66..........5......................567....................................55..............................................................................7........6..............................7............................................................7..5..........................5........6....67......6....................................................................5....75....................................7..........................................5......6......................65....695..9555............................59....599971113811..8....6..5............................5..............................................7765....................................7....776..................................5............................................598..10..7........5..................................7..67..6811129179711..9..5....................5....579817610..1278..7..............................610..8..10..5..68..............................79106510......55..........................................955......5....................................8..8107......6..................................................................56..1020151991272079655..........................610191211..116107....5..................................1581611245187108105......................................512..10..6511..7..8..........................859656....................................................................................5....................5..65......................................................................78............5......................677131378195877......................201232241822322569127821517612459833975354231201514775............6810....6591285596..8..................................................................................................................................5..............................................................6........................................6................................................5....................................................................................................................................................................................................................5..7..8................................11888..9....11..6....................................5....6..............................................................................................................648107159..5..5..................................................................5............................5..6..............................5....................................................................6....................................................5..............65........................................................55............................6....75......................................7..8....5..............................56..5..6........................75......................................................75..5..5..........................................................................1296878....6........5..................7............................................612598..59..10115......................555855............................................................................55............................8....5..........................5....6109..........................................55..........................................................................................768989....7............................8..............................6..5655..5..........5........................56....5......................55......7..........................979787..10....5....5..............5..........65161065..5..5..5......................597106611..6............5............................6....................7..55..................................5......9..5..................................5................................5......5..............................5....7......................................7..........9............................56..55................................5..76867109..76..................................1179778..9..5................................66..7......56............................6..55......5................................7......................................6..967......5........................5....5....................................665................................9....6..................................710613......5............................510812..........5........................9..7..5........................................8................................................6105857..................................66....7......5..................97510765..5........................5869615............................................76..68..6..............................6..7512..............................76..15................................579129669..................................57........................9..11..79..5..................................131081211..8..................................681095979..5..............................8595..5..................................7810........................................99......................................5..116..6..5................................5....51071310511..............................................6..7......................7..111365..5..................................8..555866......................5..10............5....................................51675..................................67............................5..89..85................................5......6............................6688....................................5965....................................5..13..66..5..5..........................118..................................................559..9........5................................5......65..............................6..66..........................56....................................................................55....6..................................................................7........................77..7............................5..87........................5..............557109................................13..81075................5........109613109..9....5..........................58....10....................................687171771875876....................510........373276673739273115218106............................88105..56....................5..57..7..........................8..9............................7..1159......................5....................................................................6..77..55......................510775..6................................6875126....................................5....................................................................556..................................5678151288....................................776....6......5........................6..8........................5..678876..................................6......510761012813..8..7....................5....5..............................................................9..5..............145..6..10..........................5..5565........................5....7....................................58765..................................55....5......................55......................................7101075556........7......................5913671010......6........................5755..........................7..17145................................8....8......................6..6..9..9106....................................7..................................6..69................................................................8..61076..6..........................................5....56..............................7..56..12....5................................................11............8..581011127611....655..............8....8..8769161428121591087..9........................6696151410..19..121112..6......5............78....79819..26827102210161212711....7..................7..556127155958..5..5............6......8..715201011910915..14..6..557..............7......66586109108..65....................................8..985..5..7..7................................9..8..........................27263531363743701072551112911272449317072103517437342719111266......................8575..8..5..6..............................57861189..5..........................................................................15215146251559......5................5..5....5171516111621201391686..............................1251076..5..........................6......685865..................................................................................................................6....5....................................67..61012............55......................5..11898....97............................56556510....................................5....6............................................................55................................6............................688......6..........................5989............................5......5..8......................................8586111067......5............................5..........5....................5..........................7..7......................................5..86..6..........................19..105..........................757....6..5..1559855....5....................58....6..................................................6....5....5..5............................5665..................................5....9..6..7..........5........................................................6....6................................................................................................................................5..7..10..................................................6............................................................................................................139....6..............................5......68..7885..8..5........................................5................................56..8....................................69............................9151311121391520164537465240301519812898......5..................5....951088816..8..............................97..9..6..5..................................68......55........................5....7....87..................................810....77......................",
          "..........5..........6................................................66..........5......665..7......6......5........................6..69588..............................8..87..............................6..5............................5........55............................5......5..6..76......................................6......5......................6575....................................5....6979........57....6..............................5..................................6..........................................................................99..........................................5........................12....8..5..........................7................................7576..8......5........................75........5........5..................761077..........................................5..........................5..10765............................5............................5......5..2110511510..6..8..96115....5..6......................5............................5........6....................8......................................8............................6..67..........................56................................55..................7............................................................6....................................................5........5......5..................5......................................................65..........................8....................................................................5..........................5....6107..............................6..........................................................................6675........................5......................6........8..........................7................................5....................................6....................................................................................6................7..........1071016815889..5....11..6................................................................................6......................................................................5........................................................................................56....................................................................5..............................6............................56......7..............6....................................6..................................................................5..5............................................8....5..............................................................566..................65................................5..........................................................1075....................................................6....8......................................6............................................8..5..................................6..................................7....................................................5............................................................................................7..8........................................................5..........................5........................9..................................5..5..5......................................................................................5..............................................5............................5........................................5..................................5......57..............................5....6....................................612........................................................................5....57....6........................5..6..8..................665................................1157............................8....................................................................5........................65..............................9....5....55............................................................5......................5....6..............................................................................................55......................................75..........................8..............................78..........................................................................5................................8............................................................5..............................................................................7..6..............................................................................................................................................................5..................................6..................................................................................7..576................................6..8..7......5......................................55..........................5....5................................55..................................................................6775..................................7............................................58........5..........................9..5....................................8......................................................................5................................................................6......................8..6............................................................................75............................1210115....................................................................5..1385....................................6........................127106......................................5..................................7..............................5......5........................................................................6559..55................................65....5......................................................................8......................................6....5............................5................................................................................................................................................................................................6........................5..6............................................75........................55................................5..6........................57........................................6......................................................................................5..................................................................5....5..5........................7..109..................................................................................................................578..............................5....77....................................................................6....966....................5........................................11..7....................................68........................5......................................65................................558....6............................7..7................5....75........................................................5..............................................................................................5....................................................................6................5........55..................................6....................................8..5..................................................................5..................5......5..5............................7866........................6............................................11......5............................7..77......5......................................5..11..6................................................................................5................................5................................5............................7................................8..................................56..6....................79................................6................................5................................5....................................................5....................................5..............................5......5......5..........................55................................................................................5..5........................11657................................55................................75............................................................................5..................................................5......................................................5..........................5............6..................................7....7........5....7........................................................................................................................5..................................................................................................................5......................................................................................................................5..5..................................................5......5....................................................................................................................................................................................................5..5..............................5......................................................................5....5............................................................................................................................................................5......5....................6856....................................6......................................5......................................................9977..............................78........................710....................................................................................5........................................................................................6..................................................................5....................5..........................8..........................6....................................5..........................................5............................6........55............................................6....................................5....................5....................5..................................6..5..5..........................................7................................57..................................................5........................7......5....................................................5........................................56..........6..6..................5..6....6..................................965..........................................9..867........6..........................5......5............................................................................................................................................................................7................................6..8..............................5..........................................................56..................8................................6..............................55................................8................................................6....7............................7..65..................................7................5..........85............................................55....657......14..765108611158146..6....................7............................................................106..55..................................................6......................................5............................................5............................6..56......................................6....65..........................................................7....................................7..............................5............................5................................5....6..5....................................................................................5..............................................................................................................................................................55..................................................5....................................5................................................................................7..........................................................8....5................................................................................................................................9..5..5............................................................................................................6........................................................................................................................8............................................556..5..................................7....................................5..................................................................................6....7..........................................6655..............5....................................................................................................595....5..........................................76....5......................................5......................................................................................................................................................................................................5..8......................................................................................................................................................................5..5..............9..................................................................................................................................6..985..12..125..65..........................................................................................................................5............................................................................................................................................................................................................................................................................................................................................................................................................................................................................5..................................................................................................................5..........................................................................................................................................................5..................................5................................................................................................................................5....................................................................................................................5......................................................................................................5..................................................................................................................................................................................................................................................................................................9..55....................................8........5..............................5........................................5........................................................................................................................................................................................................................7..................................................................................................................................................................................................................................................................................................................................................................................................5..8..5........................................6................................6........................................7..........................................................................................................................................................55................................................................56........................66..............................................6..................................................................................5............6..............................75..6..........................................................6..6........................................................................................................5..............................55..................................................................................................................................5............................................................55..........................................................6................................7....5............................................................................................................5......6..........11........5..........................................................6..............................................................5....8......................................................5....66............................88....5..............................5............5................................................................................5......5............5......................................................................................................................................................5..................................................5....................................................................................................5..................................................................9..5....................................................................................................................................6..........................................................................................................................................6..5..5........................5..............................................................6............................65................6............................................................................5............................................................6..........................67..610................5..6..555......................5......67............................7............................................5......................6................................511......................8..7........................865......................5..............................................................8................................7....................5..56........................76........................115..5......................................................611............................8....................................9..77......................105......................................6......................5..............................................................8....5..........................5688................................................................................................5............................................6......................59........7..5............................................................................................................................5................................................................................................5..................9....12..................................................................5..................................11657................5........................................7..................................6..................................................................................................................................5........................................................5................................................656................................................5..5........................5............6..............................................................6......................5..................................6....................................................................................................................................................................................................................................5..................................................................................................5..................................5....................6..7....8......................56............................................................65................................................................................7........................................................................................................................................................................5............................5................5..66....................................................................6................7..8....6........................5......................5............................................................................................................................7................................................................................................6........................................................................................................................5..................................................................................................................................5................................................................................................................................................................................................................................................6......................................................5..........................................................................................................................................................................................................................................................6..................................6............................................................95................................................5..........................................................7......................................5........................................5....5................................5..............................................................................................................................................................................................5............................................................................................................95..............................................................................................................................................................................................................................................................................................................................................5......................................................................................................................................................................................................................5..................................6685....57..591166..65..........................................................................................................................................5..................................................................5....................................................................................................................................................................................................5......5......5............................................................................................................................................................................................................................................................6..................................5............................7........................................................................................................7....................................................................................................................................................................................................................................................................................................................................99....5..7..7..111056..5........7..67......................56................................................................................................................................................................................................6............................................5..........................................................5................................5..................................................................................................................................................................................................................................................................................................................................................................................................................................5................................................6........................................................................................................................................5..............................5..................................................................................................................................................................................................5555........5..............................................................6........................................5..............................................................................................................................................................5............................................................................................................................................................................................................7........................................................................................................................................................................................................5....................................................................................................................................................5..........5..................................5....................................................................65..........................7................................................................................................5....................................55............................................................................................................................................................................6............................5................................5................................................................................................5....5..7......5........5..5..........................................................9..........5..5..........................................................6............................................................................................................................................................................................................................5........................5..5....5........7................5....5....685565........5......666..........................5..........5....................................................................................................................................................5..........................................................................................................................................................................................5............................................................................................55....5..............................................................................................................................................................................................................................................................................................................5................................................................................................................................................................5........................................................7................................................................................5..................................................................5..7..............................................................................................................................................................................................................................................5....................................................................................8..................................................................................................................5..................................................5..6............................................................................................................................5..5..............................55..........................................................................................................................................................................................5..............................6............................................................................5............................................................................................................656....................5..................................................................................5............................................................5....................................5......................................57..........................99..............................................................7....75............8....7....................................................................................6..........................................559..6............................................95....5..................................................................................................................................85..................................................................6................................................................................................5............................6........................55..............................5............................5..................7..........................................................7........................................................................................................................................................................................................................................................................................................................................5................................6..5............................665..................................5..........................57......................................56..76....5..............................7................................................................................7..................................5....................................................................................................................................5....................................................................................................................5....................................................................5......................................................................................5..........................................................................................................6........................................................................................................................................................................................................................................................................................................................................................5................................5......................5..................................................................................................................................................................................................................................................6..............................5........7..5..........................................7................................................................6....................................................................................5......................................5..1279611975....61151385..7..............................................................6..........................................................5......................5..5..6......5..............5....5....................................................................................................................................................................6..............................59............................................5......................................................................5....................................................................................................................................................5..........................................................5..................................................................................................................................................................................................................................................................5................................................................................................................................................................................................................................................................................................................................................................5..............................................................................................5........5....105........6..5..............................5..6..........6......................................................................................................................................................"
         ]
        }
       ],
       "layout": {
        "autosize": true,
        "legend": {
         "tracegroupgap": 0
        },
        "template": {
         "data": {
          "bar": [
           {
            "error_x": {
             "color": "#2a3f5f"
            },
            "error_y": {
             "color": "#2a3f5f"
            },
            "marker": {
             "line": {
              "color": "#E5ECF6",
              "width": 0.5
             },
             "pattern": {
              "fillmode": "overlay",
              "size": 10,
              "solidity": 0.2
             }
            },
            "type": "bar"
           }
          ],
          "barpolar": [
           {
            "marker": {
             "line": {
              "color": "#E5ECF6",
              "width": 0.5
             },
             "pattern": {
              "fillmode": "overlay",
              "size": 10,
              "solidity": 0.2
             }
            },
            "type": "barpolar"
           }
          ],
          "carpet": [
           {
            "aaxis": {
             "endlinecolor": "#2a3f5f",
             "gridcolor": "white",
             "linecolor": "white",
             "minorgridcolor": "white",
             "startlinecolor": "#2a3f5f"
            },
            "baxis": {
             "endlinecolor": "#2a3f5f",
             "gridcolor": "white",
             "linecolor": "white",
             "minorgridcolor": "white",
             "startlinecolor": "#2a3f5f"
            },
            "type": "carpet"
           }
          ],
          "choropleth": [
           {
            "colorbar": {
             "outlinewidth": 0,
             "ticks": ""
            },
            "type": "choropleth"
           }
          ],
          "contour": [
           {
            "colorbar": {
             "outlinewidth": 0,
             "ticks": ""
            },
            "colorscale": [
             [
              0,
              "#0d0887"
             ],
             [
              0.1111111111111111,
              "#46039f"
             ],
             [
              0.2222222222222222,
              "#7201a8"
             ],
             [
              0.3333333333333333,
              "#9c179e"
             ],
             [
              0.4444444444444444,
              "#bd3786"
             ],
             [
              0.5555555555555556,
              "#d8576b"
             ],
             [
              0.6666666666666666,
              "#ed7953"
             ],
             [
              0.7777777777777778,
              "#fb9f3a"
             ],
             [
              0.8888888888888888,
              "#fdca26"
             ],
             [
              1,
              "#f0f921"
             ]
            ],
            "type": "contour"
           }
          ],
          "contourcarpet": [
           {
            "colorbar": {
             "outlinewidth": 0,
             "ticks": ""
            },
            "type": "contourcarpet"
           }
          ],
          "heatmap": [
           {
            "colorbar": {
             "outlinewidth": 0,
             "ticks": ""
            },
            "colorscale": [
             [
              0,
              "#0d0887"
             ],
             [
              0.1111111111111111,
              "#46039f"
             ],
             [
              0.2222222222222222,
              "#7201a8"
             ],
             [
              0.3333333333333333,
              "#9c179e"
             ],
             [
              0.4444444444444444,
              "#bd3786"
             ],
             [
              0.5555555555555556,
              "#d8576b"
             ],
             [
              0.6666666666666666,
              "#ed7953"
             ],
             [
              0.7777777777777778,
              "#fb9f3a"
             ],
             [
              0.8888888888888888,
              "#fdca26"
             ],
             [
              1,
              "#f0f921"
             ]
            ],
            "type": "heatmap"
           }
          ],
          "heatmapgl": [
           {
            "colorbar": {
             "outlinewidth": 0,
             "ticks": ""
            },
            "colorscale": [
             [
              0,
              "#0d0887"
             ],
             [
              0.1111111111111111,
              "#46039f"
             ],
             [
              0.2222222222222222,
              "#7201a8"
             ],
             [
              0.3333333333333333,
              "#9c179e"
             ],
             [
              0.4444444444444444,
              "#bd3786"
             ],
             [
              0.5555555555555556,
              "#d8576b"
             ],
             [
              0.6666666666666666,
              "#ed7953"
             ],
             [
              0.7777777777777778,
              "#fb9f3a"
             ],
             [
              0.8888888888888888,
              "#fdca26"
             ],
             [
              1,
              "#f0f921"
             ]
            ],
            "type": "heatmapgl"
           }
          ],
          "histogram": [
           {
            "marker": {
             "pattern": {
              "fillmode": "overlay",
              "size": 10,
              "solidity": 0.2
             }
            },
            "type": "histogram"
           }
          ],
          "histogram2d": [
           {
            "colorbar": {
             "outlinewidth": 0,
             "ticks": ""
            },
            "colorscale": [
             [
              0,
              "#0d0887"
             ],
             [
              0.1111111111111111,
              "#46039f"
             ],
             [
              0.2222222222222222,
              "#7201a8"
             ],
             [
              0.3333333333333333,
              "#9c179e"
             ],
             [
              0.4444444444444444,
              "#bd3786"
             ],
             [
              0.5555555555555556,
              "#d8576b"
             ],
             [
              0.6666666666666666,
              "#ed7953"
             ],
             [
              0.7777777777777778,
              "#fb9f3a"
             ],
             [
              0.8888888888888888,
              "#fdca26"
             ],
             [
              1,
              "#f0f921"
             ]
            ],
            "type": "histogram2d"
           }
          ],
          "histogram2dcontour": [
           {
            "colorbar": {
             "outlinewidth": 0,
             "ticks": ""
            },
            "colorscale": [
             [
              0,
              "#0d0887"
             ],
             [
              0.1111111111111111,
              "#46039f"
             ],
             [
              0.2222222222222222,
              "#7201a8"
             ],
             [
              0.3333333333333333,
              "#9c179e"
             ],
             [
              0.4444444444444444,
              "#bd3786"
             ],
             [
              0.5555555555555556,
              "#d8576b"
             ],
             [
              0.6666666666666666,
              "#ed7953"
             ],
             [
              0.7777777777777778,
              "#fb9f3a"
             ],
             [
              0.8888888888888888,
              "#fdca26"
             ],
             [
              1,
              "#f0f921"
             ]
            ],
            "type": "histogram2dcontour"
           }
          ],
          "mesh3d": [
           {
            "colorbar": {
             "outlinewidth": 0,
             "ticks": ""
            },
            "type": "mesh3d"
           }
          ],
          "parcoords": [
           {
            "line": {
             "colorbar": {
              "outlinewidth": 0,
              "ticks": ""
             }
            },
            "type": "parcoords"
           }
          ],
          "pie": [
           {
            "automargin": true,
            "type": "pie"
           }
          ],
          "scatter": [
           {
            "fillpattern": {
             "fillmode": "overlay",
             "size": 10,
             "solidity": 0.2
            },
            "type": "scatter"
           }
          ],
          "scatter3d": [
           {
            "line": {
             "colorbar": {
              "outlinewidth": 0,
              "ticks": ""
             }
            },
            "marker": {
             "colorbar": {
              "outlinewidth": 0,
              "ticks": ""
             }
            },
            "type": "scatter3d"
           }
          ],
          "scattercarpet": [
           {
            "marker": {
             "colorbar": {
              "outlinewidth": 0,
              "ticks": ""
             }
            },
            "type": "scattercarpet"
           }
          ],
          "scattergeo": [
           {
            "marker": {
             "colorbar": {
              "outlinewidth": 0,
              "ticks": ""
             }
            },
            "type": "scattergeo"
           }
          ],
          "scattergl": [
           {
            "marker": {
             "colorbar": {
              "outlinewidth": 0,
              "ticks": ""
             }
            },
            "type": "scattergl"
           }
          ],
          "scattermapbox": [
           {
            "marker": {
             "colorbar": {
              "outlinewidth": 0,
              "ticks": ""
             }
            },
            "type": "scattermapbox"
           }
          ],
          "scatterpolar": [
           {
            "marker": {
             "colorbar": {
              "outlinewidth": 0,
              "ticks": ""
             }
            },
            "type": "scatterpolar"
           }
          ],
          "scatterpolargl": [
           {
            "marker": {
             "colorbar": {
              "outlinewidth": 0,
              "ticks": ""
             }
            },
            "type": "scatterpolargl"
           }
          ],
          "scatterternary": [
           {
            "marker": {
             "colorbar": {
              "outlinewidth": 0,
              "ticks": ""
             }
            },
            "type": "scatterternary"
           }
          ],
          "surface": [
           {
            "colorbar": {
             "outlinewidth": 0,
             "ticks": ""
            },
            "colorscale": [
             [
              0,
              "#0d0887"
             ],
             [
              0.1111111111111111,
              "#46039f"
             ],
             [
              0.2222222222222222,
              "#7201a8"
             ],
             [
              0.3333333333333333,
              "#9c179e"
             ],
             [
              0.4444444444444444,
              "#bd3786"
             ],
             [
              0.5555555555555556,
              "#d8576b"
             ],
             [
              0.6666666666666666,
              "#ed7953"
             ],
             [
              0.7777777777777778,
              "#fb9f3a"
             ],
             [
              0.8888888888888888,
              "#fdca26"
             ],
             [
              1,
              "#f0f921"
             ]
            ],
            "type": "surface"
           }
          ],
          "table": [
           {
            "cells": {
             "fill": {
              "color": "#EBF0F8"
             },
             "line": {
              "color": "white"
             }
            },
            "header": {
             "fill": {
              "color": "#C8D4E3"
             },
             "line": {
              "color": "white"
             }
            },
            "type": "table"
           }
          ]
         },
         "layout": {
          "annotationdefaults": {
           "arrowcolor": "#2a3f5f",
           "arrowhead": 0,
           "arrowwidth": 1
          },
          "autotypenumbers": "strict",
          "coloraxis": {
           "colorbar": {
            "outlinewidth": 0,
            "ticks": ""
           }
          },
          "colorscale": {
           "diverging": [
            [
             0,
             "#8e0152"
            ],
            [
             0.1,
             "#c51b7d"
            ],
            [
             0.2,
             "#de77ae"
            ],
            [
             0.3,
             "#f1b6da"
            ],
            [
             0.4,
             "#fde0ef"
            ],
            [
             0.5,
             "#f7f7f7"
            ],
            [
             0.6,
             "#e6f5d0"
            ],
            [
             0.7,
             "#b8e186"
            ],
            [
             0.8,
             "#7fbc41"
            ],
            [
             0.9,
             "#4d9221"
            ],
            [
             1,
             "#276419"
            ]
           ],
           "sequential": [
            [
             0,
             "#0d0887"
            ],
            [
             0.1111111111111111,
             "#46039f"
            ],
            [
             0.2222222222222222,
             "#7201a8"
            ],
            [
             0.3333333333333333,
             "#9c179e"
            ],
            [
             0.4444444444444444,
             "#bd3786"
            ],
            [
             0.5555555555555556,
             "#d8576b"
            ],
            [
             0.6666666666666666,
             "#ed7953"
            ],
            [
             0.7777777777777778,
             "#fb9f3a"
            ],
            [
             0.8888888888888888,
             "#fdca26"
            ],
            [
             1,
             "#f0f921"
            ]
           ],
           "sequentialminus": [
            [
             0,
             "#0d0887"
            ],
            [
             0.1111111111111111,
             "#46039f"
            ],
            [
             0.2222222222222222,
             "#7201a8"
            ],
            [
             0.3333333333333333,
             "#9c179e"
            ],
            [
             0.4444444444444444,
             "#bd3786"
            ],
            [
             0.5555555555555556,
             "#d8576b"
            ],
            [
             0.6666666666666666,
             "#ed7953"
            ],
            [
             0.7777777777777778,
             "#fb9f3a"
            ],
            [
             0.8888888888888888,
             "#fdca26"
            ],
            [
             1,
             "#f0f921"
            ]
           ]
          },
          "colorway": [
           "#636efa",
           "#EF553B",
           "#00cc96",
           "#ab63fa",
           "#FFA15A",
           "#19d3f3",
           "#FF6692",
           "#B6E880",
           "#FF97FF",
           "#FECB52"
          ],
          "font": {
           "color": "#2a3f5f"
          },
          "geo": {
           "bgcolor": "white",
           "lakecolor": "white",
           "landcolor": "#E5ECF6",
           "showlakes": true,
           "showland": true,
           "subunitcolor": "white"
          },
          "hoverlabel": {
           "align": "left"
          },
          "hovermode": "closest",
          "mapbox": {
           "style": "light"
          },
          "paper_bgcolor": "white",
          "plot_bgcolor": "#E5ECF6",
          "polar": {
           "angularaxis": {
            "gridcolor": "white",
            "linecolor": "white",
            "ticks": ""
           },
           "bgcolor": "#E5ECF6",
           "radialaxis": {
            "gridcolor": "white",
            "linecolor": "white",
            "ticks": ""
           }
          },
          "scene": {
           "xaxis": {
            "backgroundcolor": "#E5ECF6",
            "gridcolor": "white",
            "gridwidth": 2,
            "linecolor": "white",
            "showbackground": true,
            "ticks": "",
            "zerolinecolor": "white"
           },
           "yaxis": {
            "backgroundcolor": "#E5ECF6",
            "gridcolor": "white",
            "gridwidth": 2,
            "linecolor": "white",
            "showbackground": true,
            "ticks": "",
            "zerolinecolor": "white"
           },
           "zaxis": {
            "backgroundcolor": "#E5ECF6",
            "gridcolor": "white",
            "gridwidth": 2,
            "linecolor": "white",
            "showbackground": true,
            "ticks": "",
            "zerolinecolor": "white"
           }
          },
          "shapedefaults": {
           "line": {
            "color": "#2a3f5f"
           }
          },
          "ternary": {
           "aaxis": {
            "gridcolor": "white",
            "linecolor": "white",
            "ticks": ""
           },
           "baxis": {
            "gridcolor": "white",
            "linecolor": "white",
            "ticks": ""
           },
           "bgcolor": "#E5ECF6",
           "caxis": {
            "gridcolor": "white",
            "linecolor": "white",
            "ticks": ""
           }
          },
          "title": {
           "x": 0.05
          },
          "xaxis": {
           "automargin": true,
           "gridcolor": "white",
           "linecolor": "white",
           "ticks": "",
           "title": {
            "standoff": 15
           },
           "zerolinecolor": "white",
           "zerolinewidth": 2
          },
          "yaxis": {
           "automargin": true,
           "gridcolor": "white",
           "linecolor": "white",
           "ticks": "",
           "title": {
            "standoff": 15
           },
           "zerolinecolor": "white",
           "zerolinewidth": 2
          }
         }
        },
        "title": {
         "text": "Barcelona: Nationality Distribution of Arriving Immigrants, 2023"
        }
       }
      },
      "image/png": "[encoded data removed]",
      "text/html": [
       "<div>                            <div id=\"50ed76c2-81eb-4f61-9625-15d907e3febf\" class=\"plotly-graph-div\" style=\"height:525px; width:100%;\"></div>            <script type=\"text/javascript\">                require([\"plotly\"], function(Plotly) {                    window.PLOTLYENV=window.PLOTLYENV || {};                                    if (document.getElementById(\"50ed76c2-81eb-4f61-9625-15d907e3febf\")) {                    Plotly.newPlot(                        \"50ed76c2-81eb-4f61-9625-15d907e3febf\",                        [{\"domain\":{\"x\":[0.0,1.0],\"y\":[0.0,1.0]},\"hole\":0.3,\"hovertemplate\":\"Nationality=%{label}<br>Count=%{value}<extra></extra>\",\"labels\":[\"No Value\",\"Rest of the European Union\",\"Rest of the World\",\"Spain\"],\"legendgroup\":\"\",\"name\":\"\",\"showlegend\":true,\"values\":[\"............................................................................................................................................\",\"......56....5..........11611166......................7..7..........................85138101158..............11..7....5......................51085675............56....65..........................510..5..................666..................8..11695..6......8911..115..6..................576..5................................55................9..98......................8..86..5........8....656..................7..65..................15111315108..6..8..........21..1814866....................981417..8........................10711566..5................951269127................147911..5..........................131218131612514..958..7............17568106..5....................1871414512....5................14..81758......................1010141511....5......................9211367..6..............7..131287..85..........57....5......................11956......................68775..............................................6578......................15691196....................6....................5..............................881511665....................665..............9710877............7..8575................117201387610........................761817121365......5....................12135107......................12..11161014..............................861415712..............10914867..8................10..511..95............................9512137765............6..9855..5..............6520125..................5..6........6..............5..................1582211108..6............................6......................9........................7..9....................5..........................................6..7..........................7........................................5....................5755..............95..........6..116..9..............59575..5........................75..................5................5..7....5....................5..5....................5....5710..........5....5........5....................................6......................................8..7....7..............6....5..................68..5............6..................................................6..............5......5..............................................................................69..6............................9..10..5........................................................................................55..6..................................10..........................................................................11..............................6........................8555..................811..........................99............................67................565................676..........................................................................................6....5..................5..........................95656............................5........................5....................7....8..................9..8..................576..................6658........................................8..........................77..5....................6....6..................6..6....76..................5..51085................69..................................5....................9586..............................5....5..........................6..666....7................5..6....................8..75..9..7..................5..........................8..77......6................6....765..............................5....5....................6....6..............................................58..11......................78586..................7148..8......................612710..5..5......................75795................6..8................96................8........656....................6................76..6..........................5..5..........................5..............85..5..........5................97......7....6..................85..9..8..........................................................................5......................612........................................................................................5..............................................................................8..........................................5......................77..................................5............................................................................................................................................................................6........6..758........................5..55..........................6..5....................56..............578105................59555..................67................6....................................5....8..................6........................5....................................................5......................................................................................6..................8..7....5................5........................6..7......................5..........7....5..............5576..............76..5..................67..............7....................................9..........................................5..............5......5..........................................................5....................56..5..........7............................................................................................7..............................6............965................67126..5......................15..77..5..................866........11....136..5..............................5..........5..5....5..............6..........................................................................775........5............................876..................................56....................................................................................................................................................................................................................................................55........................................................................................5..............................................5..5..........................................5......5..................6........................78........................................................................................................................................................5..55......................5....................................................................................................................................................................................................................................................................................................5............................................................................................................................6........................................................................................5......5......7..............................5........................................................5..........................5..............................................................................................................................................................................................................................................................................................................................................5..........................5......................................................................................................................................................................................................................................................................................5..........................................................................................................................................................................................................................................................................................................5..............................66..................................................................................................55................................................................................................................................................................................................................................................................................................5..................5............................................................................................................................................................................................................................................................5..........................................................................................................................6..................................................................................................................................................................................................................................................................................................................................................................5....................................................................................5..........................5................5....................................................................................................6........................................................................................................................5......................................................................................................6........................................6..................6................................6..................................................6..................................6..............................................5........................................................................................................................5....................................................................................5............................5........................................................................................................................................................................7..................................................................................................56..................................................................5..6................................................7..............................7............................................5............................................................................55..5..................7..5................5..5..106............................756................7......5............................9....5..................7....7....................116........7....8..........66............665..........................5..5..........................7........5............5..................68..................6................................57..............146................95......5..............5..57............18..5......................6....................65..8....................................10..............9....................6..................................................7..75..6........................5..................................88..8........................................5..............................................................................8................6..................................6............566118..................65....................................6..........................................................................................................8........77........................................................................57..................................................................5..6........................................................................................................................................................................................................5........................................................................................................................................5....5......................................................6..........................8..........5..............................................................................................................................................................................................................................................................................................................................................................................6..............................................................5..................................................................................................................5......................................................5..............................................................................................................................................................5................................................................................................................................................................................................................................................................................................................................................................................................................................................................................................................................................................................................................................................................................................................................................................................................................................................................................................................................................................................................................................................................................................................................................................................................................................................................................................................................................................................................................................................................................................................................................................................................................................................................................................................................................................................................................................................................................................................................................................................5....................................5............................................6..............................................5....8..........7................................................................................6765..............6........................87..8..................................................6......................5................................................................................5..................7....................................................................5..............5....................................5......................................................5......................6..5..5........5..................5........5..................775..........................10..6812789..7......................7............................................................................................6........5......................................................................99..........................................................................................95..5............................................................5..5......................656......................7..........................................................6....................................55..5..........................5................5........................................5................................75............................5..5711......................................5..5............................................................................................................................................................................5..7..5............................................5..88..........................5........................................................................................................................................5............10................................................................................105....6................5757................................................55..........................................................................................................................................................................................................................................................................................................................................................................................................................................................................................512..6..6............................................................\",\"............8788575685....................5......111618211118..8108..............1378656713232531282726188141385....5....................5..131525232638123281861677..9............................819241929931131758..5..5......................7101417201220..137................................7..11122710349261217514..10......5........65..76..771635194516391524615..856..9..........67..........5712193013191016..11..6................67......611212419411536523610517................6....8589163833552731113010205......66....................769919161113..8..7........................55986512..13..6..7....5..............8661281011......6..........................61512191715189118..865..........................1086515211114911..9....7..........6........512132816392217181316166..86..........61516131951655..............5......5....112024282929351623815..55..........................651417193011311018111475..7..........................8151123241022615......565..................86321835919713611............................14182416171387..66..................................151115121312756..........5....213531282236331088851613560097494793277121132110145318261015....................1182116121213181010..7................................17253030141599..6................................618131020141451566..5..........5................12182821162513867..6............................6..131722301612101069..5............................16..14111310..1076..........................65..61313..6............................814119119..10......5......................61281685....6..............................7810797..6..7....................95811....5....................9111591210713........5....................611515711..7......................................6101110......6........................10..15151318610..7..........................13139126......5................5..........8149811910..5............................811891387..............................6825171718613..9..........5..........................191635211919101489............................81316232114108..7............................1014619111171356..5................77............2713119161859..........................14516161720612..6..............5..5........8151720913..14..9....................................1112121312119885..................................96212261157......................555136111069..6......................5....6..............................7..5....................19182526243541811121781591881341658612743863942472228158..6................16510..7..............................566..7........6............5....558..115612....................................511597............................................5..................................877..6..5..................................5896975................................6..75......5......................................................88131110106............................5..6..........................6..7968..................................6768125..................................8..5781010................................813..58............................6..99..................................10..671010......5....................131411814855....5..................................75566..............................................8..67..7..................................6............................510581167..................................68..886..7..........................810118786....68........................5..8..67..101791181387..................................5..8..1411141185........6..........55..............7........5........................86..106121176..............................10....8....................................9..55....66..................8....88657......................5........951913..5..5........................................8..1057..55................................75........................................6............................6..12755....................................78161189..12....7..............................1215211013856..5..............................10514512116..................................8..675....6............................5855..........................................5510966....................................75........7..5........13712798655..................................67812111114..10......7....................................651415198136..55..............................13913132216612........5..5................................101311757..6......7............................148141410877........................................57615101275......7........................871279106..................5............105118131288....................................513710886....................891412..8................................................................................6..5..............................851013..1258..7..........................771177106....................5..588....................................669858..7................................775........5............................75............5..............5..14..5....7........................55756........5................................8..11879..6..5..........................8..7101312115..556......................55..55............................10..71068........................7767....85..........................67..87............................6597796....7........................666......6..................9..89....5..................................6..10..10........5................................6616173023121668..............................6..5617710810..87..8....5........................8610131267..............6..........................9..106615126....5..5................5....7....6713698961410..657..................................5657............5..........135171010107..1057..................................89913149556..............................510871398....6....6............................9..1011966..............................56................................1057666......................................7..1013118512..7............................5699711887..65............................916563211926104106052359..7............................5..91218175567............................5....57118867....5................................10..6115................................6..118997....5....................61011131115..5..........................116888..6......................7599..6......5............................5..171058..6........................5..6..7..5..............................9..111311510............................................6..9....................................69121085......................6............................5..146171071478..5......................................86..67..............................5........8................................7..................................56..10..15910....5..................................105115..5....5........................811610568................................6......5................................61371075..5............................986..79..................................77......5............................................................6..57................................5657..........................6........................................76..55................587..........................................66..5............................97..5....................................6......................................7..77912........................................5....55......................................1110151297......................67965....6............................768................................................7795..6..5......................5..............................................................876..56............................8..14616..10108......................................86..855..5................10611128....................................7..79910957..................................55751714..6..............................8..10671156................................8657..............................912111851012....5..............................5..6610..56......................................106168125..8..........................7869121266............................10786..6................................5710101010..5....5......................5..11..87..............................978813677......5......................6910119956........................6..656659......6..................5....6..5..56..............................77..................................57..11................................7..71086555............................6..55....................5..9..............................9..713971012......5....................5....798911................................11788..................................5..876........................5....5....................55613..10858597..............................510..18797........................................881055....................................1281158129..55..............................511918108..7..7................71212885568........................965..57..5................................116....7....................65710117..8..5................87611..117............................57..66................................5..98127565..........................781097779..6....7......................6..5813510..7..5......................58..91310..6............................51110776....5..................11..........7................................7..8910....5....................5555..5........................5..8..7667....................681114..19119..10..5..........................616..9129861156........................5..19111613812101565................................711761218111195..5....................75..8..7881311131971066......................10151824971313......5......................5..7577......5..................5..751512557..................................7..812812115..5................................68787..6......6........................5..75610..6..............................................................97857........................5................711136..55..........................8..1099........................7..........87869558..566..............................................................56756................................6..81213610558....9667........................................................6......76..7......6..........................7511..79....55..............5..............66..............................................11..11797....66..............................7......58......6................................5..8......9....................5......6..1099..1157..6......................................6714810....7......6....................6............................5..6......511911101213685..6..5........................5..5131211912..66....5..............5............................6......76151417810..858..67........................1356..5....................................713887..6......................................88..........................................7..1216..57........................................7711914........6..................................67..................................6..6....5....................................56111289..955..........................10..665....................................96....7..755....................9..995....95............................86758126126................................5..125913..985..................6..........66..11131361311..665............................6....657....................................78710814................................105..10..11........................695..55....................................5..6........5............6..6..7..667..6..5........................5..6........................5..79..75..............6....710....5....5................77510..............1296159..7521132833292725171213989..5....................................6..........................101171259....58................................5676..5........................................8..665510..5....................................5..........................712578....8....................................8757..6......5................................658..576............................117115115..5..........................677766..............................611..8910..10................................5........................................8..77910..............................................105911111014..11..77................................66141191595..................................86910710......................................1012111516127....5..........................81287..9............................566..........................5........55....85..........................775..56..................................5..................................69..6..6................................57..755..................................................................................................................958......5........................5..7..6..................................78............................7............................10698811....5........................10....145147105..........................5121011910510..........................6121012..10513....78..........................696675................................7..5............48253736433940781362521522871532631051678912064704822283115766....................5..55..5..5......................5....................6..........5125..9......6............................76796..9..........................................138............................671424101811610..7..5......6......................95106611..6..................................5....7..7....................10..5........................65..................98151110..................................5............................5....10............................6510755..5....................................55....5................................555....................................5........................5..5..............................................................5........................9....5........6........................55..556..5....................5................................105..8......5................................................................5....................................................575..........5..............85..6................................8667....................6..7676......................7..66..............................................................5................................161581191589..8..........................................................................................76....................................5..............................5....56....................................7......................................................................................131010121311614252139502433242319201096......7..............................................................9....5........................................................6......5..........................511613867..........................6......714..7..9116..556............................6..................................65............................656118..6911............................69912710..5..5........................6687....................................5..16......6....................................9568..6......5..........................758..55..5..........................7..8..6................................5........96........7..............................7..5..............................1012131879..5......................755........................................................................5..................................76............5..................................7..78111396..8..5........................................................................................6............................17181220915658..5..............................5........................................5........................................................................................812..1065................................6..........................................5............87108118697......5........................6..........................................................................................................5......................7......6..................................5..........................................5............................................................................................................................................87................................................................................................................69..............................................................9............................................5..............................................................................................................................................................................................................................10..8....5........................1012........................................5..................8..................................86....8................................................................6......................96..7..............................1169858..5......................................5................66................................777866622193930202610141171317125............................5..5..............................6..5........5................5........................................................5......................................................................................................................558..................................5..................................................................................................................................................................................5..................................................................66............6......75........................................5............56..................................................................7..11666..5................................8............5..............................106......................5..65..5..7876766..................5..........11......10665........................5..9..5................5..............510....6..5..............................8..11..............................8..5..55......................6......5............97159..6....116..91314148812..................................89....6........................................77........................................6..5..5......................................856..10655..........................7105..567....................16..111185..5......................5..........9..8....765............................................................5....5....5..5......................5....5....................6......7..76766............................................................7......................8555........................7..5............................5..7976........................................6........10........................710..7765..............................1056..5..................................8....9..........................55..............................5..........5..................................5......998810..6..5..............................7..115........................................................................5..7..9..............................6..5......................68..556................................910............6....................6651168..5....5............................5............5..................................................6666....7........................5..5..7912..11128..5................................................................................................................................................................................6..12986..8................................567......5........................57789......................................1013108..........................................88............................................6....5......5....................5............................................9..86......................................85..........................5..28..................................................................8..85..........................................55..............................5117..............................6..6789........................577................................759..........................756..........................87..6..................................5..56......................1055..............................5..7....5......................1275..5........................................................7..75....7................................6..891598........................1281081013..6........................9..879595............................12510667..5..5..................................141771613161268......................8877895105......................6....1010....5....................965....................6..97..12........................................1911775..............................7..10998..................................8565....................6..88..............................61071295....................898..........................1166..................656......................................711687................................551975769......................5..11687..5......................56678..7..6........................115695..............................1366........5....................56................................7..68..6..........................5..7668..5................................5......................................................................6559116........................................8....5..........5............................768....................5710911..............................55......................7..5........5....................565..........................5......11..108........................................................5..8..................................5..10..79................5....5............................7..65..5............55............8..8....5............151423101112171627595185496040442327222010810..................................7..............................86......5..................................5......................56....5....................................................................65................................7........................................................................58..96..................5......6..66597577............................5....86....7..................................................6..5..........................6786..5......................5881289................................10786..5..8................................5....5..10..........................559..67........................7..865..........................6..5..........................659..........................................................5..5..7..95..7..................................75675........................................6................................................587..6..7........................................................5........................................6565................................5..57................................5..........55................................................788..........................................756................................5..566................................5..5..6559..............................87125........................................8....7....................5..........................................5856......................................7..........................................5........................................6..98..66..................................7......................................105885....5..............................5..9..68................................98..965..............................6....7..9..................................557..5......................................................................1110512........5..........................6....5....55........................5..5..............................7....7..6....................................668............................698810..............................55..115..5....5................................................55........................6..5......6..............................................................................................5......................65........................10..7..107..............................710..75..7......................................................................65......5..............5................55....8..........................5......87610....................................6813869..9..5..............................5..12....57965........................................91456..5........................................7127..955................................579957..............5..........6798................................55......................................6........9..5......................................78............................766......5............................7..................5..................................5....................................76......7................5......556756..78....5..........................12..12..5..9......6..............................5............................................9............................5....6......8....................7710........5..........................5..........5......................55........8....................................9913665..................................5..85..686....................................7..135..........6..................................69..........56................................96..................................66..85........................................6..58671257............................1228551087........................................9..55..................................6..89610106..............................11..7..88..........................................................................6......................................................................5............................................................................5....................6..352419121010..67..................................5....................................................................................................................................................565................................................................................................................................................5..............................5....................6..7............................................3127394535425338128160133170106158102120617556463823131689..5..5................................................61176..659................................5................................................................................5..........................7..............................................................5..6....6..................................75....................................658................5................................................5599555......................................................................711..5................................5667..125............................................7................................................................................6........5........................................6....................................66..7815755..................................5..5......................5....5..5....8................5................555....................................11156..11..66............................5..8........55..........................5..............................................................................................................................5........775....................................5769..7..........56....................5..76..6................................6................................................6..........................................6....7........................5..........................................................................59..10......6....................................7136....14..5......................30364056364452701521812052771292021101367799606940322622161457..............10678..8..8............................5........757....1271312................................5797......7......6..................6..6..101257............................................117..1958811..........5................56595812814715117106..........................................55..7........................................5........................12811965..............................66..991265..75....7............................6......96..107711....................................95141455..6..........................................................................6..............................................................................................................5............................5................................78......5............................9..6..................................5....................................8........5............................9..6..........................................................................................................................65..5....................................6611....6..659........................8..119612..8..5....5........................9775....109....................................7..12..59765..55................................8714..7..5..5..........................778665..5....7....................7......5....756....5..8................................5......................................8..1051016916610..655........................6..........81111101012..126..5..6....................5....116..877....5..8............................75688....8..................................................................7665107129811......6......................5665..1185..7..................................67..5..76..................................7..8611....9..7................................6..812710....65..........................66..7....................................................................................1196..968..5............................108..................................6......76....5......6..........................5......5............................66..........5......................567....................................55..............................................................................7........6..............................7............................................................7..5..........................5........6....67......6....................................................................5....75....................................7..........................................5......6......................65....695..9555............................59....599971113811..8....6..5............................5..............................................7765....................................7....776..................................5............................................598..10..7........5..................................7..67..6811129179711..9..5....................5....579817610..1278..7..............................610..8..10..5..68..............................79106510......55..........................................955......5....................................8..8107......6..................................................................56..1020151991272079655..........................610191211..116107....5..................................1581611245187108105......................................512..10..6511..7..8..........................859656....................................................................................5....................5..65......................................................................78............5......................677131378195877......................201232241822322569127821517612459833975354231201514775............6810....6591285596..8..................................................................................................................................5..............................................................6........................................6................................................5....................................................................................................................................................................................................................5..7..8................................11888..9....11..6....................................5....6..............................................................................................................648107159..5..5..................................................................5............................5..6..............................5....................................................................6....................................................5..............65........................................................55............................6....75......................................7..8....5..............................56..5..6........................75......................................................75..5..5..........................................................................1296878....6........5..................7............................................612598..59..10115......................555855............................................................................55............................8....5..........................5....6109..........................................55..........................................................................................768989....7............................8..............................6..5655..5..........5........................56....5......................55......7..........................979787..10....5....5..............5..........65161065..5..5..5......................597106611..6............5............................6....................7..55..................................5......9..5..................................5................................5......5..............................5....7......................................7..........9............................56..55................................5..76867109..76..................................1179778..9..5................................66..7......56............................6..55......5................................7......................................6..967......5........................5....5....................................665................................9....6..................................710613......5............................510812..........5........................9..7..5........................................8................................................6105857..................................66....7......5..................97510765..5........................5869615............................................76..68..6..............................6..7512..............................76..15................................579129669..................................57........................9..11..79..5..................................131081211..8..................................681095979..5..............................8595..5..................................7810........................................99......................................5..116..6..5................................5....51071310511..............................................6..7......................7..111365..5..................................8..555866......................5..10............5....................................51675..................................67............................5..89..85................................5......6............................6688....................................5965....................................5..13..66..5..5..........................118..................................................559..9........5................................5......65..............................6..66..........................56....................................................................55....6..................................................................7........................77..7............................5..87........................5..............557109................................13..81075................5........109613109..9....5..........................58....10....................................687171771875876....................510........373276673739273115218106............................88105..56....................5..57..7..........................8..9............................7..1159......................5....................................................................6..77..55......................510775..6................................6875126....................................5....................................................................556..................................5678151288....................................776....6......5........................6..8........................5..678876..................................6......510761012813..8..7....................5....5..............................................................9..5..............145..6..10..........................5..5565........................5....7....................................58765..................................55....5......................55......................................7101075556........7......................5913671010......6........................5755..........................7..17145................................8....8......................6..6..9..9106....................................7..................................6..69................................................................8..61076..6..........................................5....56..............................7..56..12....5................................................11............8..581011127611....655..............8....8..8769161428121591087..9........................6696151410..19..121112..6......5............78....79819..26827102210161212711....7..................7..556127155958..5..5............6......8..715201011910915..14..6..557..............7......66586109108..65....................................8..985..5..7..7................................9..8..........................27263531363743701072551112911272449317072103517437342719111266......................8575..8..5..6..............................57861189..5..........................................................................15215146251559......5................5..5....5171516111621201391686..............................1251076..5..........................6......685865..................................................................................................................6....5....................................67..61012............55......................5..11898....97............................56556510....................................5....6............................................................55................................6............................688......6..........................5989............................5......5..8......................................8586111067......5............................5..........5....................5..........................7..7......................................5..86..6..........................19..105..........................757....6..5..1559855....5....................58....6..................................................6....5....5..5............................5665..................................5....9..6..7..........5........................................................6....6................................................................................................................................5..7..10..................................................6............................................................................................................139....6..............................5......68..7885..8..5........................................5................................56..8....................................69............................9151311121391520164537465240301519812898......5..................5....951088816..8..............................97..9..6..5..................................68......55........................5....7....87..................................810....77......................\",\"..........5..........6................................................66..........5......665..7......6......5........................6..69588..............................8..87..............................6..5............................5........55............................5......5..6..76......................................6......5......................6575....................................5....6979........57....6..............................5..................................6..........................................................................99..........................................5........................12....8..5..........................7................................7576..8......5........................75........5........5..................761077..........................................5..........................5..10765............................5............................5......5..2110511510..6..8..96115....5..6......................5............................5........6....................8......................................8............................6..67..........................56................................55..................7............................................................6....................................................5........5......5..................5......................................................65..........................8....................................................................5..........................5....6107..............................6..........................................................................6675........................5......................6........8..........................7................................5....................................6....................................................................................6................7..........1071016815889..5....11..6................................................................................6......................................................................5........................................................................................56....................................................................5..............................6............................56......7..............6....................................6..................................................................5..5............................................8....5..............................................................566..................65................................5..........................................................1075....................................................6....8......................................6............................................8..5..................................6..................................7....................................................5............................................................................................7..8........................................................5..........................5........................9..................................5..5..5......................................................................................5..............................................5............................5........................................5..................................5......57..............................5....6....................................612........................................................................5....57....6........................5..6..8..................665................................1157............................8....................................................................5........................65..............................9....5....55............................................................5......................5....6..............................................................................................55......................................75..........................8..............................78..........................................................................5................................8............................................................5..............................................................................7..6..............................................................................................................................................................5..................................6..................................................................................7..576................................6..8..7......5......................................55..........................5....5................................55..................................................................6775..................................7............................................58........5..........................9..5....................................8......................................................................5................................................................6......................8..6............................................................................75............................1210115....................................................................5..1385....................................6........................127106......................................5..................................7..............................5......5........................................................................6559..55................................65....5......................................................................8......................................6....5............................5................................................................................................................................................................................................6........................5..6............................................75........................55................................5..6........................57........................................6......................................................................................5..................................................................5....5..5........................7..109..................................................................................................................578..............................5....77....................................................................6....966....................5........................................11..7....................................68........................5......................................65................................558....6............................7..7................5....75........................................................5..............................................................................................5....................................................................6................5........55..................................6....................................8..5..................................................................5..................5......5..5............................7866........................6............................................11......5............................7..77......5......................................5..11..6................................................................................5................................5................................5............................7................................8..................................56..6....................79................................6................................5................................5....................................................5....................................5..............................5......5......5..........................55................................................................................5..5........................11657................................55................................75............................................................................5..................................................5......................................................5..........................5............6..................................7....7........5....7........................................................................................................................5..................................................................................................................5......................................................................................................................5..5..................................................5......5....................................................................................................................................................................................................5..5..............................5......................................................................5....5............................................................................................................................................................5......5....................6856....................................6......................................5......................................................9977..............................78........................710....................................................................................5........................................................................................6..................................................................5....................5..........................8..........................6....................................5..........................................5............................6........55............................................6....................................5....................5....................5..................................6..5..5..........................................7................................57..................................................5........................7......5....................................................5........................................56..........6..6..................5..6....6..................................965..........................................9..867........6..........................5......5............................................................................................................................................................................7................................6..8..............................5..........................................................56..................8................................6..............................55................................8................................................6....7............................7..65..................................7................5..........85............................................55....657......14..765108611158146..6....................7............................................................106..55..................................................6......................................5............................................5............................6..56......................................6....65..........................................................7....................................7..............................5............................5................................5....6..5....................................................................................5..............................................................................................................................................................55..................................................5....................................5................................................................................7..........................................................8....5................................................................................................................................9..5..5............................................................................................................6........................................................................................................................8............................................556..5..................................7....................................5..................................................................................6....7..........................................6655..............5....................................................................................................595....5..........................................76....5......................................5......................................................................................................................................................................................................5..8......................................................................................................................................................................5..5..............9..................................................................................................................................6..985..12..125..65..........................................................................................................................5............................................................................................................................................................................................................................................................................................................................................................................................................................................................................5..................................................................................................................5..........................................................................................................................................................5..................................5................................................................................................................................5....................................................................................................................5......................................................................................................5..................................................................................................................................................................................................................................................................................................9..55....................................8........5..............................5........................................5........................................................................................................................................................................................................................7..................................................................................................................................................................................................................................................................................................................................................................................................5..8..5........................................6................................6........................................7..........................................................................................................................................................55................................................................56........................66..............................................6..................................................................................5............6..............................75..6..........................................................6..6........................................................................................................5..............................55..................................................................................................................................5............................................................55..........................................................6................................7....5............................................................................................................5......6..........11........5..........................................................6..............................................................5....8......................................................5....66............................88....5..............................5............5................................................................................5......5............5......................................................................................................................................................5..................................................5....................................................................................................5..................................................................9..5....................................................................................................................................6..........................................................................................................................................6..5..5........................5..............................................................6............................65................6............................................................................5............................................................6..........................67..610................5..6..555......................5......67............................7............................................5......................6................................511......................8..7........................865......................5..............................................................8................................7....................5..56........................76........................115..5......................................................611............................8....................................9..77......................105......................................6......................5..............................................................8....5..........................5688................................................................................................5............................................6......................59........7..5............................................................................................................................5................................................................................................5..................9....12..................................................................5..................................11657................5........................................7..................................6..................................................................................................................................5........................................................5................................................656................................................5..5........................5............6..............................................................6......................5..................................6....................................................................................................................................................................................................................................5..................................................................................................5..................................5....................6..7....8......................56............................................................65................................................................................7........................................................................................................................................................................5............................5................5..66....................................................................6................7..8....6........................5......................5............................................................................................................................7................................................................................................6........................................................................................................................5..................................................................................................................................5................................................................................................................................................................................................................................................6......................................................5..........................................................................................................................................................................................................................................................6..................................6............................................................95................................................5..........................................................7......................................5........................................5....5................................5..............................................................................................................................................................................................5............................................................................................................95..............................................................................................................................................................................................................................................................................................................................................5......................................................................................................................................................................................................................5..................................6685....57..591166..65..........................................................................................................................................5..................................................................5....................................................................................................................................................................................................5......5......5............................................................................................................................................................................................................................................................6..................................5............................7........................................................................................................7....................................................................................................................................................................................................................................................................................................................................99....5..7..7..111056..5........7..67......................56................................................................................................................................................................................................6............................................5..........................................................5................................5..................................................................................................................................................................................................................................................................................................................................................................................................................................5................................................6........................................................................................................................................5..............................5..................................................................................................................................................................................................5555........5..............................................................6........................................5..............................................................................................................................................................5............................................................................................................................................................................................................7........................................................................................................................................................................................................5....................................................................................................................................................5..........5..................................5....................................................................65..........................7................................................................................................5....................................55............................................................................................................................................................................6............................5................................5................................................................................................5....5..7......5........5..5..........................................................9..........5..5..........................................................6............................................................................................................................................................................................................................5........................5..5....5........7................5....5....685565........5......666..........................5..........5....................................................................................................................................................5..........................................................................................................................................................................................5............................................................................................55....5..............................................................................................................................................................................................................................................................................................................5................................................................................................................................................................5........................................................7................................................................................5..................................................................5..7..............................................................................................................................................................................................................................................5....................................................................................8..................................................................................................................5..................................................5..6............................................................................................................................5..5..............................55..........................................................................................................................................................................................5..............................6............................................................................5............................................................................................................656....................5..................................................................................5............................................................5....................................5......................................57..........................99..............................................................7....75............8....7....................................................................................6..........................................559..6............................................95....5..................................................................................................................................85..................................................................6................................................................................................5............................6........................55..............................5............................5..................7..........................................................7........................................................................................................................................................................................................................................................................................................................................5................................6..5............................665..................................5..........................57......................................56..76....5..............................7................................................................................7..................................5....................................................................................................................................5....................................................................................................................5....................................................................5......................................................................................5..........................................................................................................6........................................................................................................................................................................................................................................................................................................................................................5................................5......................5..................................................................................................................................................................................................................................................6..............................5........7..5..........................................7................................................................6....................................................................................5......................................5..1279611975....61151385..7..............................................................6..........................................................5......................5..5..6......5..............5....5....................................................................................................................................................................6..............................59............................................5......................................................................5....................................................................................................................................................5..........................................................5..................................................................................................................................................................................................................................................................5................................................................................................................................................................................................................................................................................................................................................................5..............................................................................................5........5....105........6..5..............................5..6..........6......................................................................................................................................................\"],\"type\":\"pie\"}],                        {\"template\":{\"data\":{\"histogram2dcontour\":[{\"type\":\"histogram2dcontour\",\"colorbar\":{\"outlinewidth\":0,\"ticks\":\"\"},\"colorscale\":[[0.0,\"#0d0887\"],[0.1111111111111111,\"#46039f\"],[0.2222222222222222,\"#7201a8\"],[0.3333333333333333,\"#9c179e\"],[0.4444444444444444,\"#bd3786\"],[0.5555555555555556,\"#d8576b\"],[0.6666666666666666,\"#ed7953\"],[0.7777777777777778,\"#fb9f3a\"],[0.8888888888888888,\"#fdca26\"],[1.0,\"#f0f921\"]]}],\"choropleth\":[{\"type\":\"choropleth\",\"colorbar\":{\"outlinewidth\":0,\"ticks\":\"\"}}],\"histogram2d\":[{\"type\":\"histogram2d\",\"colorbar\":{\"outlinewidth\":0,\"ticks\":\"\"},\"colorscale\":[[0.0,\"#0d0887\"],[0.1111111111111111,\"#46039f\"],[0.2222222222222222,\"#7201a8\"],[0.3333333333333333,\"#9c179e\"],[0.4444444444444444,\"#bd3786\"],[0.5555555555555556,\"#d8576b\"],[0.6666666666666666,\"#ed7953\"],[0.7777777777777778,\"#fb9f3a\"],[0.8888888888888888,\"#fdca26\"],[1.0,\"#f0f921\"]]}],\"heatmap\":[{\"type\":\"heatmap\",\"colorbar\":{\"outlinewidth\":0,\"ticks\":\"\"},\"colorscale\":[[0.0,\"#0d0887\"],[0.1111111111111111,\"#46039f\"],[0.2222222222222222,\"#7201a8\"],[0.3333333333333333,\"#9c179e\"],[0.4444444444444444,\"#bd3786\"],[0.5555555555555556,\"#d8576b\"],[0.6666666666666666,\"#ed7953\"],[0.7777777777777778,\"#fb9f3a\"],[0.8888888888888888,\"#fdca26\"],[1.0,\"#f0f921\"]]}],\"heatmapgl\":[{\"type\":\"heatmapgl\",\"colorbar\":{\"outlinewidth\":0,\"ticks\":\"\"},\"colorscale\":[[0.0,\"#0d0887\"],[0.1111111111111111,\"#46039f\"],[0.2222222222222222,\"#7201a8\"],[0.3333333333333333,\"#9c179e\"],[0.4444444444444444,\"#bd3786\"],[0.5555555555555556,\"#d8576b\"],[0.6666666666666666,\"#ed7953\"],[0.7777777777777778,\"#fb9f3a\"],[0.8888888888888888,\"#fdca26\"],[1.0,\"#f0f921\"]]}],\"contourcarpet\":[{\"type\":\"contourcarpet\",\"colorbar\":{\"outlinewidth\":0,\"ticks\":\"\"}}],\"contour\":[{\"type\":\"contour\",\"colorbar\":{\"outlinewidth\":0,\"ticks\":\"\"},\"colorscale\":[[0.0,\"#0d0887\"],[0.1111111111111111,\"#46039f\"],[0.2222222222222222,\"#7201a8\"],[0.3333333333333333,\"#9c179e\"],[0.4444444444444444,\"#bd3786\"],[0.5555555555555556,\"#d8576b\"],[0.6666666666666666,\"#ed7953\"],[0.7777777777777778,\"#fb9f3a\"],[0.8888888888888888,\"#fdca26\"],[1.0,\"#f0f921\"]]}],\"surface\":[{\"type\":\"surface\",\"colorbar\":{\"outlinewidth\":0,\"ticks\":\"\"},\"colorscale\":[[0.0,\"#0d0887\"],[0.1111111111111111,\"#46039f\"],[0.2222222222222222,\"#7201a8\"],[0.3333333333333333,\"#9c179e\"],[0.4444444444444444,\"#bd3786\"],[0.5555555555555556,\"#d8576b\"],[0.6666666666666666,\"#ed7953\"],[0.7777777777777778,\"#fb9f3a\"],[0.8888888888888888,\"#fdca26\"],[1.0,\"#f0f921\"]]}],\"mesh3d\":[{\"type\":\"mesh3d\",\"colorbar\":{\"outlinewidth\":0,\"ticks\":\"\"}}],\"scatter\":[{\"fillpattern\":{\"fillmode\":\"overlay\",\"size\":10,\"solidity\":0.2},\"type\":\"scatter\"}],\"parcoords\":[{\"type\":\"parcoords\",\"line\":{\"colorbar\":{\"outlinewidth\":0,\"ticks\":\"\"}}}],\"scatterpolargl\":[{\"type\":\"scatterpolargl\",\"marker\":{\"colorbar\":{\"outlinewidth\":0,\"ticks\":\"\"}}}],\"bar\":[{\"error_x\":{\"color\":\"#2a3f5f\"},\"error_y\":{\"color\":\"#2a3f5f\"},\"marker\":{\"line\":{\"color\":\"#E5ECF6\",\"width\":0.5},\"pattern\":{\"fillmode\":\"overlay\",\"size\":10,\"solidity\":0.2}},\"type\":\"bar\"}],\"scattergeo\":[{\"type\":\"scattergeo\",\"marker\":{\"colorbar\":{\"outlinewidth\":0,\"ticks\":\"\"}}}],\"scatterpolar\":[{\"type\":\"scatterpolar\",\"marker\":{\"colorbar\":{\"outlinewidth\":0,\"ticks\":\"\"}}}],\"histogram\":[{\"marker\":{\"pattern\":{\"fillmode\":\"overlay\",\"size\":10,\"solidity\":0.2}},\"type\":\"histogram\"}],\"scattergl\":[{\"type\":\"scattergl\",\"marker\":{\"colorbar\":{\"outlinewidth\":0,\"ticks\":\"\"}}}],\"scatter3d\":[{\"type\":\"scatter3d\",\"line\":{\"colorbar\":{\"outlinewidth\":0,\"ticks\":\"\"}},\"marker\":{\"colorbar\":{\"outlinewidth\":0,\"ticks\":\"\"}}}],\"scattermapbox\":[{\"type\":\"scattermapbox\",\"marker\":{\"colorbar\":{\"outlinewidth\":0,\"ticks\":\"\"}}}],\"scatterternary\":[{\"type\":\"scatterternary\",\"marker\":{\"colorbar\":{\"outlinewidth\":0,\"ticks\":\"\"}}}],\"scattercarpet\":[{\"type\":\"scattercarpet\",\"marker\":{\"colorbar\":{\"outlinewidth\":0,\"ticks\":\"\"}}}],\"carpet\":[{\"aaxis\":{\"endlinecolor\":\"#2a3f5f\",\"gridcolor\":\"white\",\"linecolor\":\"white\",\"minorgridcolor\":\"white\",\"startlinecolor\":\"#2a3f5f\"},\"baxis\":{\"endlinecolor\":\"#2a3f5f\",\"gridcolor\":\"white\",\"linecolor\":\"white\",\"minorgridcolor\":\"white\",\"startlinecolor\":\"#2a3f5f\"},\"type\":\"carpet\"}],\"table\":[{\"cells\":{\"fill\":{\"color\":\"#EBF0F8\"},\"line\":{\"color\":\"white\"}},\"header\":{\"fill\":{\"color\":\"#C8D4E3\"},\"line\":{\"color\":\"white\"}},\"type\":\"table\"}],\"barpolar\":[{\"marker\":{\"line\":{\"color\":\"#E5ECF6\",\"width\":0.5},\"pattern\":{\"fillmode\":\"overlay\",\"size\":10,\"solidity\":0.2}},\"type\":\"barpolar\"}],\"pie\":[{\"automargin\":true,\"type\":\"pie\"}]},\"layout\":{\"autotypenumbers\":\"strict\",\"colorway\":[\"#636efa\",\"#EF553B\",\"#00cc96\",\"#ab63fa\",\"#FFA15A\",\"#19d3f3\",\"#FF6692\",\"#B6E880\",\"#FF97FF\",\"#FECB52\"],\"font\":{\"color\":\"#2a3f5f\"},\"hovermode\":\"closest\",\"hoverlabel\":{\"align\":\"left\"},\"paper_bgcolor\":\"white\",\"plot_bgcolor\":\"#E5ECF6\",\"polar\":{\"bgcolor\":\"#E5ECF6\",\"angularaxis\":{\"gridcolor\":\"white\",\"linecolor\":\"white\",\"ticks\":\"\"},\"radialaxis\":{\"gridcolor\":\"white\",\"linecolor\":\"white\",\"ticks\":\"\"}},\"ternary\":{\"bgcolor\":\"#E5ECF6\",\"aaxis\":{\"gridcolor\":\"white\",\"linecolor\":\"white\",\"ticks\":\"\"},\"baxis\":{\"gridcolor\":\"white\",\"linecolor\":\"white\",\"ticks\":\"\"},\"caxis\":{\"gridcolor\":\"white\",\"linecolor\":\"white\",\"ticks\":\"\"}},\"coloraxis\":{\"colorbar\":{\"outlinewidth\":0,\"ticks\":\"\"}},\"colorscale\":{\"sequential\":[[0.0,\"#0d0887\"],[0.1111111111111111,\"#46039f\"],[0.2222222222222222,\"#7201a8\"],[0.3333333333333333,\"#9c179e\"],[0.4444444444444444,\"#bd3786\"],[0.5555555555555556,\"#d8576b\"],[0.6666666666666666,\"#ed7953\"],[0.7777777777777778,\"#fb9f3a\"],[0.8888888888888888,\"#fdca26\"],[1.0,\"#f0f921\"]],\"sequentialminus\":[[0.0,\"#0d0887\"],[0.1111111111111111,\"#46039f\"],[0.2222222222222222,\"#7201a8\"],[0.3333333333333333,\"#9c179e\"],[0.4444444444444444,\"#bd3786\"],[0.5555555555555556,\"#d8576b\"],[0.6666666666666666,\"#ed7953\"],[0.7777777777777778,\"#fb9f3a\"],[0.8888888888888888,\"#fdca26\"],[1.0,\"#f0f921\"]],\"diverging\":[[0,\"#8e0152\"],[0.1,\"#c51b7d\"],[0.2,\"#de77ae\"],[0.3,\"#f1b6da\"],[0.4,\"#fde0ef\"],[0.5,\"#f7f7f7\"],[0.6,\"#e6f5d0\"],[0.7,\"#b8e186\"],[0.8,\"#7fbc41\"],[0.9,\"#4d9221\"],[1,\"#276419\"]]},\"xaxis\":{\"gridcolor\":\"white\",\"linecolor\":\"white\",\"ticks\":\"\",\"title\":{\"standoff\":15},\"zerolinecolor\":\"white\",\"automargin\":true,\"zerolinewidth\":2},\"yaxis\":{\"gridcolor\":\"white\",\"linecolor\":\"white\",\"ticks\":\"\",\"title\":{\"standoff\":15},\"zerolinecolor\":\"white\",\"automargin\":true,\"zerolinewidth\":2},\"scene\":{\"xaxis\":{\"backgroundcolor\":\"#E5ECF6\",\"gridcolor\":\"white\",\"linecolor\":\"white\",\"showbackground\":true,\"ticks\":\"\",\"zerolinecolor\":\"white\",\"gridwidth\":2},\"yaxis\":{\"backgroundcolor\":\"#E5ECF6\",\"gridcolor\":\"white\",\"linecolor\":\"white\",\"showbackground\":true,\"ticks\":\"\",\"zerolinecolor\":\"white\",\"gridwidth\":2},\"zaxis\":{\"backgroundcolor\":\"#E5ECF6\",\"gridcolor\":\"white\",\"linecolor\":\"white\",\"showbackground\":true,\"ticks\":\"\",\"zerolinecolor\":\"white\",\"gridwidth\":2}},\"shapedefaults\":{\"line\":{\"color\":\"#2a3f5f\"}},\"annotationdefaults\":{\"arrowcolor\":\"#2a3f5f\",\"arrowhead\":0,\"arrowwidth\":1},\"geo\":{\"bgcolor\":\"white\",\"landcolor\":\"#E5ECF6\",\"subunitcolor\":\"white\",\"showland\":true,\"showlakes\":true,\"lakecolor\":\"white\"},\"title\":{\"x\":0.05},\"mapbox\":{\"style\":\"light\"}}},\"legend\":{\"tracegroupgap\":0},\"title\":{\"text\":\"Barcelona: Nationality Distribution of Arriving Immigrants, 2023\"}},                        {\"responsive\": true}                    ).then(function(){\n",
       "                            \n",
       "var gd = document.getElementById('50ed76c2-81eb-4f61-9625-15d907e3febf');\n",
       "var x = new MutationObserver(function (mutations, observer) {{\n",
       "        var display = window.getComputedStyle(gd).display;\n",
       "        if (!display || display === 'none') {{\n",
       "            console.log([gd, 'removed!']);\n",
       "            Plotly.purge(gd);\n",
       "            observer.disconnect();\n",
       "        }}\n",
       "}});\n",
       "\n",
       "// Listen for the removal of the full notebook cells\n",
       "var notebookContainer = gd.closest('#notebook-container');\n",
       "if (notebookContainer) {{\n",
       "    x.observe(notebookContainer, {childList: true});\n",
       "}}\n",
       "\n",
       "// Listen for the clearing of the current output cell\n",
       "var outputEl = gd.closest('.output');\n",
       "if (outputEl) {{\n",
       "    x.observe(outputEl, {childList: true});\n",
       "}}\n",
       "\n",
       "                        })                };                });            </script>        </div>"
      ]
     },
     "metadata": {},
     "output_type": "display_data"
    }
   ],
   "source": [
    "# LOAD DATASET: Ajuntament de Barcelona \n",
    "# NAME FOR PANDAS:\n",
    "#                   bcn \n",
    "#\n",
    "bcn = pd.read_csv('./data/Barcelona_Immigration_City_Hall_2023.csv')\n",
    "#bcn.head(50)\n",
    "\n",
    "bcn['Number of People'] = pd.to_numeric(bcn['Valor'].replace('..', pd.NA), errors='coerce')\n",
    "\n",
    "# Younger than 30 column, modified for age range encodiing used by this dataset \n",
    "def age_status(age_code):\n",
    "    # age_code between 0 and 5 includes ages 0-29\n",
    "    if 0 <= age_code <= 5:\n",
    "        return 1\n",
    "    # age_code between 6 and 20 includes ages 30-100+\n",
    "    elif 6 <= age_code <= 20:\n",
    "        return 0\n",
    "    # age_code outside normal range returns -1, invalid \n",
    "    else:\n",
    "        return -1\n",
    "        \n",
    "#switches the sex encoding to match other datasets' values for confusion \n",
    "def sex_same(sex_code):\n",
    "    if 1:\n",
    "        return 0\n",
    "    elif 2: \n",
    "        return 1\n",
    "        \n",
    "bcn['Younger than 30'] = bcn['EDAT_Q'].apply(age_status)\n",
    "bcn['Sex'] = bcn['SEXE'].apply(lambda x: 0 if x == 1 else 1)\n",
    "bcn['Age Range'] = bcn['EDAT_Q']\n",
    "bcn['Nationality'] = bcn['NACIONALITAT_G']\n",
    "bcn['Nationality Label'] = bcn['Nationality'].map(nationality_names)\n",
    "\n",
    "nationality_counts = bcn.groupby('Nationality Label')['Valor'].sum().reset_index()\n",
    "nationality_counts.columns = ['Nationality', 'Count']\n",
    "\n",
    "print(nationality_counts)\n",
    "\n",
    "# delete irrelevant columns and those in Catalan\n",
    "columns_to_delete = ['Any', 'Codi_Districte', 'Nom_Districte', 'Codi_Barri', 'Nom_Barri', 'Valor', 'AEB', 'Seccio_Censal', 'EDAT_Q', 'SEXE', 'NACIONALITAT_G' ]\n",
    "bcn.drop(columns=columns_to_delete, inplace=True)\n",
    "fig = px.pie(nationality_counts, names='Nationality', values='Count',\n",
    "             title='Barcelona: Nationality Distribution of Arriving Immigrants, 2023',\n",
    "             labels={'Nationality': 'Nationality', 'Count': 'Count'},\n",
    "             hole=0.3)  # Use a hole for a donut chart, or set to 0 for a full pie chart\n",
    "\n",
    "# Show the chart\n",
    "fig.show()\n",
    "\n",
    "\n",
    "#print(\"There are \", len(bcn.axes[0]), \" entries in this dataset. \")\n",
    "#bcn.head(30)\n"
   ]
  },
  {
   "cell_type": "markdown",
   "id": "a8d59f28-204d-4933-bcdc-ac9a6d1ffa9b",
   "metadata": {},
   "source": [
    "\n",
    "### [Instituto Nacional de Estadística (National Statistics Institute): Living Conditions Survey (LCS), 2023, At Risk of Poverty of Social Exclusion (AROPE) by nationality]((https://ine.es/dyngs/INEbase/es/operacion.htm?c=Estadistica_C&cid=1254736176807&menu=ultiDatos&idp=1254735976608)\n",
    "\n",
    "This dataset reports the percentage of the population At Risk of Poverty or Social Exclusion (AROPE). This is a common term used in eurostat data, and it refers to a person who is falls under at least one of [three criteria](https://ec.europa.eu/eurostat/statistics-explained/index.php?title=Glossary:At_risk_of_poverty_or_social_exclusion_(AROPE)), indicating that they are at risk of poverty or the inability to participate in social, political and cultural. Specifically, it provides this information by nationality, which is what we're interested in as it indicates immigrant status. \n",
    "\n",
    "This dataset and its values have been modified from the original. Certain values have been changed to maintain consistency in this exploration, and translations from Spanish to English have been applied. **This data is at the national level**\n",
    "\n",
    "#### Encodings \n",
    "\n",
    "**Nationality**\n",
    "| Code    | Nationality |\n",
    "| -------- | ------- |\n",
    "| 1 | Spain  |\n",
    "| 2 | Rest of the EU     |\n",
    "| 3 | Rest of the world  |\n",
    "| 4 | No value     |\n",
    "| 5 | Total | \n",
    "\n",
    "**Percentage**\n",
    "\n",
    "A reformatted percentage value from 0 to 100, float. \n",
    "\n",
    "**Year** \n",
    "\n",
    "The calendar year. Ranges from 2014 to 2023. "
   ]
  },
  {
   "cell_type": "code",
   "execution_count": 54,
   "id": "612cbdc5-cba5-4329-9dcf-8b7798c8628c",
   "metadata": {},
   "outputs": [
    {
     "name": "stdout",
     "output_type": "stream",
     "text": [
      "Rate of risk of poverty or social exclusion (Europe 2030 objective) (and its components)\n"
     ]
    },
    {
     "data": {
      "text/html": [
       "<div>\n",
       "<style scoped>\n",
       "    .dataframe tbody tr th:only-of-type {\n",
       "        vertical-align: middle;\n",
       "    }\n",
       "\n",
       "    .dataframe tbody tr th {\n",
       "        vertical-align: top;\n",
       "    }\n",
       "\n",
       "    .dataframe thead th {\n",
       "        text-align: right;\n",
       "    }\n",
       "</style>\n",
       "<table border=\"1\" class=\"dataframe\">\n",
       "  <thead>\n",
       "    <tr style=\"text-align: right;\">\n",
       "      <th></th>\n",
       "      <th>Nationality</th>\n",
       "      <th>Percentage</th>\n",
       "      <th>Year</th>\n",
       "    </tr>\n",
       "  </thead>\n",
       "  <tbody>\n",
       "    <tr>\n",
       "      <th>0</th>\n",
       "      <td>5</td>\n",
       "      <td>25.2</td>\n",
       "      <td>2023</td>\n",
       "    </tr>\n",
       "    <tr>\n",
       "      <th>1</th>\n",
       "      <td>5</td>\n",
       "      <td>24.9</td>\n",
       "      <td>2022</td>\n",
       "    </tr>\n",
       "    <tr>\n",
       "      <th>2</th>\n",
       "      <td>5</td>\n",
       "      <td>26.9</td>\n",
       "      <td>2021</td>\n",
       "    </tr>\n",
       "    <tr>\n",
       "      <th>3</th>\n",
       "      <td>5</td>\n",
       "      <td>26.1</td>\n",
       "      <td>2020</td>\n",
       "    </tr>\n",
       "    <tr>\n",
       "      <th>4</th>\n",
       "      <td>5</td>\n",
       "      <td>25.3</td>\n",
       "      <td>2019</td>\n",
       "    </tr>\n",
       "    <tr>\n",
       "      <th>5</th>\n",
       "      <td>5</td>\n",
       "      <td>26.8</td>\n",
       "      <td>2018</td>\n",
       "    </tr>\n",
       "    <tr>\n",
       "      <th>6</th>\n",
       "      <td>5</td>\n",
       "      <td>26.7</td>\n",
       "      <td>2017</td>\n",
       "    </tr>\n",
       "    <tr>\n",
       "      <th>7</th>\n",
       "      <td>5</td>\n",
       "      <td>28.1</td>\n",
       "      <td>2016</td>\n",
       "    </tr>\n",
       "    <tr>\n",
       "      <th>8</th>\n",
       "      <td>5</td>\n",
       "      <td>28.0</td>\n",
       "      <td>2015</td>\n",
       "    </tr>\n",
       "    <tr>\n",
       "      <th>9</th>\n",
       "      <td>5</td>\n",
       "      <td>29.2</td>\n",
       "      <td>2014</td>\n",
       "    </tr>\n",
       "  </tbody>\n",
       "</table>\n",
       "</div>"
      ],
      "text/plain": [
       "   Nationality  Percentage  Year\n",
       "0            5        25.2  2023\n",
       "1            5        24.9  2022\n",
       "2            5        26.9  2021\n",
       "3            5        26.1  2020\n",
       "4            5        25.3  2019\n",
       "5            5        26.8  2018\n",
       "6            5        26.7  2017\n",
       "7            5        28.1  2016\n",
       "8            5        28.0  2015\n",
       "9            5        29.2  2014"
      ]
     },
     "execution_count": 54,
     "metadata": {},
     "output_type": "execute_result"
    }
   ],
   "source": [
    "# LOAD DATASET: Instituto Nacional de Estadística, LCS\n",
    "# NAME FOR PANDAS:\n",
    "#                   arope \n",
    "#\n",
    "\n",
    "arope = pd.read_csv('./data/Spain_Statistics_AROPE_by_NATIONALITY.csv')\n",
    "print(\"Rate of risk of poverty or social exclusion (Europe 2030 objective) (and its components)\")\n",
    "\n",
    "#Make consistent with nationality encoding in this document\n",
    "def nationality(nationality):\n",
    "    if nationality == 'Española':\n",
    "        return 1\n",
    "    elif nationality == 'Extranjera (Unión Europea)':\n",
    "        return 2\n",
    "    elif nationality == 'Extranjera (Resto del mundo)':\n",
    "        return 3\n",
    "    elif nationality == 'No consta':\n",
    "        return 4\n",
    "    else:\n",
    "        return 5\n",
    "arope['Nationality'] = arope['Nacionalidad'].apply(nationality)\n",
    "\n",
    "def replace_commas_with_dots(percent_str):\n",
    "    try:\n",
    "        formatted =  percent_str.replace(',', '.') #converts to U.S. conventions\n",
    "        return float(formatted) #converts to float for graphical representations\n",
    "    except ValueError:\n",
    "        return -1 #some values were not inputted and can't be cast to float\n",
    "\n",
    "arope['Percentage'] = arope['Total'].apply(replace_commas_with_dots)\n",
    "arope['Year'] = arope['Periodo']\n",
    "\n",
    "\n",
    "columns_to_delete = ['Nacionalidad', 'Tasa de riesgo de pobreza o exclusión social (objetivo Europa 2030) (y sus componentes)', 'Total', 'Periodo']\n",
    "arope.drop(columns=columns_to_delete, inplace=True)\n",
    "\n",
    "arope.head(10)\n"
   ]
  },
  {
   "cell_type": "markdown",
   "id": "75107e9d-0b0c-4ae6-ae7e-ca1f5ec77fe9",
   "metadata": {},
   "source": [
    "## Results\n",
    "\n",
    "### Visualizations"
   ]
  },
  {
   "cell_type": "code",
   "execution_count": 10,
   "id": "7c520bc5-b9b5-4170-99e4-433d0baa0e92",
   "metadata": {},
   "outputs": [],
   "source": [
    "# GLOBALS\n",
    "nationality_names = {\n",
    "    1: 'Spain',\n",
    "    2: 'Rest of the European Union',\n",
    "    3: 'Rest of the World',\n",
    "    4: 'No Value', \n",
    "    5: 'Total'\n",
    "}\n"
   ]
  },
  {
   "cell_type": "code",
   "execution_count": 76,
   "id": "75e52076-7bca-4898-b728-7cf2c03d94c1",
   "metadata": {},
   "outputs": [
    {
     "data": {
      "application/vnd.plotly.v1+json": {
       "config": {
        "plotlyServerURL": "https://plot.ly"
       },
       "data": [
        {
         "domain": {
          "x": [
           0,
           1
          ],
          "y": [
           0,
           1
          ]
         },
         "hole": 0.3,
         "hovertemplate": "Nationality=%{label}<br>Count=%{value}<extra></extra>",
         "labels": [
          "Rest of the World",
          "Spain",
          "Rest of the European Union"
         ],
         "legendgroup": "",
         "name": "",
         "showlegend": true,
         "type": "pie",
         "values": [
          1265,
          77,
          47
         ]
        }
       ],
       "layout": {
        "autosize": true,
        "legend": {
         "tracegroupgap": 0
        },
        "template": {
         "data": {
          "bar": [
           {
            "error_x": {
             "color": "#2a3f5f"
            },
            "error_y": {
             "color": "#2a3f5f"
            },
            "marker": {
             "line": {
              "color": "#E5ECF6",
              "width": 0.5
             },
             "pattern": {
              "fillmode": "overlay",
              "size": 10,
              "solidity": 0.2
             }
            },
            "type": "bar"
           }
          ],
          "barpolar": [
           {
            "marker": {
             "line": {
              "color": "#E5ECF6",
              "width": 0.5
             },
             "pattern": {
              "fillmode": "overlay",
              "size": 10,
              "solidity": 0.2
             }
            },
            "type": "barpolar"
           }
          ],
          "carpet": [
           {
            "aaxis": {
             "endlinecolor": "#2a3f5f",
             "gridcolor": "white",
             "linecolor": "white",
             "minorgridcolor": "white",
             "startlinecolor": "#2a3f5f"
            },
            "baxis": {
             "endlinecolor": "#2a3f5f",
             "gridcolor": "white",
             "linecolor": "white",
             "minorgridcolor": "white",
             "startlinecolor": "#2a3f5f"
            },
            "type": "carpet"
           }
          ],
          "choropleth": [
           {
            "colorbar": {
             "outlinewidth": 0,
             "ticks": ""
            },
            "type": "choropleth"
           }
          ],
          "contour": [
           {
            "colorbar": {
             "outlinewidth": 0,
             "ticks": ""
            },
            "colorscale": [
             [
              0,
              "#0d0887"
             ],
             [
              0.1111111111111111,
              "#46039f"
             ],
             [
              0.2222222222222222,
              "#7201a8"
             ],
             [
              0.3333333333333333,
              "#9c179e"
             ],
             [
              0.4444444444444444,
              "#bd3786"
             ],
             [
              0.5555555555555556,
              "#d8576b"
             ],
             [
              0.6666666666666666,
              "#ed7953"
             ],
             [
              0.7777777777777778,
              "#fb9f3a"
             ],
             [
              0.8888888888888888,
              "#fdca26"
             ],
             [
              1,
              "#f0f921"
             ]
            ],
            "type": "contour"
           }
          ],
          "contourcarpet": [
           {
            "colorbar": {
             "outlinewidth": 0,
             "ticks": ""
            },
            "type": "contourcarpet"
           }
          ],
          "heatmap": [
           {
            "colorbar": {
             "outlinewidth": 0,
             "ticks": ""
            },
            "colorscale": [
             [
              0,
              "#0d0887"
             ],
             [
              0.1111111111111111,
              "#46039f"
             ],
             [
              0.2222222222222222,
              "#7201a8"
             ],
             [
              0.3333333333333333,
              "#9c179e"
             ],
             [
              0.4444444444444444,
              "#bd3786"
             ],
             [
              0.5555555555555556,
              "#d8576b"
             ],
             [
              0.6666666666666666,
              "#ed7953"
             ],
             [
              0.7777777777777778,
              "#fb9f3a"
             ],
             [
              0.8888888888888888,
              "#fdca26"
             ],
             [
              1,
              "#f0f921"
             ]
            ],
            "type": "heatmap"
           }
          ],
          "heatmapgl": [
           {
            "colorbar": {
             "outlinewidth": 0,
             "ticks": ""
            },
            "colorscale": [
             [
              0,
              "#0d0887"
             ],
             [
              0.1111111111111111,
              "#46039f"
             ],
             [
              0.2222222222222222,
              "#7201a8"
             ],
             [
              0.3333333333333333,
              "#9c179e"
             ],
             [
              0.4444444444444444,
              "#bd3786"
             ],
             [
              0.5555555555555556,
              "#d8576b"
             ],
             [
              0.6666666666666666,
              "#ed7953"
             ],
             [
              0.7777777777777778,
              "#fb9f3a"
             ],
             [
              0.8888888888888888,
              "#fdca26"
             ],
             [
              1,
              "#f0f921"
             ]
            ],
            "type": "heatmapgl"
           }
          ],
          "histogram": [
           {
            "marker": {
             "pattern": {
              "fillmode": "overlay",
              "size": 10,
              "solidity": 0.2
             }
            },
            "type": "histogram"
           }
          ],
          "histogram2d": [
           {
            "colorbar": {
             "outlinewidth": 0,
             "ticks": ""
            },
            "colorscale": [
             [
              0,
              "#0d0887"
             ],
             [
              0.1111111111111111,
              "#46039f"
             ],
             [
              0.2222222222222222,
              "#7201a8"
             ],
             [
              0.3333333333333333,
              "#9c179e"
             ],
             [
              0.4444444444444444,
              "#bd3786"
             ],
             [
              0.5555555555555556,
              "#d8576b"
             ],
             [
              0.6666666666666666,
              "#ed7953"
             ],
             [
              0.7777777777777778,
              "#fb9f3a"
             ],
             [
              0.8888888888888888,
              "#fdca26"
             ],
             [
              1,
              "#f0f921"
             ]
            ],
            "type": "histogram2d"
           }
          ],
          "histogram2dcontour": [
           {
            "colorbar": {
             "outlinewidth": 0,
             "ticks": ""
            },
            "colorscale": [
             [
              0,
              "#0d0887"
             ],
             [
              0.1111111111111111,
              "#46039f"
             ],
             [
              0.2222222222222222,
              "#7201a8"
             ],
             [
              0.3333333333333333,
              "#9c179e"
             ],
             [
              0.4444444444444444,
              "#bd3786"
             ],
             [
              0.5555555555555556,
              "#d8576b"
             ],
             [
              0.6666666666666666,
              "#ed7953"
             ],
             [
              0.7777777777777778,
              "#fb9f3a"
             ],
             [
              0.8888888888888888,
              "#fdca26"
             ],
             [
              1,
              "#f0f921"
             ]
            ],
            "type": "histogram2dcontour"
           }
          ],
          "mesh3d": [
           {
            "colorbar": {
             "outlinewidth": 0,
             "ticks": ""
            },
            "type": "mesh3d"
           }
          ],
          "parcoords": [
           {
            "line": {
             "colorbar": {
              "outlinewidth": 0,
              "ticks": ""
             }
            },
            "type": "parcoords"
           }
          ],
          "pie": [
           {
            "automargin": true,
            "type": "pie"
           }
          ],
          "scatter": [
           {
            "fillpattern": {
             "fillmode": "overlay",
             "size": 10,
             "solidity": 0.2
            },
            "type": "scatter"
           }
          ],
          "scatter3d": [
           {
            "line": {
             "colorbar": {
              "outlinewidth": 0,
              "ticks": ""
             }
            },
            "marker": {
             "colorbar": {
              "outlinewidth": 0,
              "ticks": ""
             }
            },
            "type": "scatter3d"
           }
          ],
          "scattercarpet": [
           {
            "marker": {
             "colorbar": {
              "outlinewidth": 0,
              "ticks": ""
             }
            },
            "type": "scattercarpet"
           }
          ],
          "scattergeo": [
           {
            "marker": {
             "colorbar": {
              "outlinewidth": 0,
              "ticks": ""
             }
            },
            "type": "scattergeo"
           }
          ],
          "scattergl": [
           {
            "marker": {
             "colorbar": {
              "outlinewidth": 0,
              "ticks": ""
             }
            },
            "type": "scattergl"
           }
          ],
          "scattermapbox": [
           {
            "marker": {
             "colorbar": {
              "outlinewidth": 0,
              "ticks": ""
             }
            },
            "type": "scattermapbox"
           }
          ],
          "scatterpolar": [
           {
            "marker": {
             "colorbar": {
              "outlinewidth": 0,
              "ticks": ""
             }
            },
            "type": "scatterpolar"
           }
          ],
          "scatterpolargl": [
           {
            "marker": {
             "colorbar": {
              "outlinewidth": 0,
              "ticks": ""
             }
            },
            "type": "scatterpolargl"
           }
          ],
          "scatterternary": [
           {
            "marker": {
             "colorbar": {
              "outlinewidth": 0,
              "ticks": ""
             }
            },
            "type": "scatterternary"
           }
          ],
          "surface": [
           {
            "colorbar": {
             "outlinewidth": 0,
             "ticks": ""
            },
            "colorscale": [
             [
              0,
              "#0d0887"
             ],
             [
              0.1111111111111111,
              "#46039f"
             ],
             [
              0.2222222222222222,
              "#7201a8"
             ],
             [
              0.3333333333333333,
              "#9c179e"
             ],
             [
              0.4444444444444444,
              "#bd3786"
             ],
             [
              0.5555555555555556,
              "#d8576b"
             ],
             [
              0.6666666666666666,
              "#ed7953"
             ],
             [
              0.7777777777777778,
              "#fb9f3a"
             ],
             [
              0.8888888888888888,
              "#fdca26"
             ],
             [
              1,
              "#f0f921"
             ]
            ],
            "type": "surface"
           }
          ],
          "table": [
           {
            "cells": {
             "fill": {
              "color": "#EBF0F8"
             },
             "line": {
              "color": "white"
             }
            },
            "header": {
             "fill": {
              "color": "#C8D4E3"
             },
             "line": {
              "color": "white"
             }
            },
            "type": "table"
           }
          ]
         },
         "layout": {
          "annotationdefaults": {
           "arrowcolor": "#2a3f5f",
           "arrowhead": 0,
           "arrowwidth": 1
          },
          "autotypenumbers": "strict",
          "coloraxis": {
           "colorbar": {
            "outlinewidth": 0,
            "ticks": ""
           }
          },
          "colorscale": {
           "diverging": [
            [
             0,
             "#8e0152"
            ],
            [
             0.1,
             "#c51b7d"
            ],
            [
             0.2,
             "#de77ae"
            ],
            [
             0.3,
             "#f1b6da"
            ],
            [
             0.4,
             "#fde0ef"
            ],
            [
             0.5,
             "#f7f7f7"
            ],
            [
             0.6,
             "#e6f5d0"
            ],
            [
             0.7,
             "#b8e186"
            ],
            [
             0.8,
             "#7fbc41"
            ],
            [
             0.9,
             "#4d9221"
            ],
            [
             1,
             "#276419"
            ]
           ],
           "sequential": [
            [
             0,
             "#0d0887"
            ],
            [
             0.1111111111111111,
             "#46039f"
            ],
            [
             0.2222222222222222,
             "#7201a8"
            ],
            [
             0.3333333333333333,
             "#9c179e"
            ],
            [
             0.4444444444444444,
             "#bd3786"
            ],
            [
             0.5555555555555556,
             "#d8576b"
            ],
            [
             0.6666666666666666,
             "#ed7953"
            ],
            [
             0.7777777777777778,
             "#fb9f3a"
            ],
            [
             0.8888888888888888,
             "#fdca26"
            ],
            [
             1,
             "#f0f921"
            ]
           ],
           "sequentialminus": [
            [
             0,
             "#0d0887"
            ],
            [
             0.1111111111111111,
             "#46039f"
            ],
            [
             0.2222222222222222,
             "#7201a8"
            ],
            [
             0.3333333333333333,
             "#9c179e"
            ],
            [
             0.4444444444444444,
             "#bd3786"
            ],
            [
             0.5555555555555556,
             "#d8576b"
            ],
            [
             0.6666666666666666,
             "#ed7953"
            ],
            [
             0.7777777777777778,
             "#fb9f3a"
            ],
            [
             0.8888888888888888,
             "#fdca26"
            ],
            [
             1,
             "#f0f921"
            ]
           ]
          },
          "colorway": [
           "#636efa",
           "#EF553B",
           "#00cc96",
           "#ab63fa",
           "#FFA15A",
           "#19d3f3",
           "#FF6692",
           "#B6E880",
           "#FF97FF",
           "#FECB52"
          ],
          "font": {
           "color": "#2a3f5f"
          },
          "geo": {
           "bgcolor": "white",
           "lakecolor": "white",
           "landcolor": "#E5ECF6",
           "showlakes": true,
           "showland": true,
           "subunitcolor": "white"
          },
          "hoverlabel": {
           "align": "left"
          },
          "hovermode": "closest",
          "mapbox": {
           "style": "light"
          },
          "paper_bgcolor": "white",
          "plot_bgcolor": "#E5ECF6",
          "polar": {
           "angularaxis": {
            "gridcolor": "white",
            "linecolor": "white",
            "ticks": ""
           },
           "bgcolor": "#E5ECF6",
           "radialaxis": {
            "gridcolor": "white",
            "linecolor": "white",
            "ticks": ""
           }
          },
          "scene": {
           "xaxis": {
            "backgroundcolor": "#E5ECF6",
            "gridcolor": "white",
            "gridwidth": 2,
            "linecolor": "white",
            "showbackground": true,
            "ticks": "",
            "zerolinecolor": "white"
           },
           "yaxis": {
            "backgroundcolor": "#E5ECF6",
            "gridcolor": "white",
            "gridwidth": 2,
            "linecolor": "white",
            "showbackground": true,
            "ticks": "",
            "zerolinecolor": "white"
           },
           "zaxis": {
            "backgroundcolor": "#E5ECF6",
            "gridcolor": "white",
            "gridwidth": 2,
            "linecolor": "white",
            "showbackground": true,
            "ticks": "",
            "zerolinecolor": "white"
           }
          },
          "shapedefaults": {
           "line": {
            "color": "#2a3f5f"
           }
          },
          "ternary": {
           "aaxis": {
            "gridcolor": "white",
            "linecolor": "white",
            "ticks": ""
           },
           "baxis": {
            "gridcolor": "white",
            "linecolor": "white",
            "ticks": ""
           },
           "bgcolor": "#E5ECF6",
           "caxis": {
            "gridcolor": "white",
            "linecolor": "white",
            "ticks": ""
           }
          },
          "title": {
           "x": 0.05
          },
          "xaxis": {
           "automargin": true,
           "gridcolor": "white",
           "linecolor": "white",
           "ticks": "",
           "title": {
            "standoff": 15
           },
           "zerolinecolor": "white",
           "zerolinewidth": 2
          },
          "yaxis": {
           "automargin": true,
           "gridcolor": "white",
           "linecolor": "white",
           "ticks": "",
           "title": {
            "standoff": 15
           },
           "zerolinecolor": "white",
           "zerolinewidth": 2
          }
         }
        },
        "title": {
         "text": "Migracode Students: Nationality Distribution 2021-2024"
        }
       }
      },
      "image/png": "[encoded data removed]",
      "text/html": [
       "<div>                            <div id=\"9ea3755b-9cc2-4e3a-8bc2-9a121047346e\" class=\"plotly-graph-div\" style=\"height:525px; width:100%;\"></div>            <script type=\"text/javascript\">                require([\"plotly\"], function(Plotly) {                    window.PLOTLYENV=window.PLOTLYENV || {};                                    if (document.getElementById(\"9ea3755b-9cc2-4e3a-8bc2-9a121047346e\")) {                    Plotly.newPlot(                        \"9ea3755b-9cc2-4e3a-8bc2-9a121047346e\",                        [{\"domain\":{\"x\":[0.0,1.0],\"y\":[0.0,1.0]},\"hole\":0.3,\"hovertemplate\":\"Nationality=%{label}<br>Count=%{value}<extra></extra>\",\"labels\":[\"Rest of the World\",\"Spain\",\"Rest of the European Union\"],\"legendgroup\":\"\",\"name\":\"\",\"showlegend\":true,\"values\":[1265,77,47],\"type\":\"pie\"}],                        {\"template\":{\"data\":{\"histogram2dcontour\":[{\"type\":\"histogram2dcontour\",\"colorbar\":{\"outlinewidth\":0,\"ticks\":\"\"},\"colorscale\":[[0.0,\"#0d0887\"],[0.1111111111111111,\"#46039f\"],[0.2222222222222222,\"#7201a8\"],[0.3333333333333333,\"#9c179e\"],[0.4444444444444444,\"#bd3786\"],[0.5555555555555556,\"#d8576b\"],[0.6666666666666666,\"#ed7953\"],[0.7777777777777778,\"#fb9f3a\"],[0.8888888888888888,\"#fdca26\"],[1.0,\"#f0f921\"]]}],\"choropleth\":[{\"type\":\"choropleth\",\"colorbar\":{\"outlinewidth\":0,\"ticks\":\"\"}}],\"histogram2d\":[{\"type\":\"histogram2d\",\"colorbar\":{\"outlinewidth\":0,\"ticks\":\"\"},\"colorscale\":[[0.0,\"#0d0887\"],[0.1111111111111111,\"#46039f\"],[0.2222222222222222,\"#7201a8\"],[0.3333333333333333,\"#9c179e\"],[0.4444444444444444,\"#bd3786\"],[0.5555555555555556,\"#d8576b\"],[0.6666666666666666,\"#ed7953\"],[0.7777777777777778,\"#fb9f3a\"],[0.8888888888888888,\"#fdca26\"],[1.0,\"#f0f921\"]]}],\"heatmap\":[{\"type\":\"heatmap\",\"colorbar\":{\"outlinewidth\":0,\"ticks\":\"\"},\"colorscale\":[[0.0,\"#0d0887\"],[0.1111111111111111,\"#46039f\"],[0.2222222222222222,\"#7201a8\"],[0.3333333333333333,\"#9c179e\"],[0.4444444444444444,\"#bd3786\"],[0.5555555555555556,\"#d8576b\"],[0.6666666666666666,\"#ed7953\"],[0.7777777777777778,\"#fb9f3a\"],[0.8888888888888888,\"#fdca26\"],[1.0,\"#f0f921\"]]}],\"heatmapgl\":[{\"type\":\"heatmapgl\",\"colorbar\":{\"outlinewidth\":0,\"ticks\":\"\"},\"colorscale\":[[0.0,\"#0d0887\"],[0.1111111111111111,\"#46039f\"],[0.2222222222222222,\"#7201a8\"],[0.3333333333333333,\"#9c179e\"],[0.4444444444444444,\"#bd3786\"],[0.5555555555555556,\"#d8576b\"],[0.6666666666666666,\"#ed7953\"],[0.7777777777777778,\"#fb9f3a\"],[0.8888888888888888,\"#fdca26\"],[1.0,\"#f0f921\"]]}],\"contourcarpet\":[{\"type\":\"contourcarpet\",\"colorbar\":{\"outlinewidth\":0,\"ticks\":\"\"}}],\"contour\":[{\"type\":\"contour\",\"colorbar\":{\"outlinewidth\":0,\"ticks\":\"\"},\"colorscale\":[[0.0,\"#0d0887\"],[0.1111111111111111,\"#46039f\"],[0.2222222222222222,\"#7201a8\"],[0.3333333333333333,\"#9c179e\"],[0.4444444444444444,\"#bd3786\"],[0.5555555555555556,\"#d8576b\"],[0.6666666666666666,\"#ed7953\"],[0.7777777777777778,\"#fb9f3a\"],[0.8888888888888888,\"#fdca26\"],[1.0,\"#f0f921\"]]}],\"surface\":[{\"type\":\"surface\",\"colorbar\":{\"outlinewidth\":0,\"ticks\":\"\"},\"colorscale\":[[0.0,\"#0d0887\"],[0.1111111111111111,\"#46039f\"],[0.2222222222222222,\"#7201a8\"],[0.3333333333333333,\"#9c179e\"],[0.4444444444444444,\"#bd3786\"],[0.5555555555555556,\"#d8576b\"],[0.6666666666666666,\"#ed7953\"],[0.7777777777777778,\"#fb9f3a\"],[0.8888888888888888,\"#fdca26\"],[1.0,\"#f0f921\"]]}],\"mesh3d\":[{\"type\":\"mesh3d\",\"colorbar\":{\"outlinewidth\":0,\"ticks\":\"\"}}],\"scatter\":[{\"fillpattern\":{\"fillmode\":\"overlay\",\"size\":10,\"solidity\":0.2},\"type\":\"scatter\"}],\"parcoords\":[{\"type\":\"parcoords\",\"line\":{\"colorbar\":{\"outlinewidth\":0,\"ticks\":\"\"}}}],\"scatterpolargl\":[{\"type\":\"scatterpolargl\",\"marker\":{\"colorbar\":{\"outlinewidth\":0,\"ticks\":\"\"}}}],\"bar\":[{\"error_x\":{\"color\":\"#2a3f5f\"},\"error_y\":{\"color\":\"#2a3f5f\"},\"marker\":{\"line\":{\"color\":\"#E5ECF6\",\"width\":0.5},\"pattern\":{\"fillmode\":\"overlay\",\"size\":10,\"solidity\":0.2}},\"type\":\"bar\"}],\"scattergeo\":[{\"type\":\"scattergeo\",\"marker\":{\"colorbar\":{\"outlinewidth\":0,\"ticks\":\"\"}}}],\"scatterpolar\":[{\"type\":\"scatterpolar\",\"marker\":{\"colorbar\":{\"outlinewidth\":0,\"ticks\":\"\"}}}],\"histogram\":[{\"marker\":{\"pattern\":{\"fillmode\":\"overlay\",\"size\":10,\"solidity\":0.2}},\"type\":\"histogram\"}],\"scattergl\":[{\"type\":\"scattergl\",\"marker\":{\"colorbar\":{\"outlinewidth\":0,\"ticks\":\"\"}}}],\"scatter3d\":[{\"type\":\"scatter3d\",\"line\":{\"colorbar\":{\"outlinewidth\":0,\"ticks\":\"\"}},\"marker\":{\"colorbar\":{\"outlinewidth\":0,\"ticks\":\"\"}}}],\"scattermapbox\":[{\"type\":\"scattermapbox\",\"marker\":{\"colorbar\":{\"outlinewidth\":0,\"ticks\":\"\"}}}],\"scatterternary\":[{\"type\":\"scatterternary\",\"marker\":{\"colorbar\":{\"outlinewidth\":0,\"ticks\":\"\"}}}],\"scattercarpet\":[{\"type\":\"scattercarpet\",\"marker\":{\"colorbar\":{\"outlinewidth\":0,\"ticks\":\"\"}}}],\"carpet\":[{\"aaxis\":{\"endlinecolor\":\"#2a3f5f\",\"gridcolor\":\"white\",\"linecolor\":\"white\",\"minorgridcolor\":\"white\",\"startlinecolor\":\"#2a3f5f\"},\"baxis\":{\"endlinecolor\":\"#2a3f5f\",\"gridcolor\":\"white\",\"linecolor\":\"white\",\"minorgridcolor\":\"white\",\"startlinecolor\":\"#2a3f5f\"},\"type\":\"carpet\"}],\"table\":[{\"cells\":{\"fill\":{\"color\":\"#EBF0F8\"},\"line\":{\"color\":\"white\"}},\"header\":{\"fill\":{\"color\":\"#C8D4E3\"},\"line\":{\"color\":\"white\"}},\"type\":\"table\"}],\"barpolar\":[{\"marker\":{\"line\":{\"color\":\"#E5ECF6\",\"width\":0.5},\"pattern\":{\"fillmode\":\"overlay\",\"size\":10,\"solidity\":0.2}},\"type\":\"barpolar\"}],\"pie\":[{\"automargin\":true,\"type\":\"pie\"}]},\"layout\":{\"autotypenumbers\":\"strict\",\"colorway\":[\"#636efa\",\"#EF553B\",\"#00cc96\",\"#ab63fa\",\"#FFA15A\",\"#19d3f3\",\"#FF6692\",\"#B6E880\",\"#FF97FF\",\"#FECB52\"],\"font\":{\"color\":\"#2a3f5f\"},\"hovermode\":\"closest\",\"hoverlabel\":{\"align\":\"left\"},\"paper_bgcolor\":\"white\",\"plot_bgcolor\":\"#E5ECF6\",\"polar\":{\"bgcolor\":\"#E5ECF6\",\"angularaxis\":{\"gridcolor\":\"white\",\"linecolor\":\"white\",\"ticks\":\"\"},\"radialaxis\":{\"gridcolor\":\"white\",\"linecolor\":\"white\",\"ticks\":\"\"}},\"ternary\":{\"bgcolor\":\"#E5ECF6\",\"aaxis\":{\"gridcolor\":\"white\",\"linecolor\":\"white\",\"ticks\":\"\"},\"baxis\":{\"gridcolor\":\"white\",\"linecolor\":\"white\",\"ticks\":\"\"},\"caxis\":{\"gridcolor\":\"white\",\"linecolor\":\"white\",\"ticks\":\"\"}},\"coloraxis\":{\"colorbar\":{\"outlinewidth\":0,\"ticks\":\"\"}},\"colorscale\":{\"sequential\":[[0.0,\"#0d0887\"],[0.1111111111111111,\"#46039f\"],[0.2222222222222222,\"#7201a8\"],[0.3333333333333333,\"#9c179e\"],[0.4444444444444444,\"#bd3786\"],[0.5555555555555556,\"#d8576b\"],[0.6666666666666666,\"#ed7953\"],[0.7777777777777778,\"#fb9f3a\"],[0.8888888888888888,\"#fdca26\"],[1.0,\"#f0f921\"]],\"sequentialminus\":[[0.0,\"#0d0887\"],[0.1111111111111111,\"#46039f\"],[0.2222222222222222,\"#7201a8\"],[0.3333333333333333,\"#9c179e\"],[0.4444444444444444,\"#bd3786\"],[0.5555555555555556,\"#d8576b\"],[0.6666666666666666,\"#ed7953\"],[0.7777777777777778,\"#fb9f3a\"],[0.8888888888888888,\"#fdca26\"],[1.0,\"#f0f921\"]],\"diverging\":[[0,\"#8e0152\"],[0.1,\"#c51b7d\"],[0.2,\"#de77ae\"],[0.3,\"#f1b6da\"],[0.4,\"#fde0ef\"],[0.5,\"#f7f7f7\"],[0.6,\"#e6f5d0\"],[0.7,\"#b8e186\"],[0.8,\"#7fbc41\"],[0.9,\"#4d9221\"],[1,\"#276419\"]]},\"xaxis\":{\"gridcolor\":\"white\",\"linecolor\":\"white\",\"ticks\":\"\",\"title\":{\"standoff\":15},\"zerolinecolor\":\"white\",\"automargin\":true,\"zerolinewidth\":2},\"yaxis\":{\"gridcolor\":\"white\",\"linecolor\":\"white\",\"ticks\":\"\",\"title\":{\"standoff\":15},\"zerolinecolor\":\"white\",\"automargin\":true,\"zerolinewidth\":2},\"scene\":{\"xaxis\":{\"backgroundcolor\":\"#E5ECF6\",\"gridcolor\":\"white\",\"linecolor\":\"white\",\"showbackground\":true,\"ticks\":\"\",\"zerolinecolor\":\"white\",\"gridwidth\":2},\"yaxis\":{\"backgroundcolor\":\"#E5ECF6\",\"gridcolor\":\"white\",\"linecolor\":\"white\",\"showbackground\":true,\"ticks\":\"\",\"zerolinecolor\":\"white\",\"gridwidth\":2},\"zaxis\":{\"backgroundcolor\":\"#E5ECF6\",\"gridcolor\":\"white\",\"linecolor\":\"white\",\"showbackground\":true,\"ticks\":\"\",\"zerolinecolor\":\"white\",\"gridwidth\":2}},\"shapedefaults\":{\"line\":{\"color\":\"#2a3f5f\"}},\"annotationdefaults\":{\"arrowcolor\":\"#2a3f5f\",\"arrowhead\":0,\"arrowwidth\":1},\"geo\":{\"bgcolor\":\"white\",\"landcolor\":\"#E5ECF6\",\"subunitcolor\":\"white\",\"showland\":true,\"showlakes\":true,\"lakecolor\":\"white\"},\"title\":{\"x\":0.05},\"mapbox\":{\"style\":\"light\"}}},\"legend\":{\"tracegroupgap\":0},\"title\":{\"text\":\"Migracode Students: Nationality Distribution 2021-2024\"}},                        {\"responsive\": true}                    ).then(function(){\n",
       "                            \n",
       "var gd = document.getElementById('9ea3755b-9cc2-4e3a-8bc2-9a121047346e');\n",
       "var x = new MutationObserver(function (mutations, observer) {{\n",
       "        var display = window.getComputedStyle(gd).display;\n",
       "        if (!display || display === 'none') {{\n",
       "            console.log([gd, 'removed!']);\n",
       "            Plotly.purge(gd);\n",
       "            observer.disconnect();\n",
       "        }}\n",
       "}});\n",
       "\n",
       "// Listen for the removal of the full notebook cells\n",
       "var notebookContainer = gd.closest('#notebook-container');\n",
       "if (notebookContainer) {{\n",
       "    x.observe(notebookContainer, {childList: true});\n",
       "}}\n",
       "\n",
       "// Listen for the clearing of the current output cell\n",
       "var outputEl = gd.closest('.output');\n",
       "if (outputEl) {{\n",
       "    x.observe(outputEl, {childList: true});\n",
       "}}\n",
       "\n",
       "                        })                };                });            </script>        </div>"
      ]
     },
     "metadata": {},
     "output_type": "display_data"
    },
    {
     "data": {
      "application/vnd.plotly.v1+json": {
       "config": {
        "plotlyServerURL": "https://plot.ly"
       },
       "data": [
        {
         "domain": {
          "x": [
           0,
           1
          ],
          "y": [
           0,
           1
          ]
         },
         "hole": 0.3,
         "hovertemplate": "Nationality=%{label}<br>Count=%{value}<extra></extra>",
         "labels": [
          "Rest of the World",
          "Spain",
          "Rest of the European Union",
          "No Value"
         ],
         "legendgroup": "",
         "name": "",
         "showlegend": true,
         "type": "pie",
         "values": [
          22355,
          17806,
          9030,
          70
         ]
        }
       ],
       "layout": {
        "autosize": true,
        "legend": {
         "tracegroupgap": 0
        },
        "template": {
         "data": {
          "bar": [
           {
            "error_x": {
             "color": "#2a3f5f"
            },
            "error_y": {
             "color": "#2a3f5f"
            },
            "marker": {
             "line": {
              "color": "#E5ECF6",
              "width": 0.5
             },
             "pattern": {
              "fillmode": "overlay",
              "size": 10,
              "solidity": 0.2
             }
            },
            "type": "bar"
           }
          ],
          "barpolar": [
           {
            "marker": {
             "line": {
              "color": "#E5ECF6",
              "width": 0.5
             },
             "pattern": {
              "fillmode": "overlay",
              "size": 10,
              "solidity": 0.2
             }
            },
            "type": "barpolar"
           }
          ],
          "carpet": [
           {
            "aaxis": {
             "endlinecolor": "#2a3f5f",
             "gridcolor": "white",
             "linecolor": "white",
             "minorgridcolor": "white",
             "startlinecolor": "#2a3f5f"
            },
            "baxis": {
             "endlinecolor": "#2a3f5f",
             "gridcolor": "white",
             "linecolor": "white",
             "minorgridcolor": "white",
             "startlinecolor": "#2a3f5f"
            },
            "type": "carpet"
           }
          ],
          "choropleth": [
           {
            "colorbar": {
             "outlinewidth": 0,
             "ticks": ""
            },
            "type": "choropleth"
           }
          ],
          "contour": [
           {
            "colorbar": {
             "outlinewidth": 0,
             "ticks": ""
            },
            "colorscale": [
             [
              0,
              "#0d0887"
             ],
             [
              0.1111111111111111,
              "#46039f"
             ],
             [
              0.2222222222222222,
              "#7201a8"
             ],
             [
              0.3333333333333333,
              "#9c179e"
             ],
             [
              0.4444444444444444,
              "#bd3786"
             ],
             [
              0.5555555555555556,
              "#d8576b"
             ],
             [
              0.6666666666666666,
              "#ed7953"
             ],
             [
              0.7777777777777778,
              "#fb9f3a"
             ],
             [
              0.8888888888888888,
              "#fdca26"
             ],
             [
              1,
              "#f0f921"
             ]
            ],
            "type": "contour"
           }
          ],
          "contourcarpet": [
           {
            "colorbar": {
             "outlinewidth": 0,
             "ticks": ""
            },
            "type": "contourcarpet"
           }
          ],
          "heatmap": [
           {
            "colorbar": {
             "outlinewidth": 0,
             "ticks": ""
            },
            "colorscale": [
             [
              0,
              "#0d0887"
             ],
             [
              0.1111111111111111,
              "#46039f"
             ],
             [
              0.2222222222222222,
              "#7201a8"
             ],
             [
              0.3333333333333333,
              "#9c179e"
             ],
             [
              0.4444444444444444,
              "#bd3786"
             ],
             [
              0.5555555555555556,
              "#d8576b"
             ],
             [
              0.6666666666666666,
              "#ed7953"
             ],
             [
              0.7777777777777778,
              "#fb9f3a"
             ],
             [
              0.8888888888888888,
              "#fdca26"
             ],
             [
              1,
              "#f0f921"
             ]
            ],
            "type": "heatmap"
           }
          ],
          "heatmapgl": [
           {
            "colorbar": {
             "outlinewidth": 0,
             "ticks": ""
            },
            "colorscale": [
             [
              0,
              "#0d0887"
             ],
             [
              0.1111111111111111,
              "#46039f"
             ],
             [
              0.2222222222222222,
              "#7201a8"
             ],
             [
              0.3333333333333333,
              "#9c179e"
             ],
             [
              0.4444444444444444,
              "#bd3786"
             ],
             [
              0.5555555555555556,
              "#d8576b"
             ],
             [
              0.6666666666666666,
              "#ed7953"
             ],
             [
              0.7777777777777778,
              "#fb9f3a"
             ],
             [
              0.8888888888888888,
              "#fdca26"
             ],
             [
              1,
              "#f0f921"
             ]
            ],
            "type": "heatmapgl"
           }
          ],
          "histogram": [
           {
            "marker": {
             "pattern": {
              "fillmode": "overlay",
              "size": 10,
              "solidity": 0.2
             }
            },
            "type": "histogram"
           }
          ],
          "histogram2d": [
           {
            "colorbar": {
             "outlinewidth": 0,
             "ticks": ""
            },
            "colorscale": [
             [
              0,
              "#0d0887"
             ],
             [
              0.1111111111111111,
              "#46039f"
             ],
             [
              0.2222222222222222,
              "#7201a8"
             ],
             [
              0.3333333333333333,
              "#9c179e"
             ],
             [
              0.4444444444444444,
              "#bd3786"
             ],
             [
              0.5555555555555556,
              "#d8576b"
             ],
             [
              0.6666666666666666,
              "#ed7953"
             ],
             [
              0.7777777777777778,
              "#fb9f3a"
             ],
             [
              0.8888888888888888,
              "#fdca26"
             ],
             [
              1,
              "#f0f921"
             ]
            ],
            "type": "histogram2d"
           }
          ],
          "histogram2dcontour": [
           {
            "colorbar": {
             "outlinewidth": 0,
             "ticks": ""
            },
            "colorscale": [
             [
              0,
              "#0d0887"
             ],
             [
              0.1111111111111111,
              "#46039f"
             ],
             [
              0.2222222222222222,
              "#7201a8"
             ],
             [
              0.3333333333333333,
              "#9c179e"
             ],
             [
              0.4444444444444444,
              "#bd3786"
             ],
             [
              0.5555555555555556,
              "#d8576b"
             ],
             [
              0.6666666666666666,
              "#ed7953"
             ],
             [
              0.7777777777777778,
              "#fb9f3a"
             ],
             [
              0.8888888888888888,
              "#fdca26"
             ],
             [
              1,
              "#f0f921"
             ]
            ],
            "type": "histogram2dcontour"
           }
          ],
          "mesh3d": [
           {
            "colorbar": {
             "outlinewidth": 0,
             "ticks": ""
            },
            "type": "mesh3d"
           }
          ],
          "parcoords": [
           {
            "line": {
             "colorbar": {
              "outlinewidth": 0,
              "ticks": ""
             }
            },
            "type": "parcoords"
           }
          ],
          "pie": [
           {
            "automargin": true,
            "type": "pie"
           }
          ],
          "scatter": [
           {
            "fillpattern": {
             "fillmode": "overlay",
             "size": 10,
             "solidity": 0.2
            },
            "type": "scatter"
           }
          ],
          "scatter3d": [
           {
            "line": {
             "colorbar": {
              "outlinewidth": 0,
              "ticks": ""
             }
            },
            "marker": {
             "colorbar": {
              "outlinewidth": 0,
              "ticks": ""
             }
            },
            "type": "scatter3d"
           }
          ],
          "scattercarpet": [
           {
            "marker": {
             "colorbar": {
              "outlinewidth": 0,
              "ticks": ""
             }
            },
            "type": "scattercarpet"
           }
          ],
          "scattergeo": [
           {
            "marker": {
             "colorbar": {
              "outlinewidth": 0,
              "ticks": ""
             }
            },
            "type": "scattergeo"
           }
          ],
          "scattergl": [
           {
            "marker": {
             "colorbar": {
              "outlinewidth": 0,
              "ticks": ""
             }
            },
            "type": "scattergl"
           }
          ],
          "scattermapbox": [
           {
            "marker": {
             "colorbar": {
              "outlinewidth": 0,
              "ticks": ""
             }
            },
            "type": "scattermapbox"
           }
          ],
          "scatterpolar": [
           {
            "marker": {
             "colorbar": {
              "outlinewidth": 0,
              "ticks": ""
             }
            },
            "type": "scatterpolar"
           }
          ],
          "scatterpolargl": [
           {
            "marker": {
             "colorbar": {
              "outlinewidth": 0,
              "ticks": ""
             }
            },
            "type": "scatterpolargl"
           }
          ],
          "scatterternary": [
           {
            "marker": {
             "colorbar": {
              "outlinewidth": 0,
              "ticks": ""
             }
            },
            "type": "scatterternary"
           }
          ],
          "surface": [
           {
            "colorbar": {
             "outlinewidth": 0,
             "ticks": ""
            },
            "colorscale": [
             [
              0,
              "#0d0887"
             ],
             [
              0.1111111111111111,
              "#46039f"
             ],
             [
              0.2222222222222222,
              "#7201a8"
             ],
             [
              0.3333333333333333,
              "#9c179e"
             ],
             [
              0.4444444444444444,
              "#bd3786"
             ],
             [
              0.5555555555555556,
              "#d8576b"
             ],
             [
              0.6666666666666666,
              "#ed7953"
             ],
             [
              0.7777777777777778,
              "#fb9f3a"
             ],
             [
              0.8888888888888888,
              "#fdca26"
             ],
             [
              1,
              "#f0f921"
             ]
            ],
            "type": "surface"
           }
          ],
          "table": [
           {
            "cells": {
             "fill": {
              "color": "#EBF0F8"
             },
             "line": {
              "color": "white"
             }
            },
            "header": {
             "fill": {
              "color": "#C8D4E3"
             },
             "line": {
              "color": "white"
             }
            },
            "type": "table"
           }
          ]
         },
         "layout": {
          "annotationdefaults": {
           "arrowcolor": "#2a3f5f",
           "arrowhead": 0,
           "arrowwidth": 1
          },
          "autotypenumbers": "strict",
          "coloraxis": {
           "colorbar": {
            "outlinewidth": 0,
            "ticks": ""
           }
          },
          "colorscale": {
           "diverging": [
            [
             0,
             "#8e0152"
            ],
            [
             0.1,
             "#c51b7d"
            ],
            [
             0.2,
             "#de77ae"
            ],
            [
             0.3,
             "#f1b6da"
            ],
            [
             0.4,
             "#fde0ef"
            ],
            [
             0.5,
             "#f7f7f7"
            ],
            [
             0.6,
             "#e6f5d0"
            ],
            [
             0.7,
             "#b8e186"
            ],
            [
             0.8,
             "#7fbc41"
            ],
            [
             0.9,
             "#4d9221"
            ],
            [
             1,
             "#276419"
            ]
           ],
           "sequential": [
            [
             0,
             "#0d0887"
            ],
            [
             0.1111111111111111,
             "#46039f"
            ],
            [
             0.2222222222222222,
             "#7201a8"
            ],
            [
             0.3333333333333333,
             "#9c179e"
            ],
            [
             0.4444444444444444,
             "#bd3786"
            ],
            [
             0.5555555555555556,
             "#d8576b"
            ],
            [
             0.6666666666666666,
             "#ed7953"
            ],
            [
             0.7777777777777778,
             "#fb9f3a"
            ],
            [
             0.8888888888888888,
             "#fdca26"
            ],
            [
             1,
             "#f0f921"
            ]
           ],
           "sequentialminus": [
            [
             0,
             "#0d0887"
            ],
            [
             0.1111111111111111,
             "#46039f"
            ],
            [
             0.2222222222222222,
             "#7201a8"
            ],
            [
             0.3333333333333333,
             "#9c179e"
            ],
            [
             0.4444444444444444,
             "#bd3786"
            ],
            [
             0.5555555555555556,
             "#d8576b"
            ],
            [
             0.6666666666666666,
             "#ed7953"
            ],
            [
             0.7777777777777778,
             "#fb9f3a"
            ],
            [
             0.8888888888888888,
             "#fdca26"
            ],
            [
             1,
             "#f0f921"
            ]
           ]
          },
          "colorway": [
           "#636efa",
           "#EF553B",
           "#00cc96",
           "#ab63fa",
           "#FFA15A",
           "#19d3f3",
           "#FF6692",
           "#B6E880",
           "#FF97FF",
           "#FECB52"
          ],
          "font": {
           "color": "#2a3f5f"
          },
          "geo": {
           "bgcolor": "white",
           "lakecolor": "white",
           "landcolor": "#E5ECF6",
           "showlakes": true,
           "showland": true,
           "subunitcolor": "white"
          },
          "hoverlabel": {
           "align": "left"
          },
          "hovermode": "closest",
          "mapbox": {
           "style": "light"
          },
          "paper_bgcolor": "white",
          "plot_bgcolor": "#E5ECF6",
          "polar": {
           "angularaxis": {
            "gridcolor": "white",
            "linecolor": "white",
            "ticks": ""
           },
           "bgcolor": "#E5ECF6",
           "radialaxis": {
            "gridcolor": "white",
            "linecolor": "white",
            "ticks": ""
           }
          },
          "scene": {
           "xaxis": {
            "backgroundcolor": "#E5ECF6",
            "gridcolor": "white",
            "gridwidth": 2,
            "linecolor": "white",
            "showbackground": true,
            "ticks": "",
            "zerolinecolor": "white"
           },
           "yaxis": {
            "backgroundcolor": "#E5ECF6",
            "gridcolor": "white",
            "gridwidth": 2,
            "linecolor": "white",
            "showbackground": true,
            "ticks": "",
            "zerolinecolor": "white"
           },
           "zaxis": {
            "backgroundcolor": "#E5ECF6",
            "gridcolor": "white",
            "gridwidth": 2,
            "linecolor": "white",
            "showbackground": true,
            "ticks": "",
            "zerolinecolor": "white"
           }
          },
          "shapedefaults": {
           "line": {
            "color": "#2a3f5f"
           }
          },
          "ternary": {
           "aaxis": {
            "gridcolor": "white",
            "linecolor": "white",
            "ticks": ""
           },
           "baxis": {
            "gridcolor": "white",
            "linecolor": "white",
            "ticks": ""
           },
           "bgcolor": "#E5ECF6",
           "caxis": {
            "gridcolor": "white",
            "linecolor": "white",
            "ticks": ""
           }
          },
          "title": {
           "x": 0.05
          },
          "xaxis": {
           "automargin": true,
           "gridcolor": "white",
           "linecolor": "white",
           "ticks": "",
           "title": {
            "standoff": 15
           },
           "zerolinecolor": "white",
           "zerolinewidth": 2
          },
          "yaxis": {
           "automargin": true,
           "gridcolor": "white",
           "linecolor": "white",
           "ticks": "",
           "title": {
            "standoff": 15
           },
           "zerolinecolor": "white",
           "zerolinewidth": 2
          }
         }
        },
        "title": {
         "text": "Barcelona: Nationality Distribution of Arriving Immigrants, 2023"
        }
       }
      },
      "image/png": "[encoded data removed]",
      "text/html": [
       "<div>                            <div id=\"72e8dfa7-4f7e-4fb8-b080-f6ae887c1920\" class=\"plotly-graph-div\" style=\"height:525px; width:100%;\"></div>            <script type=\"text/javascript\">                require([\"plotly\"], function(Plotly) {                    window.PLOTLYENV=window.PLOTLYENV || {};                                    if (document.getElementById(\"72e8dfa7-4f7e-4fb8-b080-f6ae887c1920\")) {                    Plotly.newPlot(                        \"72e8dfa7-4f7e-4fb8-b080-f6ae887c1920\",                        [{\"domain\":{\"x\":[0.0,1.0],\"y\":[0.0,1.0]},\"hole\":0.3,\"hovertemplate\":\"Nationality=%{label}<br>Count=%{value}<extra></extra>\",\"labels\":[\"Rest of the World\",\"Spain\",\"Rest of the European Union\",\"No Value\"],\"legendgroup\":\"\",\"name\":\"\",\"showlegend\":true,\"values\":[22355,17806,9030,70],\"type\":\"pie\"}],                        {\"template\":{\"data\":{\"histogram2dcontour\":[{\"type\":\"histogram2dcontour\",\"colorbar\":{\"outlinewidth\":0,\"ticks\":\"\"},\"colorscale\":[[0.0,\"#0d0887\"],[0.1111111111111111,\"#46039f\"],[0.2222222222222222,\"#7201a8\"],[0.3333333333333333,\"#9c179e\"],[0.4444444444444444,\"#bd3786\"],[0.5555555555555556,\"#d8576b\"],[0.6666666666666666,\"#ed7953\"],[0.7777777777777778,\"#fb9f3a\"],[0.8888888888888888,\"#fdca26\"],[1.0,\"#f0f921\"]]}],\"choropleth\":[{\"type\":\"choropleth\",\"colorbar\":{\"outlinewidth\":0,\"ticks\":\"\"}}],\"histogram2d\":[{\"type\":\"histogram2d\",\"colorbar\":{\"outlinewidth\":0,\"ticks\":\"\"},\"colorscale\":[[0.0,\"#0d0887\"],[0.1111111111111111,\"#46039f\"],[0.2222222222222222,\"#7201a8\"],[0.3333333333333333,\"#9c179e\"],[0.4444444444444444,\"#bd3786\"],[0.5555555555555556,\"#d8576b\"],[0.6666666666666666,\"#ed7953\"],[0.7777777777777778,\"#fb9f3a\"],[0.8888888888888888,\"#fdca26\"],[1.0,\"#f0f921\"]]}],\"heatmap\":[{\"type\":\"heatmap\",\"colorbar\":{\"outlinewidth\":0,\"ticks\":\"\"},\"colorscale\":[[0.0,\"#0d0887\"],[0.1111111111111111,\"#46039f\"],[0.2222222222222222,\"#7201a8\"],[0.3333333333333333,\"#9c179e\"],[0.4444444444444444,\"#bd3786\"],[0.5555555555555556,\"#d8576b\"],[0.6666666666666666,\"#ed7953\"],[0.7777777777777778,\"#fb9f3a\"],[0.8888888888888888,\"#fdca26\"],[1.0,\"#f0f921\"]]}],\"heatmapgl\":[{\"type\":\"heatmapgl\",\"colorbar\":{\"outlinewidth\":0,\"ticks\":\"\"},\"colorscale\":[[0.0,\"#0d0887\"],[0.1111111111111111,\"#46039f\"],[0.2222222222222222,\"#7201a8\"],[0.3333333333333333,\"#9c179e\"],[0.4444444444444444,\"#bd3786\"],[0.5555555555555556,\"#d8576b\"],[0.6666666666666666,\"#ed7953\"],[0.7777777777777778,\"#fb9f3a\"],[0.8888888888888888,\"#fdca26\"],[1.0,\"#f0f921\"]]}],\"contourcarpet\":[{\"type\":\"contourcarpet\",\"colorbar\":{\"outlinewidth\":0,\"ticks\":\"\"}}],\"contour\":[{\"type\":\"contour\",\"colorbar\":{\"outlinewidth\":0,\"ticks\":\"\"},\"colorscale\":[[0.0,\"#0d0887\"],[0.1111111111111111,\"#46039f\"],[0.2222222222222222,\"#7201a8\"],[0.3333333333333333,\"#9c179e\"],[0.4444444444444444,\"#bd3786\"],[0.5555555555555556,\"#d8576b\"],[0.6666666666666666,\"#ed7953\"],[0.7777777777777778,\"#fb9f3a\"],[0.8888888888888888,\"#fdca26\"],[1.0,\"#f0f921\"]]}],\"surface\":[{\"type\":\"surface\",\"colorbar\":{\"outlinewidth\":0,\"ticks\":\"\"},\"colorscale\":[[0.0,\"#0d0887\"],[0.1111111111111111,\"#46039f\"],[0.2222222222222222,\"#7201a8\"],[0.3333333333333333,\"#9c179e\"],[0.4444444444444444,\"#bd3786\"],[0.5555555555555556,\"#d8576b\"],[0.6666666666666666,\"#ed7953\"],[0.7777777777777778,\"#fb9f3a\"],[0.8888888888888888,\"#fdca26\"],[1.0,\"#f0f921\"]]}],\"mesh3d\":[{\"type\":\"mesh3d\",\"colorbar\":{\"outlinewidth\":0,\"ticks\":\"\"}}],\"scatter\":[{\"fillpattern\":{\"fillmode\":\"overlay\",\"size\":10,\"solidity\":0.2},\"type\":\"scatter\"}],\"parcoords\":[{\"type\":\"parcoords\",\"line\":{\"colorbar\":{\"outlinewidth\":0,\"ticks\":\"\"}}}],\"scatterpolargl\":[{\"type\":\"scatterpolargl\",\"marker\":{\"colorbar\":{\"outlinewidth\":0,\"ticks\":\"\"}}}],\"bar\":[{\"error_x\":{\"color\":\"#2a3f5f\"},\"error_y\":{\"color\":\"#2a3f5f\"},\"marker\":{\"line\":{\"color\":\"#E5ECF6\",\"width\":0.5},\"pattern\":{\"fillmode\":\"overlay\",\"size\":10,\"solidity\":0.2}},\"type\":\"bar\"}],\"scattergeo\":[{\"type\":\"scattergeo\",\"marker\":{\"colorbar\":{\"outlinewidth\":0,\"ticks\":\"\"}}}],\"scatterpolar\":[{\"type\":\"scatterpolar\",\"marker\":{\"colorbar\":{\"outlinewidth\":0,\"ticks\":\"\"}}}],\"histogram\":[{\"marker\":{\"pattern\":{\"fillmode\":\"overlay\",\"size\":10,\"solidity\":0.2}},\"type\":\"histogram\"}],\"scattergl\":[{\"type\":\"scattergl\",\"marker\":{\"colorbar\":{\"outlinewidth\":0,\"ticks\":\"\"}}}],\"scatter3d\":[{\"type\":\"scatter3d\",\"line\":{\"colorbar\":{\"outlinewidth\":0,\"ticks\":\"\"}},\"marker\":{\"colorbar\":{\"outlinewidth\":0,\"ticks\":\"\"}}}],\"scattermapbox\":[{\"type\":\"scattermapbox\",\"marker\":{\"colorbar\":{\"outlinewidth\":0,\"ticks\":\"\"}}}],\"scatterternary\":[{\"type\":\"scatterternary\",\"marker\":{\"colorbar\":{\"outlinewidth\":0,\"ticks\":\"\"}}}],\"scattercarpet\":[{\"type\":\"scattercarpet\",\"marker\":{\"colorbar\":{\"outlinewidth\":0,\"ticks\":\"\"}}}],\"carpet\":[{\"aaxis\":{\"endlinecolor\":\"#2a3f5f\",\"gridcolor\":\"white\",\"linecolor\":\"white\",\"minorgridcolor\":\"white\",\"startlinecolor\":\"#2a3f5f\"},\"baxis\":{\"endlinecolor\":\"#2a3f5f\",\"gridcolor\":\"white\",\"linecolor\":\"white\",\"minorgridcolor\":\"white\",\"startlinecolor\":\"#2a3f5f\"},\"type\":\"carpet\"}],\"table\":[{\"cells\":{\"fill\":{\"color\":\"#EBF0F8\"},\"line\":{\"color\":\"white\"}},\"header\":{\"fill\":{\"color\":\"#C8D4E3\"},\"line\":{\"color\":\"white\"}},\"type\":\"table\"}],\"barpolar\":[{\"marker\":{\"line\":{\"color\":\"#E5ECF6\",\"width\":0.5},\"pattern\":{\"fillmode\":\"overlay\",\"size\":10,\"solidity\":0.2}},\"type\":\"barpolar\"}],\"pie\":[{\"automargin\":true,\"type\":\"pie\"}]},\"layout\":{\"autotypenumbers\":\"strict\",\"colorway\":[\"#636efa\",\"#EF553B\",\"#00cc96\",\"#ab63fa\",\"#FFA15A\",\"#19d3f3\",\"#FF6692\",\"#B6E880\",\"#FF97FF\",\"#FECB52\"],\"font\":{\"color\":\"#2a3f5f\"},\"hovermode\":\"closest\",\"hoverlabel\":{\"align\":\"left\"},\"paper_bgcolor\":\"white\",\"plot_bgcolor\":\"#E5ECF6\",\"polar\":{\"bgcolor\":\"#E5ECF6\",\"angularaxis\":{\"gridcolor\":\"white\",\"linecolor\":\"white\",\"ticks\":\"\"},\"radialaxis\":{\"gridcolor\":\"white\",\"linecolor\":\"white\",\"ticks\":\"\"}},\"ternary\":{\"bgcolor\":\"#E5ECF6\",\"aaxis\":{\"gridcolor\":\"white\",\"linecolor\":\"white\",\"ticks\":\"\"},\"baxis\":{\"gridcolor\":\"white\",\"linecolor\":\"white\",\"ticks\":\"\"},\"caxis\":{\"gridcolor\":\"white\",\"linecolor\":\"white\",\"ticks\":\"\"}},\"coloraxis\":{\"colorbar\":{\"outlinewidth\":0,\"ticks\":\"\"}},\"colorscale\":{\"sequential\":[[0.0,\"#0d0887\"],[0.1111111111111111,\"#46039f\"],[0.2222222222222222,\"#7201a8\"],[0.3333333333333333,\"#9c179e\"],[0.4444444444444444,\"#bd3786\"],[0.5555555555555556,\"#d8576b\"],[0.6666666666666666,\"#ed7953\"],[0.7777777777777778,\"#fb9f3a\"],[0.8888888888888888,\"#fdca26\"],[1.0,\"#f0f921\"]],\"sequentialminus\":[[0.0,\"#0d0887\"],[0.1111111111111111,\"#46039f\"],[0.2222222222222222,\"#7201a8\"],[0.3333333333333333,\"#9c179e\"],[0.4444444444444444,\"#bd3786\"],[0.5555555555555556,\"#d8576b\"],[0.6666666666666666,\"#ed7953\"],[0.7777777777777778,\"#fb9f3a\"],[0.8888888888888888,\"#fdca26\"],[1.0,\"#f0f921\"]],\"diverging\":[[0,\"#8e0152\"],[0.1,\"#c51b7d\"],[0.2,\"#de77ae\"],[0.3,\"#f1b6da\"],[0.4,\"#fde0ef\"],[0.5,\"#f7f7f7\"],[0.6,\"#e6f5d0\"],[0.7,\"#b8e186\"],[0.8,\"#7fbc41\"],[0.9,\"#4d9221\"],[1,\"#276419\"]]},\"xaxis\":{\"gridcolor\":\"white\",\"linecolor\":\"white\",\"ticks\":\"\",\"title\":{\"standoff\":15},\"zerolinecolor\":\"white\",\"automargin\":true,\"zerolinewidth\":2},\"yaxis\":{\"gridcolor\":\"white\",\"linecolor\":\"white\",\"ticks\":\"\",\"title\":{\"standoff\":15},\"zerolinecolor\":\"white\",\"automargin\":true,\"zerolinewidth\":2},\"scene\":{\"xaxis\":{\"backgroundcolor\":\"#E5ECF6\",\"gridcolor\":\"white\",\"linecolor\":\"white\",\"showbackground\":true,\"ticks\":\"\",\"zerolinecolor\":\"white\",\"gridwidth\":2},\"yaxis\":{\"backgroundcolor\":\"#E5ECF6\",\"gridcolor\":\"white\",\"linecolor\":\"white\",\"showbackground\":true,\"ticks\":\"\",\"zerolinecolor\":\"white\",\"gridwidth\":2},\"zaxis\":{\"backgroundcolor\":\"#E5ECF6\",\"gridcolor\":\"white\",\"linecolor\":\"white\",\"showbackground\":true,\"ticks\":\"\",\"zerolinecolor\":\"white\",\"gridwidth\":2}},\"shapedefaults\":{\"line\":{\"color\":\"#2a3f5f\"}},\"annotationdefaults\":{\"arrowcolor\":\"#2a3f5f\",\"arrowhead\":0,\"arrowwidth\":1},\"geo\":{\"bgcolor\":\"white\",\"landcolor\":\"#E5ECF6\",\"subunitcolor\":\"white\",\"showland\":true,\"showlakes\":true,\"lakecolor\":\"white\"},\"title\":{\"x\":0.05},\"mapbox\":{\"style\":\"light\"}}},\"legend\":{\"tracegroupgap\":0},\"title\":{\"text\":\"Barcelona: Nationality Distribution of Arriving Immigrants, 2023\"}},                        {\"responsive\": true}                    ).then(function(){\n",
       "                            \n",
       "var gd = document.getElementById('72e8dfa7-4f7e-4fb8-b080-f6ae887c1920');\n",
       "var x = new MutationObserver(function (mutations, observer) {{\n",
       "        var display = window.getComputedStyle(gd).display;\n",
       "        if (!display || display === 'none') {{\n",
       "            console.log([gd, 'removed!']);\n",
       "            Plotly.purge(gd);\n",
       "            observer.disconnect();\n",
       "        }}\n",
       "}});\n",
       "\n",
       "// Listen for the removal of the full notebook cells\n",
       "var notebookContainer = gd.closest('#notebook-container');\n",
       "if (notebookContainer) {{\n",
       "    x.observe(notebookContainer, {childList: true});\n",
       "}}\n",
       "\n",
       "// Listen for the clearing of the current output cell\n",
       "var outputEl = gd.closest('.output');\n",
       "if (outputEl) {{\n",
       "    x.observe(outputEl, {childList: true});\n",
       "}}\n",
       "\n",
       "                        })                };                });            </script>        </div>"
      ]
     },
     "metadata": {},
     "output_type": "display_data"
    }
   ],
   "source": [
    "migra['Nationality Label'] = migra['Nationality'].map(nationality_names)\n",
    "\n",
    "# Count the occurrences of each nationality group\n",
    "nationality_counts = migra['Nationality Label'].value_counts().reset_index()\n",
    "nationality_counts.columns = ['Nationality', 'Count']\n",
    "\n",
    "# Create an interactive pie chart\n",
    "fig = px.pie(nationality_counts, names='Nationality', values='Count',\n",
    "             title='Migracode Students: Nationality Distribution 2021-2024',\n",
    "             labels={'Nationality': 'Nationality', 'Count': 'Count'},\n",
    "             hole=0.3)  # Use a hole for a donut chart, or set to 0 for a full pie chart\n",
    "\n",
    "# Show the chart\n",
    "fig.show()\n",
    "\n",
    "bcn['Nationality Label'] = bcn['Nationality'].map(nationality_names)\n",
    "\n",
    "# Count the occurrences of each nationality group\n",
    "nationality_counts = bcn['Nationality Label'].value_counts().reset_index()\n",
    "nationality_counts.columns = ['Nationality', 'Count']\n",
    "\n",
    "# Create an interactive pie chart\n",
    "fig = px.pie(nationality_counts, names='Nationality', values='Count',\n",
    "             title='Barcelona: Nationality Distribution of Arriving Immigrants, 2023',\n",
    "             labels={'Nationality': 'Nationality', 'Count': 'Count'},\n",
    "             hole=0.3)  # Use a hole for a donut chart, or set to 0 for a full pie chart\n",
    "\n",
    "# Show the chart\n",
    "fig.show()\n",
    "\n"
   ]
  },
  {
   "cell_type": "code",
   "execution_count": 12,
   "id": "f4b5d2d1-61ce-4643-9eec-fdb719452600",
   "metadata": {},
   "outputs": [
    {
     "data": {
      "application/vnd.plotly.v1+json": {
       "config": {
        "plotlyServerURL": "https://plot.ly"
       },
       "data": [
        {
         "hovertemplate": "Year: %{x}<br>Percentage: %{y}%",
         "legendgroup": "Spain",
         "line": {
          "color": "#636efa",
          "dash": "solid"
         },
         "marker": {
          "symbol": "circle"
         },
         "mode": "lines+markers",
         "name": "Spain",
         "orientation": "v",
         "showlegend": true,
         "type": "scatter",
         "x": [
          2023,
          2022,
          2021,
          2020,
          2019,
          2018,
          2017,
          2016,
          2015,
          2014
         ],
         "xaxis": "x",
         "y": [
          22.3,
          21.9,
          23.6,
          23.3,
          22.7,
          24.3,
          24.4,
          25.7,
          25.8,
          26.8
         ],
         "yaxis": "y"
        },
        {
         "hovertemplate": "Year: %{x}<br>Percentage: %{y}%",
         "legendgroup": "Rest of the European Union",
         "line": {
          "color": "#EF553B",
          "dash": "solid"
         },
         "marker": {
          "symbol": "circle"
         },
         "mode": "lines+markers",
         "name": "Rest of the European Union",
         "orientation": "v",
         "showlegend": true,
         "type": "scatter",
         "x": [
          2023,
          2022,
          2021,
          2020,
          2019,
          2018,
          2017,
          2016,
          2015,
          2014
         ],
         "xaxis": "x",
         "y": [
          36.5,
          39.6,
          40.3,
          44.9,
          46.4,
          48.7,
          42.9,
          45.6,
          38.8,
          43.2
         ],
         "yaxis": "y"
        },
        {
         "hovertemplate": "Year: %{x}<br>Percentage: %{y}%",
         "legendgroup": "Rest of the World",
         "line": {
          "color": "#00cc96",
          "dash": "solid"
         },
         "marker": {
          "symbol": "circle"
         },
         "mode": "lines+markers",
         "name": "Rest of the World",
         "orientation": "v",
         "showlegend": true,
         "type": "scatter",
         "x": [
          2023,
          2022,
          2021,
          2020,
          2019,
          2018,
          2017,
          2016,
          2015,
          2014
         ],
         "xaxis": "x",
         "y": [
          57,
          60.4,
          65.2,
          57.7,
          54.6,
          56.6,
          58.6,
          61.3,
          61.9,
          62.6
         ],
         "yaxis": "y"
        }
       ],
       "layout": {
        "autosize": true,
        "legend": {
         "title": {
          "text": "Nationality "
         },
         "tracegroupgap": 0
        },
        "template": {
         "data": {
          "bar": [
           {
            "error_x": {
             "color": "#2a3f5f"
            },
            "error_y": {
             "color": "#2a3f5f"
            },
            "marker": {
             "line": {
              "color": "#E5ECF6",
              "width": 0.5
             },
             "pattern": {
              "fillmode": "overlay",
              "size": 10,
              "solidity": 0.2
             }
            },
            "type": "bar"
           }
          ],
          "barpolar": [
           {
            "marker": {
             "line": {
              "color": "#E5ECF6",
              "width": 0.5
             },
             "pattern": {
              "fillmode": "overlay",
              "size": 10,
              "solidity": 0.2
             }
            },
            "type": "barpolar"
           }
          ],
          "carpet": [
           {
            "aaxis": {
             "endlinecolor": "#2a3f5f",
             "gridcolor": "white",
             "linecolor": "white",
             "minorgridcolor": "white",
             "startlinecolor": "#2a3f5f"
            },
            "baxis": {
             "endlinecolor": "#2a3f5f",
             "gridcolor": "white",
             "linecolor": "white",
             "minorgridcolor": "white",
             "startlinecolor": "#2a3f5f"
            },
            "type": "carpet"
           }
          ],
          "choropleth": [
           {
            "colorbar": {
             "outlinewidth": 0,
             "ticks": ""
            },
            "type": "choropleth"
           }
          ],
          "contour": [
           {
            "colorbar": {
             "outlinewidth": 0,
             "ticks": ""
            },
            "colorscale": [
             [
              0,
              "#0d0887"
             ],
             [
              0.1111111111111111,
              "#46039f"
             ],
             [
              0.2222222222222222,
              "#7201a8"
             ],
             [
              0.3333333333333333,
              "#9c179e"
             ],
             [
              0.4444444444444444,
              "#bd3786"
             ],
             [
              0.5555555555555556,
              "#d8576b"
             ],
             [
              0.6666666666666666,
              "#ed7953"
             ],
             [
              0.7777777777777778,
              "#fb9f3a"
             ],
             [
              0.8888888888888888,
              "#fdca26"
             ],
             [
              1,
              "#f0f921"
             ]
            ],
            "type": "contour"
           }
          ],
          "contourcarpet": [
           {
            "colorbar": {
             "outlinewidth": 0,
             "ticks": ""
            },
            "type": "contourcarpet"
           }
          ],
          "heatmap": [
           {
            "colorbar": {
             "outlinewidth": 0,
             "ticks": ""
            },
            "colorscale": [
             [
              0,
              "#0d0887"
             ],
             [
              0.1111111111111111,
              "#46039f"
             ],
             [
              0.2222222222222222,
              "#7201a8"
             ],
             [
              0.3333333333333333,
              "#9c179e"
             ],
             [
              0.4444444444444444,
              "#bd3786"
             ],
             [
              0.5555555555555556,
              "#d8576b"
             ],
             [
              0.6666666666666666,
              "#ed7953"
             ],
             [
              0.7777777777777778,
              "#fb9f3a"
             ],
             [
              0.8888888888888888,
              "#fdca26"
             ],
             [
              1,
              "#f0f921"
             ]
            ],
            "type": "heatmap"
           }
          ],
          "heatmapgl": [
           {
            "colorbar": {
             "outlinewidth": 0,
             "ticks": ""
            },
            "colorscale": [
             [
              0,
              "#0d0887"
             ],
             [
              0.1111111111111111,
              "#46039f"
             ],
             [
              0.2222222222222222,
              "#7201a8"
             ],
             [
              0.3333333333333333,
              "#9c179e"
             ],
             [
              0.4444444444444444,
              "#bd3786"
             ],
             [
              0.5555555555555556,
              "#d8576b"
             ],
             [
              0.6666666666666666,
              "#ed7953"
             ],
             [
              0.7777777777777778,
              "#fb9f3a"
             ],
             [
              0.8888888888888888,
              "#fdca26"
             ],
             [
              1,
              "#f0f921"
             ]
            ],
            "type": "heatmapgl"
           }
          ],
          "histogram": [
           {
            "marker": {
             "pattern": {
              "fillmode": "overlay",
              "size": 10,
              "solidity": 0.2
             }
            },
            "type": "histogram"
           }
          ],
          "histogram2d": [
           {
            "colorbar": {
             "outlinewidth": 0,
             "ticks": ""
            },
            "colorscale": [
             [
              0,
              "#0d0887"
             ],
             [
              0.1111111111111111,
              "#46039f"
             ],
             [
              0.2222222222222222,
              "#7201a8"
             ],
             [
              0.3333333333333333,
              "#9c179e"
             ],
             [
              0.4444444444444444,
              "#bd3786"
             ],
             [
              0.5555555555555556,
              "#d8576b"
             ],
             [
              0.6666666666666666,
              "#ed7953"
             ],
             [
              0.7777777777777778,
              "#fb9f3a"
             ],
             [
              0.8888888888888888,
              "#fdca26"
             ],
             [
              1,
              "#f0f921"
             ]
            ],
            "type": "histogram2d"
           }
          ],
          "histogram2dcontour": [
           {
            "colorbar": {
             "outlinewidth": 0,
             "ticks": ""
            },
            "colorscale": [
             [
              0,
              "#0d0887"
             ],
             [
              0.1111111111111111,
              "#46039f"
             ],
             [
              0.2222222222222222,
              "#7201a8"
             ],
             [
              0.3333333333333333,
              "#9c179e"
             ],
             [
              0.4444444444444444,
              "#bd3786"
             ],
             [
              0.5555555555555556,
              "#d8576b"
             ],
             [
              0.6666666666666666,
              "#ed7953"
             ],
             [
              0.7777777777777778,
              "#fb9f3a"
             ],
             [
              0.8888888888888888,
              "#fdca26"
             ],
             [
              1,
              "#f0f921"
             ]
            ],
            "type": "histogram2dcontour"
           }
          ],
          "mesh3d": [
           {
            "colorbar": {
             "outlinewidth": 0,
             "ticks": ""
            },
            "type": "mesh3d"
           }
          ],
          "parcoords": [
           {
            "line": {
             "colorbar": {
              "outlinewidth": 0,
              "ticks": ""
             }
            },
            "type": "parcoords"
           }
          ],
          "pie": [
           {
            "automargin": true,
            "type": "pie"
           }
          ],
          "scatter": [
           {
            "fillpattern": {
             "fillmode": "overlay",
             "size": 10,
             "solidity": 0.2
            },
            "type": "scatter"
           }
          ],
          "scatter3d": [
           {
            "line": {
             "colorbar": {
              "outlinewidth": 0,
              "ticks": ""
             }
            },
            "marker": {
             "colorbar": {
              "outlinewidth": 0,
              "ticks": ""
             }
            },
            "type": "scatter3d"
           }
          ],
          "scattercarpet": [
           {
            "marker": {
             "colorbar": {
              "outlinewidth": 0,
              "ticks": ""
             }
            },
            "type": "scattercarpet"
           }
          ],
          "scattergeo": [
           {
            "marker": {
             "colorbar": {
              "outlinewidth": 0,
              "ticks": ""
             }
            },
            "type": "scattergeo"
           }
          ],
          "scattergl": [
           {
            "marker": {
             "colorbar": {
              "outlinewidth": 0,
              "ticks": ""
             }
            },
            "type": "scattergl"
           }
          ],
          "scattermapbox": [
           {
            "marker": {
             "colorbar": {
              "outlinewidth": 0,
              "ticks": ""
             }
            },
            "type": "scattermapbox"
           }
          ],
          "scatterpolar": [
           {
            "marker": {
             "colorbar": {
              "outlinewidth": 0,
              "ticks": ""
             }
            },
            "type": "scatterpolar"
           }
          ],
          "scatterpolargl": [
           {
            "marker": {
             "colorbar": {
              "outlinewidth": 0,
              "ticks": ""
             }
            },
            "type": "scatterpolargl"
           }
          ],
          "scatterternary": [
           {
            "marker": {
             "colorbar": {
              "outlinewidth": 0,
              "ticks": ""
             }
            },
            "type": "scatterternary"
           }
          ],
          "surface": [
           {
            "colorbar": {
             "outlinewidth": 0,
             "ticks": ""
            },
            "colorscale": [
             [
              0,
              "#0d0887"
             ],
             [
              0.1111111111111111,
              "#46039f"
             ],
             [
              0.2222222222222222,
              "#7201a8"
             ],
             [
              0.3333333333333333,
              "#9c179e"
             ],
             [
              0.4444444444444444,
              "#bd3786"
             ],
             [
              0.5555555555555556,
              "#d8576b"
             ],
             [
              0.6666666666666666,
              "#ed7953"
             ],
             [
              0.7777777777777778,
              "#fb9f3a"
             ],
             [
              0.8888888888888888,
              "#fdca26"
             ],
             [
              1,
              "#f0f921"
             ]
            ],
            "type": "surface"
           }
          ],
          "table": [
           {
            "cells": {
             "fill": {
              "color": "#EBF0F8"
             },
             "line": {
              "color": "white"
             }
            },
            "header": {
             "fill": {
              "color": "#C8D4E3"
             },
             "line": {
              "color": "white"
             }
            },
            "type": "table"
           }
          ]
         },
         "layout": {
          "annotationdefaults": {
           "arrowcolor": "#2a3f5f",
           "arrowhead": 0,
           "arrowwidth": 1
          },
          "autotypenumbers": "strict",
          "coloraxis": {
           "colorbar": {
            "outlinewidth": 0,
            "ticks": ""
           }
          },
          "colorscale": {
           "diverging": [
            [
             0,
             "#8e0152"
            ],
            [
             0.1,
             "#c51b7d"
            ],
            [
             0.2,
             "#de77ae"
            ],
            [
             0.3,
             "#f1b6da"
            ],
            [
             0.4,
             "#fde0ef"
            ],
            [
             0.5,
             "#f7f7f7"
            ],
            [
             0.6,
             "#e6f5d0"
            ],
            [
             0.7,
             "#b8e186"
            ],
            [
             0.8,
             "#7fbc41"
            ],
            [
             0.9,
             "#4d9221"
            ],
            [
             1,
             "#276419"
            ]
           ],
           "sequential": [
            [
             0,
             "#0d0887"
            ],
            [
             0.1111111111111111,
             "#46039f"
            ],
            [
             0.2222222222222222,
             "#7201a8"
            ],
            [
             0.3333333333333333,
             "#9c179e"
            ],
            [
             0.4444444444444444,
             "#bd3786"
            ],
            [
             0.5555555555555556,
             "#d8576b"
            ],
            [
             0.6666666666666666,
             "#ed7953"
            ],
            [
             0.7777777777777778,
             "#fb9f3a"
            ],
            [
             0.8888888888888888,
             "#fdca26"
            ],
            [
             1,
             "#f0f921"
            ]
           ],
           "sequentialminus": [
            [
             0,
             "#0d0887"
            ],
            [
             0.1111111111111111,
             "#46039f"
            ],
            [
             0.2222222222222222,
             "#7201a8"
            ],
            [
             0.3333333333333333,
             "#9c179e"
            ],
            [
             0.4444444444444444,
             "#bd3786"
            ],
            [
             0.5555555555555556,
             "#d8576b"
            ],
            [
             0.6666666666666666,
             "#ed7953"
            ],
            [
             0.7777777777777778,
             "#fb9f3a"
            ],
            [
             0.8888888888888888,
             "#fdca26"
            ],
            [
             1,
             "#f0f921"
            ]
           ]
          },
          "colorway": [
           "#636efa",
           "#EF553B",
           "#00cc96",
           "#ab63fa",
           "#FFA15A",
           "#19d3f3",
           "#FF6692",
           "#B6E880",
           "#FF97FF",
           "#FECB52"
          ],
          "font": {
           "color": "#2a3f5f"
          },
          "geo": {
           "bgcolor": "white",
           "lakecolor": "white",
           "landcolor": "#E5ECF6",
           "showlakes": true,
           "showland": true,
           "subunitcolor": "white"
          },
          "hoverlabel": {
           "align": "left"
          },
          "hovermode": "closest",
          "mapbox": {
           "style": "light"
          },
          "paper_bgcolor": "white",
          "plot_bgcolor": "#E5ECF6",
          "polar": {
           "angularaxis": {
            "gridcolor": "white",
            "linecolor": "white",
            "ticks": ""
           },
           "bgcolor": "#E5ECF6",
           "radialaxis": {
            "gridcolor": "white",
            "linecolor": "white",
            "ticks": ""
           }
          },
          "scene": {
           "xaxis": {
            "backgroundcolor": "#E5ECF6",
            "gridcolor": "white",
            "gridwidth": 2,
            "linecolor": "white",
            "showbackground": true,
            "ticks": "",
            "zerolinecolor": "white"
           },
           "yaxis": {
            "backgroundcolor": "#E5ECF6",
            "gridcolor": "white",
            "gridwidth": 2,
            "linecolor": "white",
            "showbackground": true,
            "ticks": "",
            "zerolinecolor": "white"
           },
           "zaxis": {
            "backgroundcolor": "#E5ECF6",
            "gridcolor": "white",
            "gridwidth": 2,
            "linecolor": "white",
            "showbackground": true,
            "ticks": "",
            "zerolinecolor": "white"
           }
          },
          "shapedefaults": {
           "line": {
            "color": "#2a3f5f"
           }
          },
          "ternary": {
           "aaxis": {
            "gridcolor": "white",
            "linecolor": "white",
            "ticks": ""
           },
           "baxis": {
            "gridcolor": "white",
            "linecolor": "white",
            "ticks": ""
           },
           "bgcolor": "#E5ECF6",
           "caxis": {
            "gridcolor": "white",
            "linecolor": "white",
            "ticks": ""
           }
          },
          "title": {
           "x": 0.05
          },
          "xaxis": {
           "automargin": true,
           "gridcolor": "white",
           "linecolor": "white",
           "ticks": "",
           "title": {
            "standoff": 15
           },
           "zerolinecolor": "white",
           "zerolinewidth": 2
          },
          "yaxis": {
           "automargin": true,
           "gridcolor": "white",
           "linecolor": "white",
           "ticks": "",
           "title": {
            "standoff": 15
           },
           "zerolinecolor": "white",
           "zerolinewidth": 2
          }
         }
        },
        "title": {
         "text": "Spain: Risk of Poverty by Nationality Over Time"
        },
        "xaxis": {
         "anchor": "y",
         "autorange": true,
         "domain": [
          0,
          1
         ],
         "range": [
          2013.4125874125873,
          2023.5874125874127
         ],
         "title": {
          "text": "Year"
         },
         "type": "linear"
        },
        "yaxis": {
         "anchor": "x",
         "autorange": true,
         "domain": [
          0,
          1
         ],
         "range": [
          18.32669902912621,
          68.77330097087379
         ],
         "title": {
          "text": "Percentage"
         },
         "type": "linear"
        }
       }
      },
      "image/png": "[encoded data removed]",
      "text/html": [
       "<div>                            <div id=\"83167b3f-6589-48cb-a0cc-c6dc0cf517f0\" class=\"plotly-graph-div\" style=\"height:525px; width:100%;\"></div>            <script type=\"text/javascript\">                require([\"plotly\"], function(Plotly) {                    window.PLOTLYENV=window.PLOTLYENV || {};                                    if (document.getElementById(\"83167b3f-6589-48cb-a0cc-c6dc0cf517f0\")) {                    Plotly.newPlot(                        \"83167b3f-6589-48cb-a0cc-c6dc0cf517f0\",                        [{\"hovertemplate\":\"Year: %{x}<br>Percentage: %{y}%\",\"legendgroup\":\"Spain\",\"line\":{\"color\":\"#636efa\",\"dash\":\"solid\"},\"marker\":{\"symbol\":\"circle\"},\"mode\":\"lines+markers\",\"name\":\"Spain\",\"orientation\":\"v\",\"showlegend\":true,\"x\":[2023,2022,2021,2020,2019,2018,2017,2016,2015,2014],\"xaxis\":\"x\",\"y\":[22.3,21.9,23.6,23.3,22.7,24.3,24.4,25.7,25.8,26.8],\"yaxis\":\"y\",\"type\":\"scatter\"},{\"hovertemplate\":\"Year: %{x}<br>Percentage: %{y}%\",\"legendgroup\":\"Rest of the European Union\",\"line\":{\"color\":\"#EF553B\",\"dash\":\"solid\"},\"marker\":{\"symbol\":\"circle\"},\"mode\":\"lines+markers\",\"name\":\"Rest of the European Union\",\"orientation\":\"v\",\"showlegend\":true,\"x\":[2023,2022,2021,2020,2019,2018,2017,2016,2015,2014],\"xaxis\":\"x\",\"y\":[36.5,39.6,40.3,44.9,46.4,48.7,42.9,45.6,38.8,43.2],\"yaxis\":\"y\",\"type\":\"scatter\"},{\"hovertemplate\":\"Year: %{x}<br>Percentage: %{y}%\",\"legendgroup\":\"Rest of the World\",\"line\":{\"color\":\"#00cc96\",\"dash\":\"solid\"},\"marker\":{\"symbol\":\"circle\"},\"mode\":\"lines+markers\",\"name\":\"Rest of the World\",\"orientation\":\"v\",\"showlegend\":true,\"x\":[2023,2022,2021,2020,2019,2018,2017,2016,2015,2014],\"xaxis\":\"x\",\"y\":[57.0,60.4,65.2,57.7,54.6,56.6,58.6,61.3,61.9,62.6],\"yaxis\":\"y\",\"type\":\"scatter\"}],                        {\"template\":{\"data\":{\"histogram2dcontour\":[{\"type\":\"histogram2dcontour\",\"colorbar\":{\"outlinewidth\":0,\"ticks\":\"\"},\"colorscale\":[[0.0,\"#0d0887\"],[0.1111111111111111,\"#46039f\"],[0.2222222222222222,\"#7201a8\"],[0.3333333333333333,\"#9c179e\"],[0.4444444444444444,\"#bd3786\"],[0.5555555555555556,\"#d8576b\"],[0.6666666666666666,\"#ed7953\"],[0.7777777777777778,\"#fb9f3a\"],[0.8888888888888888,\"#fdca26\"],[1.0,\"#f0f921\"]]}],\"choropleth\":[{\"type\":\"choropleth\",\"colorbar\":{\"outlinewidth\":0,\"ticks\":\"\"}}],\"histogram2d\":[{\"type\":\"histogram2d\",\"colorbar\":{\"outlinewidth\":0,\"ticks\":\"\"},\"colorscale\":[[0.0,\"#0d0887\"],[0.1111111111111111,\"#46039f\"],[0.2222222222222222,\"#7201a8\"],[0.3333333333333333,\"#9c179e\"],[0.4444444444444444,\"#bd3786\"],[0.5555555555555556,\"#d8576b\"],[0.6666666666666666,\"#ed7953\"],[0.7777777777777778,\"#fb9f3a\"],[0.8888888888888888,\"#fdca26\"],[1.0,\"#f0f921\"]]}],\"heatmap\":[{\"type\":\"heatmap\",\"colorbar\":{\"outlinewidth\":0,\"ticks\":\"\"},\"colorscale\":[[0.0,\"#0d0887\"],[0.1111111111111111,\"#46039f\"],[0.2222222222222222,\"#7201a8\"],[0.3333333333333333,\"#9c179e\"],[0.4444444444444444,\"#bd3786\"],[0.5555555555555556,\"#d8576b\"],[0.6666666666666666,\"#ed7953\"],[0.7777777777777778,\"#fb9f3a\"],[0.8888888888888888,\"#fdca26\"],[1.0,\"#f0f921\"]]}],\"heatmapgl\":[{\"type\":\"heatmapgl\",\"colorbar\":{\"outlinewidth\":0,\"ticks\":\"\"},\"colorscale\":[[0.0,\"#0d0887\"],[0.1111111111111111,\"#46039f\"],[0.2222222222222222,\"#7201a8\"],[0.3333333333333333,\"#9c179e\"],[0.4444444444444444,\"#bd3786\"],[0.5555555555555556,\"#d8576b\"],[0.6666666666666666,\"#ed7953\"],[0.7777777777777778,\"#fb9f3a\"],[0.8888888888888888,\"#fdca26\"],[1.0,\"#f0f921\"]]}],\"contourcarpet\":[{\"type\":\"contourcarpet\",\"colorbar\":{\"outlinewidth\":0,\"ticks\":\"\"}}],\"contour\":[{\"type\":\"contour\",\"colorbar\":{\"outlinewidth\":0,\"ticks\":\"\"},\"colorscale\":[[0.0,\"#0d0887\"],[0.1111111111111111,\"#46039f\"],[0.2222222222222222,\"#7201a8\"],[0.3333333333333333,\"#9c179e\"],[0.4444444444444444,\"#bd3786\"],[0.5555555555555556,\"#d8576b\"],[0.6666666666666666,\"#ed7953\"],[0.7777777777777778,\"#fb9f3a\"],[0.8888888888888888,\"#fdca26\"],[1.0,\"#f0f921\"]]}],\"surface\":[{\"type\":\"surface\",\"colorbar\":{\"outlinewidth\":0,\"ticks\":\"\"},\"colorscale\":[[0.0,\"#0d0887\"],[0.1111111111111111,\"#46039f\"],[0.2222222222222222,\"#7201a8\"],[0.3333333333333333,\"#9c179e\"],[0.4444444444444444,\"#bd3786\"],[0.5555555555555556,\"#d8576b\"],[0.6666666666666666,\"#ed7953\"],[0.7777777777777778,\"#fb9f3a\"],[0.8888888888888888,\"#fdca26\"],[1.0,\"#f0f921\"]]}],\"mesh3d\":[{\"type\":\"mesh3d\",\"colorbar\":{\"outlinewidth\":0,\"ticks\":\"\"}}],\"scatter\":[{\"fillpattern\":{\"fillmode\":\"overlay\",\"size\":10,\"solidity\":0.2},\"type\":\"scatter\"}],\"parcoords\":[{\"type\":\"parcoords\",\"line\":{\"colorbar\":{\"outlinewidth\":0,\"ticks\":\"\"}}}],\"scatterpolargl\":[{\"type\":\"scatterpolargl\",\"marker\":{\"colorbar\":{\"outlinewidth\":0,\"ticks\":\"\"}}}],\"bar\":[{\"error_x\":{\"color\":\"#2a3f5f\"},\"error_y\":{\"color\":\"#2a3f5f\"},\"marker\":{\"line\":{\"color\":\"#E5ECF6\",\"width\":0.5},\"pattern\":{\"fillmode\":\"overlay\",\"size\":10,\"solidity\":0.2}},\"type\":\"bar\"}],\"scattergeo\":[{\"type\":\"scattergeo\",\"marker\":{\"colorbar\":{\"outlinewidth\":0,\"ticks\":\"\"}}}],\"scatterpolar\":[{\"type\":\"scatterpolar\",\"marker\":{\"colorbar\":{\"outlinewidth\":0,\"ticks\":\"\"}}}],\"histogram\":[{\"marker\":{\"pattern\":{\"fillmode\":\"overlay\",\"size\":10,\"solidity\":0.2}},\"type\":\"histogram\"}],\"scattergl\":[{\"type\":\"scattergl\",\"marker\":{\"colorbar\":{\"outlinewidth\":0,\"ticks\":\"\"}}}],\"scatter3d\":[{\"type\":\"scatter3d\",\"line\":{\"colorbar\":{\"outlinewidth\":0,\"ticks\":\"\"}},\"marker\":{\"colorbar\":{\"outlinewidth\":0,\"ticks\":\"\"}}}],\"scattermapbox\":[{\"type\":\"scattermapbox\",\"marker\":{\"colorbar\":{\"outlinewidth\":0,\"ticks\":\"\"}}}],\"scatterternary\":[{\"type\":\"scatterternary\",\"marker\":{\"colorbar\":{\"outlinewidth\":0,\"ticks\":\"\"}}}],\"scattercarpet\":[{\"type\":\"scattercarpet\",\"marker\":{\"colorbar\":{\"outlinewidth\":0,\"ticks\":\"\"}}}],\"carpet\":[{\"aaxis\":{\"endlinecolor\":\"#2a3f5f\",\"gridcolor\":\"white\",\"linecolor\":\"white\",\"minorgridcolor\":\"white\",\"startlinecolor\":\"#2a3f5f\"},\"baxis\":{\"endlinecolor\":\"#2a3f5f\",\"gridcolor\":\"white\",\"linecolor\":\"white\",\"minorgridcolor\":\"white\",\"startlinecolor\":\"#2a3f5f\"},\"type\":\"carpet\"}],\"table\":[{\"cells\":{\"fill\":{\"color\":\"#EBF0F8\"},\"line\":{\"color\":\"white\"}},\"header\":{\"fill\":{\"color\":\"#C8D4E3\"},\"line\":{\"color\":\"white\"}},\"type\":\"table\"}],\"barpolar\":[{\"marker\":{\"line\":{\"color\":\"#E5ECF6\",\"width\":0.5},\"pattern\":{\"fillmode\":\"overlay\",\"size\":10,\"solidity\":0.2}},\"type\":\"barpolar\"}],\"pie\":[{\"automargin\":true,\"type\":\"pie\"}]},\"layout\":{\"autotypenumbers\":\"strict\",\"colorway\":[\"#636efa\",\"#EF553B\",\"#00cc96\",\"#ab63fa\",\"#FFA15A\",\"#19d3f3\",\"#FF6692\",\"#B6E880\",\"#FF97FF\",\"#FECB52\"],\"font\":{\"color\":\"#2a3f5f\"},\"hovermode\":\"closest\",\"hoverlabel\":{\"align\":\"left\"},\"paper_bgcolor\":\"white\",\"plot_bgcolor\":\"#E5ECF6\",\"polar\":{\"bgcolor\":\"#E5ECF6\",\"angularaxis\":{\"gridcolor\":\"white\",\"linecolor\":\"white\",\"ticks\":\"\"},\"radialaxis\":{\"gridcolor\":\"white\",\"linecolor\":\"white\",\"ticks\":\"\"}},\"ternary\":{\"bgcolor\":\"#E5ECF6\",\"aaxis\":{\"gridcolor\":\"white\",\"linecolor\":\"white\",\"ticks\":\"\"},\"baxis\":{\"gridcolor\":\"white\",\"linecolor\":\"white\",\"ticks\":\"\"},\"caxis\":{\"gridcolor\":\"white\",\"linecolor\":\"white\",\"ticks\":\"\"}},\"coloraxis\":{\"colorbar\":{\"outlinewidth\":0,\"ticks\":\"\"}},\"colorscale\":{\"sequential\":[[0.0,\"#0d0887\"],[0.1111111111111111,\"#46039f\"],[0.2222222222222222,\"#7201a8\"],[0.3333333333333333,\"#9c179e\"],[0.4444444444444444,\"#bd3786\"],[0.5555555555555556,\"#d8576b\"],[0.6666666666666666,\"#ed7953\"],[0.7777777777777778,\"#fb9f3a\"],[0.8888888888888888,\"#fdca26\"],[1.0,\"#f0f921\"]],\"sequentialminus\":[[0.0,\"#0d0887\"],[0.1111111111111111,\"#46039f\"],[0.2222222222222222,\"#7201a8\"],[0.3333333333333333,\"#9c179e\"],[0.4444444444444444,\"#bd3786\"],[0.5555555555555556,\"#d8576b\"],[0.6666666666666666,\"#ed7953\"],[0.7777777777777778,\"#fb9f3a\"],[0.8888888888888888,\"#fdca26\"],[1.0,\"#f0f921\"]],\"diverging\":[[0,\"#8e0152\"],[0.1,\"#c51b7d\"],[0.2,\"#de77ae\"],[0.3,\"#f1b6da\"],[0.4,\"#fde0ef\"],[0.5,\"#f7f7f7\"],[0.6,\"#e6f5d0\"],[0.7,\"#b8e186\"],[0.8,\"#7fbc41\"],[0.9,\"#4d9221\"],[1,\"#276419\"]]},\"xaxis\":{\"gridcolor\":\"white\",\"linecolor\":\"white\",\"ticks\":\"\",\"title\":{\"standoff\":15},\"zerolinecolor\":\"white\",\"automargin\":true,\"zerolinewidth\":2},\"yaxis\":{\"gridcolor\":\"white\",\"linecolor\":\"white\",\"ticks\":\"\",\"title\":{\"standoff\":15},\"zerolinecolor\":\"white\",\"automargin\":true,\"zerolinewidth\":2},\"scene\":{\"xaxis\":{\"backgroundcolor\":\"#E5ECF6\",\"gridcolor\":\"white\",\"linecolor\":\"white\",\"showbackground\":true,\"ticks\":\"\",\"zerolinecolor\":\"white\",\"gridwidth\":2},\"yaxis\":{\"backgroundcolor\":\"#E5ECF6\",\"gridcolor\":\"white\",\"linecolor\":\"white\",\"showbackground\":true,\"ticks\":\"\",\"zerolinecolor\":\"white\",\"gridwidth\":2},\"zaxis\":{\"backgroundcolor\":\"#E5ECF6\",\"gridcolor\":\"white\",\"linecolor\":\"white\",\"showbackground\":true,\"ticks\":\"\",\"zerolinecolor\":\"white\",\"gridwidth\":2}},\"shapedefaults\":{\"line\":{\"color\":\"#2a3f5f\"}},\"annotationdefaults\":{\"arrowcolor\":\"#2a3f5f\",\"arrowhead\":0,\"arrowwidth\":1},\"geo\":{\"bgcolor\":\"white\",\"landcolor\":\"#E5ECF6\",\"subunitcolor\":\"white\",\"showland\":true,\"showlakes\":true,\"lakecolor\":\"white\"},\"title\":{\"x\":0.05},\"mapbox\":{\"style\":\"light\"}}},\"xaxis\":{\"anchor\":\"y\",\"domain\":[0.0,1.0],\"title\":{\"text\":\"Year\"}},\"yaxis\":{\"anchor\":\"x\",\"domain\":[0.0,1.0],\"title\":{\"text\":\"Percentage\"}},\"legend\":{\"title\":{\"text\":\"Nationality \"},\"tracegroupgap\":0},\"title\":{\"text\":\"Spain: Risk of Poverty by Nationality Over Time\"}},                        {\"responsive\": true}                    ).then(function(){\n",
       "                            \n",
       "var gd = document.getElementById('83167b3f-6589-48cb-a0cc-c6dc0cf517f0');\n",
       "var x = new MutationObserver(function (mutations, observer) {{\n",
       "        var display = window.getComputedStyle(gd).display;\n",
       "        if (!display || display === 'none') {{\n",
       "            console.log([gd, 'removed!']);\n",
       "            Plotly.purge(gd);\n",
       "            observer.disconnect();\n",
       "        }}\n",
       "}});\n",
       "\n",
       "// Listen for the removal of the full notebook cells\n",
       "var notebookContainer = gd.closest('#notebook-container');\n",
       "if (notebookContainer) {{\n",
       "    x.observe(notebookContainer, {childList: true});\n",
       "}}\n",
       "\n",
       "// Listen for the clearing of the current output cell\n",
       "var outputEl = gd.closest('.output');\n",
       "if (outputEl) {{\n",
       "    x.observe(outputEl, {childList: true});\n",
       "}}\n",
       "\n",
       "                        })                };                });            </script>        </div>"
      ]
     },
     "metadata": {},
     "output_type": "display_data"
    }
   ],
   "source": [
    "\n",
    "arope['Nationality '] = arope['Nationality'].map(nationality_names)\n",
    "\n",
    "# Filter out total and no value nationalities\n",
    "excluded_nationalities = [4, 5]\n",
    "plot_data = arope[~arope['Nationality'].isin(excluded_nationalities)]\n",
    "\n",
    "\n",
    "# Create the plot\n",
    "fig = px.line(plot_data, x='Year', y='Percentage', color='Nationality ', \n",
    "              labels={'Percentage': 'Percentage'}, \n",
    "              title='Spain: Risk of Poverty by Nationality Over Time')\n",
    "\n",
    "# Update hover data\n",
    "fig.update_traces(mode='lines+markers', hovertemplate='Year: %{x}<br>Percentage: %{y}%')\n",
    "\n",
    "fig.show()\n",
    "\n",
    "\n"
   ]
  },
  {
   "cell_type": "code",
   "execution_count": null,
   "id": "86d7f72f-6a96-456a-b5cb-279340eb95f5",
   "metadata": {},
   "outputs": [],
   "source": []
  },
  {
   "cell_type": "markdown",
   "id": "a80e14e8-a143-45d8-a26a-d7c9b954e851",
   "metadata": {},
   "source": [
    "### Analysis \n",
    "Because this data comes from Spain nationally, Spanish nationality does not indicate immigration in this graph. As is apparent, nationality as a predictor for AROPE status is very strong. In 2023, the percentage of Spaniards with AROPE status was 22.3%, in contrast to the percentage of immigrants from countries outside of the EU with AROPE status, which was 57, about 2.55 times higher. Immigrants from within the EU are also much more likely to be eligible for AROPE status, though significantly less, with 36.5 percent in 2023. \n",
    "\n",
    "Additionally, while Spaniard's risk remains mostly stagnant with a gradual downward trend, the other nationality group's trends are more volatile, though still negative. There are many possible reasons for this, among them changing global situations that might increase the number of immigrants into Spain from places with higher AROPE percentages. This graph does not reflect the total number of people from specific countries nor does it reflect the immigrant population growth in Spain, so making other conclusions is difficult without further exploration. \n",
    "\n",
    "For our purposes, this graph reflects that there is great need for services that might further the education and financial status of immigrants from outside the EU. However, it also emphasizes that a large proportion of immigrants from within the EU would also benefit from OCC services. Perhaps the requirement that applicants come from outside the EU does not properly provide for the broader immigrant population in need.  \n",
    "\n",
    "Due to the volatility of financial situaton for immigrants overall, emphasising retention, community, and other services from the OCC might be helpful to assure that OCC community members are receiving reliable, transformative support even *after* their course is completed. "
   ]
  },
  {
   "cell_type": "markdown",
   "id": "52c67c47-65e0-483f-8f50-e2eee01fb491",
   "metadata": {},
   "source": [
    "## Migracode Students "
   ]
  },
  {
   "cell_type": "code",
   "execution_count": 15,
   "id": "6542d339-1894-4af1-a6e1-c01ec8053bbf",
   "metadata": {},
   "outputs": [
    {
     "data": {
      "application/vnd.plotly.v1+json": {
       "config": {
        "plotlyServerURL": "https://plot.ly"
       },
       "data": [
        {
         "coloraxis": "coloraxis",
         "geo": "geo",
         "hovertemplate": "<b>%{hovertext}</b><br><br>Country=%{location}<br>Percentage=%{z}<extra></extra>",
         "hovertext": [
          "Venezuela",
          "Colombia",
          "Argentina",
          "Spain",
          "Pakistan",
          "Ukraine",
          "Peru",
          "Brazil",
          "Morocco",
          "India",
          "Russian Federation",
          "Bangladesh",
          "Honduras",
          "Ecuador",
          "Nigeria",
          "Bolivia",
          "Syria",
          "Afghanistan",
          "China",
          "Turkey",
          "Chile",
          "Italy",
          "Romania",
          "Georgia",
          "Nepal",
          "Mexico",
          "Ghana",
          "El Salvador",
          "Paraguay",
          "Cuba",
          "Senegal",
          "Iran",
          "Dominican Republic",
          "Yemen",
          "Philippines",
          "Guatemala",
          "Catalunya",
          "Nicaragua",
          "Panama",
          "Jordan",
          "Uruguay",
          "Kenya",
          "Portugal",
          "Somalia",
          "Belarus",
          "Algeria",
          "United States",
          "Costa Rica",
          "Cape Verde",
          "Tunisia",
          "Kazakhstan",
          "Cameroon",
          "United Kingdom",
          "Egypt",
          "UNK ",
          "Bulgaria",
          "Netherlands",
          "Poland",
          "France",
          "Lebanon",
          "Estonia",
          "South Africa",
          "Guinea",
          "Japan",
          "Tanzania",
          "Indonesia",
          "Ivory Coast",
          "Saudi Arabia",
          "Greece",
          "Libya",
          "Uganda",
          "Uzbekistan",
          "Liberia",
          "Rwanda",
          "Gambia",
          "Congo {Democratic Rep}",
          "Iraq",
          "Zimbabwe",
          "Czech Republic",
          "Haiti",
          "Sri Lanka",
          "Belgium",
          "Slovenia",
          "Jamaica",
          "Austria",
          "Albania",
          "Ireland {Republic}",
          "Taiwan",
          "Canada",
          "Mali",
          "Kosovo",
          "Swaziland",
          "Korea South",
          "Angola",
          "Ethiopia",
          "Latvia"
         ],
         "locationmode": "country names",
         "locations": [
          "Venezuela",
          "Colombia",
          "Argentina",
          "Spain",
          "Pakistan",
          "Ukraine",
          "Peru",
          "Brazil",
          "Morocco",
          "India",
          "Russian Federation",
          "Bangladesh",
          "Honduras",
          "Ecuador",
          "Nigeria",
          "Bolivia",
          "Syria",
          "Afghanistan",
          "China",
          "Turkey",
          "Chile",
          "Italy",
          "Romania",
          "Georgia",
          "Nepal",
          "Mexico",
          "Ghana",
          "El Salvador",
          "Paraguay",
          "Cuba",
          "Senegal",
          "Iran",
          "Dominican Republic",
          "Yemen",
          "Philippines",
          "Guatemala",
          "Catalunya",
          "Nicaragua",
          "Panama",
          "Jordan",
          "Uruguay",
          "Kenya",
          "Portugal",
          "Somalia",
          "Belarus",
          "Algeria",
          "United States",
          "Costa Rica",
          "Cape Verde",
          "Tunisia",
          "Kazakhstan",
          "Cameroon",
          "United Kingdom",
          "Egypt",
          "UNK ",
          "Bulgaria",
          "Netherlands",
          "Poland",
          "France",
          "Lebanon",
          "Estonia",
          "South Africa",
          "Guinea",
          "Japan",
          "Tanzania",
          "Indonesia",
          "Ivory Coast",
          "Saudi Arabia",
          "Greece",
          "Libya",
          "Uganda",
          "Uzbekistan",
          "Liberia",
          "Rwanda",
          "Gambia",
          "Congo {Democratic Rep}",
          "Iraq",
          "Zimbabwe",
          "Czech Republic",
          "Haiti",
          "Sri Lanka",
          "Belgium",
          "Slovenia",
          "Jamaica",
          "Austria",
          "Albania",
          "Ireland {Republic}",
          "Taiwan",
          "Canada",
          "Mali",
          "Kosovo",
          "Swaziland",
          "Korea South",
          "Angola",
          "Ethiopia",
          "Latvia"
         ],
         "name": "",
         "type": "choropleth",
         "z": [
          17.63858891288697,
          8.999280057595392,
          6.695464362850973,
          5.543556515478762,
          5.111591072714183,
          4.463642908567315,
          4.103671706263499,
          3.9596832253419727,
          3.095752339812815,
          2.735781137508999,
          2.087832973362131,
          2.087832973362131,
          1.9438444924406046,
          1.9438444924406046,
          1.7278617710583155,
          1.655867530597552,
          1.5838732901367891,
          1.511879049676026,
          1.2958963282937366,
          1.0079193664506838,
          1.0079193664506838,
          0.9359251259899208,
          0.8639308855291578,
          0.7919366450683946,
          0.7199424046076314,
          0.7199424046076314,
          0.6479481641468683,
          0.6479481641468683,
          0.6479481641468683,
          0.6479481641468683,
          0.5759539236861051,
          0.5759539236861051,
          0.5759539236861051,
          0.5039596832253419,
          0.5039596832253419,
          0.4319654427645789,
          0.4319654427645789,
          0.4319654427645789,
          0.4319654427645789,
          0.4319654427645789,
          0.3599712023038157,
          0.3599712023038157,
          0.3599712023038157,
          0.3599712023038157,
          0.28797696184305255,
          0.28797696184305255,
          0.21598272138228944,
          0.21598272138228944,
          0.21598272138228944,
          0.21598272138228944,
          0.21598272138228944,
          0.21598272138228944,
          0.21598272138228944,
          0.21598272138228944,
          0.14398848092152627,
          0.14398848092152627,
          0.14398848092152627,
          0.14398848092152627,
          0.14398848092152627,
          0.14398848092152627,
          0.14398848092152627,
          0.14398848092152627,
          0.14398848092152627,
          0.14398848092152627,
          0.14398848092152627,
          0.14398848092152627,
          0.14398848092152627,
          0.14398848092152627,
          0.14398848092152627,
          0.14398848092152627,
          0.14398848092152627,
          0.14398848092152627,
          0.14398848092152627,
          0.14398848092152627,
          0.14398848092152627,
          0.07199424046076314,
          0.07199424046076314,
          0.07199424046076314,
          0.07199424046076314,
          0.07199424046076314,
          0.07199424046076314,
          0.07199424046076314,
          0.07199424046076314,
          0.07199424046076314,
          0.07199424046076314,
          0.07199424046076314,
          0.07199424046076314,
          0.07199424046076314,
          0.07199424046076314,
          0.07199424046076314,
          0.07199424046076314,
          0.07199424046076314,
          0.07199424046076314,
          0.07199424046076314,
          0.07199424046076314,
          0.07199424046076314
         ]
        }
       ],
       "layout": {
        "coloraxis": {
         "colorbar": {
          "title": {
           "text": "Percentage"
          }
         },
         "colorscale": [
          [
           0,
           "#0d0887"
          ],
          [
           0.1111111111111111,
           "#46039f"
          ],
          [
           0.2222222222222222,
           "#7201a8"
          ],
          [
           0.3333333333333333,
           "#9c179e"
          ],
          [
           0.4444444444444444,
           "#bd3786"
          ],
          [
           0.5555555555555556,
           "#d8576b"
          ],
          [
           0.6666666666666666,
           "#ed7953"
          ],
          [
           0.7777777777777778,
           "#fb9f3a"
          ],
          [
           0.8888888888888888,
           "#fdca26"
          ],
          [
           1,
           "#f0f921"
          ]
         ]
        },
        "geo": {
         "center": {
          "lat": 7.731263162786511,
          "lon": -38.53617528931824
         },
         "domain": {
          "x": [
           0,
           1
          ],
          "y": [
           0,
           1
          ]
         },
         "projection": {
          "rotation": {
           "lon": -38.53617528931824
          },
          "scale": 0.865736565519657
         }
        },
        "height": 600,
        "legend": {
         "tracegroupgap": 0
        },
        "template": {
         "data": {
          "bar": [
           {
            "error_x": {
             "color": "#2a3f5f"
            },
            "error_y": {
             "color": "#2a3f5f"
            },
            "marker": {
             "line": {
              "color": "#E5ECF6",
              "width": 0.5
             },
             "pattern": {
              "fillmode": "overlay",
              "size": 10,
              "solidity": 0.2
             }
            },
            "type": "bar"
           }
          ],
          "barpolar": [
           {
            "marker": {
             "line": {
              "color": "#E5ECF6",
              "width": 0.5
             },
             "pattern": {
              "fillmode": "overlay",
              "size": 10,
              "solidity": 0.2
             }
            },
            "type": "barpolar"
           }
          ],
          "carpet": [
           {
            "aaxis": {
             "endlinecolor": "#2a3f5f",
             "gridcolor": "white",
             "linecolor": "white",
             "minorgridcolor": "white",
             "startlinecolor": "#2a3f5f"
            },
            "baxis": {
             "endlinecolor": "#2a3f5f",
             "gridcolor": "white",
             "linecolor": "white",
             "minorgridcolor": "white",
             "startlinecolor": "#2a3f5f"
            },
            "type": "carpet"
           }
          ],
          "choropleth": [
           {
            "colorbar": {
             "outlinewidth": 0,
             "ticks": ""
            },
            "type": "choropleth"
           }
          ],
          "contour": [
           {
            "colorbar": {
             "outlinewidth": 0,
             "ticks": ""
            },
            "colorscale": [
             [
              0,
              "#0d0887"
             ],
             [
              0.1111111111111111,
              "#46039f"
             ],
             [
              0.2222222222222222,
              "#7201a8"
             ],
             [
              0.3333333333333333,
              "#9c179e"
             ],
             [
              0.4444444444444444,
              "#bd3786"
             ],
             [
              0.5555555555555556,
              "#d8576b"
             ],
             [
              0.6666666666666666,
              "#ed7953"
             ],
             [
              0.7777777777777778,
              "#fb9f3a"
             ],
             [
              0.8888888888888888,
              "#fdca26"
             ],
             [
              1,
              "#f0f921"
             ]
            ],
            "type": "contour"
           }
          ],
          "contourcarpet": [
           {
            "colorbar": {
             "outlinewidth": 0,
             "ticks": ""
            },
            "type": "contourcarpet"
           }
          ],
          "heatmap": [
           {
            "colorbar": {
             "outlinewidth": 0,
             "ticks": ""
            },
            "colorscale": [
             [
              0,
              "#0d0887"
             ],
             [
              0.1111111111111111,
              "#46039f"
             ],
             [
              0.2222222222222222,
              "#7201a8"
             ],
             [
              0.3333333333333333,
              "#9c179e"
             ],
             [
              0.4444444444444444,
              "#bd3786"
             ],
             [
              0.5555555555555556,
              "#d8576b"
             ],
             [
              0.6666666666666666,
              "#ed7953"
             ],
             [
              0.7777777777777778,
              "#fb9f3a"
             ],
             [
              0.8888888888888888,
              "#fdca26"
             ],
             [
              1,
              "#f0f921"
             ]
            ],
            "type": "heatmap"
           }
          ],
          "heatmapgl": [
           {
            "colorbar": {
             "outlinewidth": 0,
             "ticks": ""
            },
            "colorscale": [
             [
              0,
              "#0d0887"
             ],
             [
              0.1111111111111111,
              "#46039f"
             ],
             [
              0.2222222222222222,
              "#7201a8"
             ],
             [
              0.3333333333333333,
              "#9c179e"
             ],
             [
              0.4444444444444444,
              "#bd3786"
             ],
             [
              0.5555555555555556,
              "#d8576b"
             ],
             [
              0.6666666666666666,
              "#ed7953"
             ],
             [
              0.7777777777777778,
              "#fb9f3a"
             ],
             [
              0.8888888888888888,
              "#fdca26"
             ],
             [
              1,
              "#f0f921"
             ]
            ],
            "type": "heatmapgl"
           }
          ],
          "histogram": [
           {
            "marker": {
             "pattern": {
              "fillmode": "overlay",
              "size": 10,
              "solidity": 0.2
             }
            },
            "type": "histogram"
           }
          ],
          "histogram2d": [
           {
            "colorbar": {
             "outlinewidth": 0,
             "ticks": ""
            },
            "colorscale": [
             [
              0,
              "#0d0887"
             ],
             [
              0.1111111111111111,
              "#46039f"
             ],
             [
              0.2222222222222222,
              "#7201a8"
             ],
             [
              0.3333333333333333,
              "#9c179e"
             ],
             [
              0.4444444444444444,
              "#bd3786"
             ],
             [
              0.5555555555555556,
              "#d8576b"
             ],
             [
              0.6666666666666666,
              "#ed7953"
             ],
             [
              0.7777777777777778,
              "#fb9f3a"
             ],
             [
              0.8888888888888888,
              "#fdca26"
             ],
             [
              1,
              "#f0f921"
             ]
            ],
            "type": "histogram2d"
           }
          ],
          "histogram2dcontour": [
           {
            "colorbar": {
             "outlinewidth": 0,
             "ticks": ""
            },
            "colorscale": [
             [
              0,
              "#0d0887"
             ],
             [
              0.1111111111111111,
              "#46039f"
             ],
             [
              0.2222222222222222,
              "#7201a8"
             ],
             [
              0.3333333333333333,
              "#9c179e"
             ],
             [
              0.4444444444444444,
              "#bd3786"
             ],
             [
              0.5555555555555556,
              "#d8576b"
             ],
             [
              0.6666666666666666,
              "#ed7953"
             ],
             [
              0.7777777777777778,
              "#fb9f3a"
             ],
             [
              0.8888888888888888,
              "#fdca26"
             ],
             [
              1,
              "#f0f921"
             ]
            ],
            "type": "histogram2dcontour"
           }
          ],
          "mesh3d": [
           {
            "colorbar": {
             "outlinewidth": 0,
             "ticks": ""
            },
            "type": "mesh3d"
           }
          ],
          "parcoords": [
           {
            "line": {
             "colorbar": {
              "outlinewidth": 0,
              "ticks": ""
             }
            },
            "type": "parcoords"
           }
          ],
          "pie": [
           {
            "automargin": true,
            "type": "pie"
           }
          ],
          "scatter": [
           {
            "fillpattern": {
             "fillmode": "overlay",
             "size": 10,
             "solidity": 0.2
            },
            "type": "scatter"
           }
          ],
          "scatter3d": [
           {
            "line": {
             "colorbar": {
              "outlinewidth": 0,
              "ticks": ""
             }
            },
            "marker": {
             "colorbar": {
              "outlinewidth": 0,
              "ticks": ""
             }
            },
            "type": "scatter3d"
           }
          ],
          "scattercarpet": [
           {
            "marker": {
             "colorbar": {
              "outlinewidth": 0,
              "ticks": ""
             }
            },
            "type": "scattercarpet"
           }
          ],
          "scattergeo": [
           {
            "marker": {
             "colorbar": {
              "outlinewidth": 0,
              "ticks": ""
             }
            },
            "type": "scattergeo"
           }
          ],
          "scattergl": [
           {
            "marker": {
             "colorbar": {
              "outlinewidth": 0,
              "ticks": ""
             }
            },
            "type": "scattergl"
           }
          ],
          "scattermapbox": [
           {
            "marker": {
             "colorbar": {
              "outlinewidth": 0,
              "ticks": ""
             }
            },
            "type": "scattermapbox"
           }
          ],
          "scatterpolar": [
           {
            "marker": {
             "colorbar": {
              "outlinewidth": 0,
              "ticks": ""
             }
            },
            "type": "scatterpolar"
           }
          ],
          "scatterpolargl": [
           {
            "marker": {
             "colorbar": {
              "outlinewidth": 0,
              "ticks": ""
             }
            },
            "type": "scatterpolargl"
           }
          ],
          "scatterternary": [
           {
            "marker": {
             "colorbar": {
              "outlinewidth": 0,
              "ticks": ""
             }
            },
            "type": "scatterternary"
           }
          ],
          "surface": [
           {
            "colorbar": {
             "outlinewidth": 0,
             "ticks": ""
            },
            "colorscale": [
             [
              0,
              "#0d0887"
             ],
             [
              0.1111111111111111,
              "#46039f"
             ],
             [
              0.2222222222222222,
              "#7201a8"
             ],
             [
              0.3333333333333333,
              "#9c179e"
             ],
             [
              0.4444444444444444,
              "#bd3786"
             ],
             [
              0.5555555555555556,
              "#d8576b"
             ],
             [
              0.6666666666666666,
              "#ed7953"
             ],
             [
              0.7777777777777778,
              "#fb9f3a"
             ],
             [
              0.8888888888888888,
              "#fdca26"
             ],
             [
              1,
              "#f0f921"
             ]
            ],
            "type": "surface"
           }
          ],
          "table": [
           {
            "cells": {
             "fill": {
              "color": "#EBF0F8"
             },
             "line": {
              "color": "white"
             }
            },
            "header": {
             "fill": {
              "color": "#C8D4E3"
             },
             "line": {
              "color": "white"
             }
            },
            "type": "table"
           }
          ]
         },
         "layout": {
          "annotationdefaults": {
           "arrowcolor": "#2a3f5f",
           "arrowhead": 0,
           "arrowwidth": 1
          },
          "autotypenumbers": "strict",
          "coloraxis": {
           "colorbar": {
            "outlinewidth": 0,
            "ticks": ""
           }
          },
          "colorscale": {
           "diverging": [
            [
             0,
             "#8e0152"
            ],
            [
             0.1,
             "#c51b7d"
            ],
            [
             0.2,
             "#de77ae"
            ],
            [
             0.3,
             "#f1b6da"
            ],
            [
             0.4,
             "#fde0ef"
            ],
            [
             0.5,
             "#f7f7f7"
            ],
            [
             0.6,
             "#e6f5d0"
            ],
            [
             0.7,
             "#b8e186"
            ],
            [
             0.8,
             "#7fbc41"
            ],
            [
             0.9,
             "#4d9221"
            ],
            [
             1,
             "#276419"
            ]
           ],
           "sequential": [
            [
             0,
             "#0d0887"
            ],
            [
             0.1111111111111111,
             "#46039f"
            ],
            [
             0.2222222222222222,
             "#7201a8"
            ],
            [
             0.3333333333333333,
             "#9c179e"
            ],
            [
             0.4444444444444444,
             "#bd3786"
            ],
            [
             0.5555555555555556,
             "#d8576b"
            ],
            [
             0.6666666666666666,
             "#ed7953"
            ],
            [
             0.7777777777777778,
             "#fb9f3a"
            ],
            [
             0.8888888888888888,
             "#fdca26"
            ],
            [
             1,
             "#f0f921"
            ]
           ],
           "sequentialminus": [
            [
             0,
             "#0d0887"
            ],
            [
             0.1111111111111111,
             "#46039f"
            ],
            [
             0.2222222222222222,
             "#7201a8"
            ],
            [
             0.3333333333333333,
             "#9c179e"
            ],
            [
             0.4444444444444444,
             "#bd3786"
            ],
            [
             0.5555555555555556,
             "#d8576b"
            ],
            [
             0.6666666666666666,
             "#ed7953"
            ],
            [
             0.7777777777777778,
             "#fb9f3a"
            ],
            [
             0.8888888888888888,
             "#fdca26"
            ],
            [
             1,
             "#f0f921"
            ]
           ]
          },
          "colorway": [
           "#636efa",
           "#EF553B",
           "#00cc96",
           "#ab63fa",
           "#FFA15A",
           "#19d3f3",
           "#FF6692",
           "#B6E880",
           "#FF97FF",
           "#FECB52"
          ],
          "font": {
           "color": "#2a3f5f"
          },
          "geo": {
           "bgcolor": "white",
           "lakecolor": "white",
           "landcolor": "#E5ECF6",
           "showlakes": true,
           "showland": true,
           "subunitcolor": "white"
          },
          "hoverlabel": {
           "align": "left"
          },
          "hovermode": "closest",
          "mapbox": {
           "style": "light"
          },
          "paper_bgcolor": "white",
          "plot_bgcolor": "#E5ECF6",
          "polar": {
           "angularaxis": {
            "gridcolor": "white",
            "linecolor": "white",
            "ticks": ""
           },
           "bgcolor": "#E5ECF6",
           "radialaxis": {
            "gridcolor": "white",
            "linecolor": "white",
            "ticks": ""
           }
          },
          "scene": {
           "xaxis": {
            "backgroundcolor": "#E5ECF6",
            "gridcolor": "white",
            "gridwidth": 2,
            "linecolor": "white",
            "showbackground": true,
            "ticks": "",
            "zerolinecolor": "white"
           },
           "yaxis": {
            "backgroundcolor": "#E5ECF6",
            "gridcolor": "white",
            "gridwidth": 2,
            "linecolor": "white",
            "showbackground": true,
            "ticks": "",
            "zerolinecolor": "white"
           },
           "zaxis": {
            "backgroundcolor": "#E5ECF6",
            "gridcolor": "white",
            "gridwidth": 2,
            "linecolor": "white",
            "showbackground": true,
            "ticks": "",
            "zerolinecolor": "white"
           }
          },
          "shapedefaults": {
           "line": {
            "color": "#2a3f5f"
           }
          },
          "ternary": {
           "aaxis": {
            "gridcolor": "white",
            "linecolor": "white",
            "ticks": ""
           },
           "baxis": {
            "gridcolor": "white",
            "linecolor": "white",
            "ticks": ""
           },
           "bgcolor": "#E5ECF6",
           "caxis": {
            "gridcolor": "white",
            "linecolor": "white",
            "ticks": ""
           }
          },
          "title": {
           "x": 0.05
          },
          "xaxis": {
           "automargin": true,
           "gridcolor": "white",
           "linecolor": "white",
           "ticks": "",
           "title": {
            "standoff": 15
           },
           "zerolinecolor": "white",
           "zerolinewidth": 2
          },
          "yaxis": {
           "automargin": true,
           "gridcolor": "white",
           "linecolor": "white",
           "ticks": "",
           "title": {
            "standoff": 15
           },
           "zerolinecolor": "white",
           "zerolinewidth": 2
          }
         }
        },
        "title": {
         "text": "Percentage of Migracode Students by Country"
        },
        "width": 900
       }
      },
      "image/png": "[encoded data removed]",
      "text/html": [
       "<div>                            <div id=\"8c4ae3cb-8228-4e14-92e7-0e7514ca628b\" class=\"plotly-graph-div\" style=\"height:600px; width:900px;\"></div>            <script type=\"text/javascript\">                require([\"plotly\"], function(Plotly) {                    window.PLOTLYENV=window.PLOTLYENV || {};                                    if (document.getElementById(\"8c4ae3cb-8228-4e14-92e7-0e7514ca628b\")) {                    Plotly.newPlot(                        \"8c4ae3cb-8228-4e14-92e7-0e7514ca628b\",                        [{\"coloraxis\":\"coloraxis\",\"geo\":\"geo\",\"hovertemplate\":\"<b>%{hovertext}</b><br><br>Country=%{location}<br>Percentage=%{z}<extra></extra>\",\"hovertext\":[\"Venezuela\",\"Colombia\",\"Argentina\",\"Spain\",\"Pakistan\",\"Ukraine\",\"Peru\",\"Brazil\",\"Morocco\",\"India\",\"Russian Federation\",\"Bangladesh\",\"Honduras\",\"Ecuador\",\"Nigeria\",\"Bolivia\",\"Syria\",\"Afghanistan\",\"China\",\"Turkey\",\"Chile\",\"Italy\",\"Romania\",\"Georgia\",\"Nepal\",\"Mexico\",\"Ghana\",\"El Salvador\",\"Paraguay\",\"Cuba\",\"Senegal\",\"Iran\",\"Dominican Republic\",\"Yemen\",\"Philippines\",\"Guatemala\",\"Catalunya\",\"Nicaragua\",\"Panama\",\"Jordan\",\"Uruguay\",\"Kenya\",\"Portugal\",\"Somalia\",\"Belarus\",\"Algeria\",\"United States\",\"Costa Rica\",\"Cape Verde\",\"Tunisia\",\"Kazakhstan\",\"Cameroon\",\"United Kingdom\",\"Egypt\",\"UNK \",\"Bulgaria\",\"Netherlands\",\"Poland\",\"France\",\"Lebanon\",\"Estonia\",\"South Africa\",\"Guinea\",\"Japan\",\"Tanzania\",\"Indonesia\",\"Ivory Coast\",\"Saudi Arabia\",\"Greece\",\"Libya\",\"Uganda\",\"Uzbekistan\",\"Liberia\",\"Rwanda\",\"Gambia\",\"Congo {Democratic Rep}\",\"Iraq\",\"Zimbabwe\",\"Czech Republic\",\"Haiti\",\"Sri Lanka\",\"Belgium\",\"Slovenia\",\"Jamaica\",\"Austria\",\"Albania\",\"Ireland {Republic}\",\"Taiwan\",\"Canada\",\"Mali\",\"Kosovo\",\"Swaziland\",\"Korea South\",\"Angola\",\"Ethiopia\",\"Latvia\"],\"locationmode\":\"country names\",\"locations\":[\"Venezuela\",\"Colombia\",\"Argentina\",\"Spain\",\"Pakistan\",\"Ukraine\",\"Peru\",\"Brazil\",\"Morocco\",\"India\",\"Russian Federation\",\"Bangladesh\",\"Honduras\",\"Ecuador\",\"Nigeria\",\"Bolivia\",\"Syria\",\"Afghanistan\",\"China\",\"Turkey\",\"Chile\",\"Italy\",\"Romania\",\"Georgia\",\"Nepal\",\"Mexico\",\"Ghana\",\"El Salvador\",\"Paraguay\",\"Cuba\",\"Senegal\",\"Iran\",\"Dominican Republic\",\"Yemen\",\"Philippines\",\"Guatemala\",\"Catalunya\",\"Nicaragua\",\"Panama\",\"Jordan\",\"Uruguay\",\"Kenya\",\"Portugal\",\"Somalia\",\"Belarus\",\"Algeria\",\"United States\",\"Costa Rica\",\"Cape Verde\",\"Tunisia\",\"Kazakhstan\",\"Cameroon\",\"United Kingdom\",\"Egypt\",\"UNK \",\"Bulgaria\",\"Netherlands\",\"Poland\",\"France\",\"Lebanon\",\"Estonia\",\"South Africa\",\"Guinea\",\"Japan\",\"Tanzania\",\"Indonesia\",\"Ivory Coast\",\"Saudi Arabia\",\"Greece\",\"Libya\",\"Uganda\",\"Uzbekistan\",\"Liberia\",\"Rwanda\",\"Gambia\",\"Congo {Democratic Rep}\",\"Iraq\",\"Zimbabwe\",\"Czech Republic\",\"Haiti\",\"Sri Lanka\",\"Belgium\",\"Slovenia\",\"Jamaica\",\"Austria\",\"Albania\",\"Ireland {Republic}\",\"Taiwan\",\"Canada\",\"Mali\",\"Kosovo\",\"Swaziland\",\"Korea South\",\"Angola\",\"Ethiopia\",\"Latvia\"],\"name\":\"\",\"z\":[17.63858891288697,8.999280057595392,6.695464362850973,5.543556515478762,5.111591072714183,4.463642908567315,4.103671706263499,3.9596832253419727,3.095752339812815,2.735781137508999,2.087832973362131,2.087832973362131,1.9438444924406046,1.9438444924406046,1.7278617710583155,1.655867530597552,1.5838732901367891,1.511879049676026,1.2958963282937366,1.0079193664506838,1.0079193664506838,0.9359251259899208,0.8639308855291578,0.7919366450683946,0.7199424046076314,0.7199424046076314,0.6479481641468683,0.6479481641468683,0.6479481641468683,0.6479481641468683,0.5759539236861051,0.5759539236861051,0.5759539236861051,0.5039596832253419,0.5039596832253419,0.4319654427645789,0.4319654427645789,0.4319654427645789,0.4319654427645789,0.4319654427645789,0.3599712023038157,0.3599712023038157,0.3599712023038157,0.3599712023038157,0.28797696184305255,0.28797696184305255,0.21598272138228944,0.21598272138228944,0.21598272138228944,0.21598272138228944,0.21598272138228944,0.21598272138228944,0.21598272138228944,0.21598272138228944,0.14398848092152627,0.14398848092152627,0.14398848092152627,0.14398848092152627,0.14398848092152627,0.14398848092152627,0.14398848092152627,0.14398848092152627,0.14398848092152627,0.14398848092152627,0.14398848092152627,0.14398848092152627,0.14398848092152627,0.14398848092152627,0.14398848092152627,0.14398848092152627,0.14398848092152627,0.14398848092152627,0.14398848092152627,0.14398848092152627,0.14398848092152627,0.07199424046076314,0.07199424046076314,0.07199424046076314,0.07199424046076314,0.07199424046076314,0.07199424046076314,0.07199424046076314,0.07199424046076314,0.07199424046076314,0.07199424046076314,0.07199424046076314,0.07199424046076314,0.07199424046076314,0.07199424046076314,0.07199424046076314,0.07199424046076314,0.07199424046076314,0.07199424046076314,0.07199424046076314,0.07199424046076314,0.07199424046076314],\"type\":\"choropleth\"}],                        {\"template\":{\"data\":{\"histogram2dcontour\":[{\"type\":\"histogram2dcontour\",\"colorbar\":{\"outlinewidth\":0,\"ticks\":\"\"},\"colorscale\":[[0.0,\"#0d0887\"],[0.1111111111111111,\"#46039f\"],[0.2222222222222222,\"#7201a8\"],[0.3333333333333333,\"#9c179e\"],[0.4444444444444444,\"#bd3786\"],[0.5555555555555556,\"#d8576b\"],[0.6666666666666666,\"#ed7953\"],[0.7777777777777778,\"#fb9f3a\"],[0.8888888888888888,\"#fdca26\"],[1.0,\"#f0f921\"]]}],\"choropleth\":[{\"type\":\"choropleth\",\"colorbar\":{\"outlinewidth\":0,\"ticks\":\"\"}}],\"histogram2d\":[{\"type\":\"histogram2d\",\"colorbar\":{\"outlinewidth\":0,\"ticks\":\"\"},\"colorscale\":[[0.0,\"#0d0887\"],[0.1111111111111111,\"#46039f\"],[0.2222222222222222,\"#7201a8\"],[0.3333333333333333,\"#9c179e\"],[0.4444444444444444,\"#bd3786\"],[0.5555555555555556,\"#d8576b\"],[0.6666666666666666,\"#ed7953\"],[0.7777777777777778,\"#fb9f3a\"],[0.8888888888888888,\"#fdca26\"],[1.0,\"#f0f921\"]]}],\"heatmap\":[{\"type\":\"heatmap\",\"colorbar\":{\"outlinewidth\":0,\"ticks\":\"\"},\"colorscale\":[[0.0,\"#0d0887\"],[0.1111111111111111,\"#46039f\"],[0.2222222222222222,\"#7201a8\"],[0.3333333333333333,\"#9c179e\"],[0.4444444444444444,\"#bd3786\"],[0.5555555555555556,\"#d8576b\"],[0.6666666666666666,\"#ed7953\"],[0.7777777777777778,\"#fb9f3a\"],[0.8888888888888888,\"#fdca26\"],[1.0,\"#f0f921\"]]}],\"heatmapgl\":[{\"type\":\"heatmapgl\",\"colorbar\":{\"outlinewidth\":0,\"ticks\":\"\"},\"colorscale\":[[0.0,\"#0d0887\"],[0.1111111111111111,\"#46039f\"],[0.2222222222222222,\"#7201a8\"],[0.3333333333333333,\"#9c179e\"],[0.4444444444444444,\"#bd3786\"],[0.5555555555555556,\"#d8576b\"],[0.6666666666666666,\"#ed7953\"],[0.7777777777777778,\"#fb9f3a\"],[0.8888888888888888,\"#fdca26\"],[1.0,\"#f0f921\"]]}],\"contourcarpet\":[{\"type\":\"contourcarpet\",\"colorbar\":{\"outlinewidth\":0,\"ticks\":\"\"}}],\"contour\":[{\"type\":\"contour\",\"colorbar\":{\"outlinewidth\":0,\"ticks\":\"\"},\"colorscale\":[[0.0,\"#0d0887\"],[0.1111111111111111,\"#46039f\"],[0.2222222222222222,\"#7201a8\"],[0.3333333333333333,\"#9c179e\"],[0.4444444444444444,\"#bd3786\"],[0.5555555555555556,\"#d8576b\"],[0.6666666666666666,\"#ed7953\"],[0.7777777777777778,\"#fb9f3a\"],[0.8888888888888888,\"#fdca26\"],[1.0,\"#f0f921\"]]}],\"surface\":[{\"type\":\"surface\",\"colorbar\":{\"outlinewidth\":0,\"ticks\":\"\"},\"colorscale\":[[0.0,\"#0d0887\"],[0.1111111111111111,\"#46039f\"],[0.2222222222222222,\"#7201a8\"],[0.3333333333333333,\"#9c179e\"],[0.4444444444444444,\"#bd3786\"],[0.5555555555555556,\"#d8576b\"],[0.6666666666666666,\"#ed7953\"],[0.7777777777777778,\"#fb9f3a\"],[0.8888888888888888,\"#fdca26\"],[1.0,\"#f0f921\"]]}],\"mesh3d\":[{\"type\":\"mesh3d\",\"colorbar\":{\"outlinewidth\":0,\"ticks\":\"\"}}],\"scatter\":[{\"fillpattern\":{\"fillmode\":\"overlay\",\"size\":10,\"solidity\":0.2},\"type\":\"scatter\"}],\"parcoords\":[{\"type\":\"parcoords\",\"line\":{\"colorbar\":{\"outlinewidth\":0,\"ticks\":\"\"}}}],\"scatterpolargl\":[{\"type\":\"scatterpolargl\",\"marker\":{\"colorbar\":{\"outlinewidth\":0,\"ticks\":\"\"}}}],\"bar\":[{\"error_x\":{\"color\":\"#2a3f5f\"},\"error_y\":{\"color\":\"#2a3f5f\"},\"marker\":{\"line\":{\"color\":\"#E5ECF6\",\"width\":0.5},\"pattern\":{\"fillmode\":\"overlay\",\"size\":10,\"solidity\":0.2}},\"type\":\"bar\"}],\"scattergeo\":[{\"type\":\"scattergeo\",\"marker\":{\"colorbar\":{\"outlinewidth\":0,\"ticks\":\"\"}}}],\"scatterpolar\":[{\"type\":\"scatterpolar\",\"marker\":{\"colorbar\":{\"outlinewidth\":0,\"ticks\":\"\"}}}],\"histogram\":[{\"marker\":{\"pattern\":{\"fillmode\":\"overlay\",\"size\":10,\"solidity\":0.2}},\"type\":\"histogram\"}],\"scattergl\":[{\"type\":\"scattergl\",\"marker\":{\"colorbar\":{\"outlinewidth\":0,\"ticks\":\"\"}}}],\"scatter3d\":[{\"type\":\"scatter3d\",\"line\":{\"colorbar\":{\"outlinewidth\":0,\"ticks\":\"\"}},\"marker\":{\"colorbar\":{\"outlinewidth\":0,\"ticks\":\"\"}}}],\"scattermapbox\":[{\"type\":\"scattermapbox\",\"marker\":{\"colorbar\":{\"outlinewidth\":0,\"ticks\":\"\"}}}],\"scatterternary\":[{\"type\":\"scatterternary\",\"marker\":{\"colorbar\":{\"outlinewidth\":0,\"ticks\":\"\"}}}],\"scattercarpet\":[{\"type\":\"scattercarpet\",\"marker\":{\"colorbar\":{\"outlinewidth\":0,\"ticks\":\"\"}}}],\"carpet\":[{\"aaxis\":{\"endlinecolor\":\"#2a3f5f\",\"gridcolor\":\"white\",\"linecolor\":\"white\",\"minorgridcolor\":\"white\",\"startlinecolor\":\"#2a3f5f\"},\"baxis\":{\"endlinecolor\":\"#2a3f5f\",\"gridcolor\":\"white\",\"linecolor\":\"white\",\"minorgridcolor\":\"white\",\"startlinecolor\":\"#2a3f5f\"},\"type\":\"carpet\"}],\"table\":[{\"cells\":{\"fill\":{\"color\":\"#EBF0F8\"},\"line\":{\"color\":\"white\"}},\"header\":{\"fill\":{\"color\":\"#C8D4E3\"},\"line\":{\"color\":\"white\"}},\"type\":\"table\"}],\"barpolar\":[{\"marker\":{\"line\":{\"color\":\"#E5ECF6\",\"width\":0.5},\"pattern\":{\"fillmode\":\"overlay\",\"size\":10,\"solidity\":0.2}},\"type\":\"barpolar\"}],\"pie\":[{\"automargin\":true,\"type\":\"pie\"}]},\"layout\":{\"autotypenumbers\":\"strict\",\"colorway\":[\"#636efa\",\"#EF553B\",\"#00cc96\",\"#ab63fa\",\"#FFA15A\",\"#19d3f3\",\"#FF6692\",\"#B6E880\",\"#FF97FF\",\"#FECB52\"],\"font\":{\"color\":\"#2a3f5f\"},\"hovermode\":\"closest\",\"hoverlabel\":{\"align\":\"left\"},\"paper_bgcolor\":\"white\",\"plot_bgcolor\":\"#E5ECF6\",\"polar\":{\"bgcolor\":\"#E5ECF6\",\"angularaxis\":{\"gridcolor\":\"white\",\"linecolor\":\"white\",\"ticks\":\"\"},\"radialaxis\":{\"gridcolor\":\"white\",\"linecolor\":\"white\",\"ticks\":\"\"}},\"ternary\":{\"bgcolor\":\"#E5ECF6\",\"aaxis\":{\"gridcolor\":\"white\",\"linecolor\":\"white\",\"ticks\":\"\"},\"baxis\":{\"gridcolor\":\"white\",\"linecolor\":\"white\",\"ticks\":\"\"},\"caxis\":{\"gridcolor\":\"white\",\"linecolor\":\"white\",\"ticks\":\"\"}},\"coloraxis\":{\"colorbar\":{\"outlinewidth\":0,\"ticks\":\"\"}},\"colorscale\":{\"sequential\":[[0.0,\"#0d0887\"],[0.1111111111111111,\"#46039f\"],[0.2222222222222222,\"#7201a8\"],[0.3333333333333333,\"#9c179e\"],[0.4444444444444444,\"#bd3786\"],[0.5555555555555556,\"#d8576b\"],[0.6666666666666666,\"#ed7953\"],[0.7777777777777778,\"#fb9f3a\"],[0.8888888888888888,\"#fdca26\"],[1.0,\"#f0f921\"]],\"sequentialminus\":[[0.0,\"#0d0887\"],[0.1111111111111111,\"#46039f\"],[0.2222222222222222,\"#7201a8\"],[0.3333333333333333,\"#9c179e\"],[0.4444444444444444,\"#bd3786\"],[0.5555555555555556,\"#d8576b\"],[0.6666666666666666,\"#ed7953\"],[0.7777777777777778,\"#fb9f3a\"],[0.8888888888888888,\"#fdca26\"],[1.0,\"#f0f921\"]],\"diverging\":[[0,\"#8e0152\"],[0.1,\"#c51b7d\"],[0.2,\"#de77ae\"],[0.3,\"#f1b6da\"],[0.4,\"#fde0ef\"],[0.5,\"#f7f7f7\"],[0.6,\"#e6f5d0\"],[0.7,\"#b8e186\"],[0.8,\"#7fbc41\"],[0.9,\"#4d9221\"],[1,\"#276419\"]]},\"xaxis\":{\"gridcolor\":\"white\",\"linecolor\":\"white\",\"ticks\":\"\",\"title\":{\"standoff\":15},\"zerolinecolor\":\"white\",\"automargin\":true,\"zerolinewidth\":2},\"yaxis\":{\"gridcolor\":\"white\",\"linecolor\":\"white\",\"ticks\":\"\",\"title\":{\"standoff\":15},\"zerolinecolor\":\"white\",\"automargin\":true,\"zerolinewidth\":2},\"scene\":{\"xaxis\":{\"backgroundcolor\":\"#E5ECF6\",\"gridcolor\":\"white\",\"linecolor\":\"white\",\"showbackground\":true,\"ticks\":\"\",\"zerolinecolor\":\"white\",\"gridwidth\":2},\"yaxis\":{\"backgroundcolor\":\"#E5ECF6\",\"gridcolor\":\"white\",\"linecolor\":\"white\",\"showbackground\":true,\"ticks\":\"\",\"zerolinecolor\":\"white\",\"gridwidth\":2},\"zaxis\":{\"backgroundcolor\":\"#E5ECF6\",\"gridcolor\":\"white\",\"linecolor\":\"white\",\"showbackground\":true,\"ticks\":\"\",\"zerolinecolor\":\"white\",\"gridwidth\":2}},\"shapedefaults\":{\"line\":{\"color\":\"#2a3f5f\"}},\"annotationdefaults\":{\"arrowcolor\":\"#2a3f5f\",\"arrowhead\":0,\"arrowwidth\":1},\"geo\":{\"bgcolor\":\"white\",\"landcolor\":\"#E5ECF6\",\"subunitcolor\":\"white\",\"showland\":true,\"showlakes\":true,\"lakecolor\":\"white\"},\"title\":{\"x\":0.05},\"mapbox\":{\"style\":\"light\"}}},\"geo\":{\"domain\":{\"x\":[0.0,1.0],\"y\":[0.0,1.0]},\"center\":{}},\"coloraxis\":{\"colorbar\":{\"title\":{\"text\":\"Percentage\"}},\"colorscale\":[[0.0,\"#0d0887\"],[0.1111111111111111,\"#46039f\"],[0.2222222222222222,\"#7201a8\"],[0.3333333333333333,\"#9c179e\"],[0.4444444444444444,\"#bd3786\"],[0.5555555555555556,\"#d8576b\"],[0.6666666666666666,\"#ed7953\"],[0.7777777777777778,\"#fb9f3a\"],[0.8888888888888888,\"#fdca26\"],[1.0,\"#f0f921\"]]},\"legend\":{\"tracegroupgap\":0},\"title\":{\"text\":\"Percentage of Migracode Students by Country\"},\"width\":900,\"height\":600},                        {\"responsive\": true}                    ).then(function(){\n",
       "                            \n",
       "var gd = document.getElementById('8c4ae3cb-8228-4e14-92e7-0e7514ca628b');\n",
       "var x = new MutationObserver(function (mutations, observer) {{\n",
       "        var display = window.getComputedStyle(gd).display;\n",
       "        if (!display || display === 'none') {{\n",
       "            console.log([gd, 'removed!']);\n",
       "            Plotly.purge(gd);\n",
       "            observer.disconnect();\n",
       "        }}\n",
       "}});\n",
       "\n",
       "// Listen for the removal of the full notebook cells\n",
       "var notebookContainer = gd.closest('#notebook-container');\n",
       "if (notebookContainer) {{\n",
       "    x.observe(notebookContainer, {childList: true});\n",
       "}}\n",
       "\n",
       "// Listen for the clearing of the current output cell\n",
       "var outputEl = gd.closest('.output');\n",
       "if (outputEl) {{\n",
       "    x.observe(outputEl, {childList: true});\n",
       "}}\n",
       "\n",
       "                        })                };                });            </script>        </div>"
      ]
     },
     "metadata": {},
     "output_type": "display_data"
    }
   ],
   "source": [
    "# Create a percentage from each country \n",
    "country_counts = migra['Country of Birth'].value_counts(normalize=True) * 100\n",
    "country_counts = country_counts.reset_index()\n",
    "country_counts.columns = ['Country', 'Percentage']\n",
    "\n",
    "# Create the interactive map\n",
    "fig = px.choropleth(\n",
    "    country_counts,\n",
    "    locations=\"Country\",\n",
    "    locationmode=\"country names\",\n",
    "    color=\"Percentage\",\n",
    "    hover_name=\"Country\",\n",
    "    color_continuous_scale=px.colors.sequential.Plasma,\n",
    "    title=\"Percentage of Migracode Students by Country\"\n",
    ")\n",
    "\n",
    "fig.update_layout(\n",
    "    width=900,  #ratio should be 3:2\n",
    "    height=600 \n",
    ")\n",
    "# Show the map\n",
    "fig.show()\n"
   ]
  },
  {
   "cell_type": "markdown",
   "id": "dc69c265-41b5-4361-8a78-251e1d9c0be7",
   "metadata": {},
   "source": [
    "## Analysis\n",
    "This interactive graph is a heatmap illustrating the percentage of Migracode students from each origin country. It's interesting to note that despite the requirement to be from an origin country outside the EU, a decent amount of Migracode applicants come from within the EU. This could indicate need for these services from this demographic as well. \n",
    "\n",
    "Note the hottest colors from South American countries, particularly Venezuela, Colombia and Argentina. This may be attributed in part to the aforementioned expedited citizenship process. According to the expedited process, if a person has citizenship in a Latin American country, they only have to reside in Spain for two years before they're eligible to apply to be a Spanish national. \n",
    "\n",
    "This is also illuminating as the [United Nations Refugee Agency (UNHCR) cites Venezuela and Latin America among situations displacing people globally (through its Operations Data Portal](https://data.unhcr.org/en/situations). Among other situations listed are the Afghanistan situation, which includes Pakistan, another high-proportion origin country, and the Ukraine situation, which displaces Ukrainian and Russian nationals. \n",
    "\n",
    "The UNHCR does not provide data on Morocco, but during my time in Spain, Moroccan immigration was a frequent topic of discussion at work, and it does show up on our heatmap. With some further exploration, I find that there is [historical tension at the Spanish-Moroccan border](https://www.washingtoninstitute.org/policy-analysis/reasons-behind-spanish-moroccan-crisis). Ceuta and Melilla, the two Spanish cities that border Northern Africa, engage in a contraband economy which results in large tax revenue loss for Morocco. The Spanish border has been closed to Morocco since 2020, but illegal immigration continues and often sparks media interest and xenophobia throughout Spain. While this issue is broad and too complex to fully describe here (or for me to fully understand without more research), it nonetheless accounts for a large portion of non-EU immigrants in Spain, and, as seen here, Migracode Students. \n"
   ]
  },
  {
   "cell_type": "code",
   "execution_count": 17,
   "id": "a1e6e9fc-7ab0-4b97-9019-08635c2306ff",
   "metadata": {
    "scrolled": true
   },
   "outputs": [
    {
     "data": {
      "application/vnd.plotly.v1+json": {
       "config": {
        "plotlyServerURL": "https://plot.ly"
       },
       "data": [
        {
         "coloraxis": "coloraxis",
         "geo": "geo",
         "hovertemplate": "<b>%{hovertext}</b><br><br>Country=%{location}<br>Percentage=%{z}<extra></extra>",
         "hovertext": [
          "Spain",
          "Italy",
          "Colombia",
          "Venezuela",
          "Peru",
          "Argentina",
          "China",
          "France",
          "Brazil",
          "Russia",
          "Morocco",
          "Honduras",
          "Portugal",
          "Romania",
          "Ecuador",
          "Germany",
          "United Kingdom",
          "Ukraine",
          "Bolivia",
          "Chile",
          "Mexico",
          "Pakistan",
          "United States",
          "India",
          "Dominican Republic",
          "Paraguay",
          "Poland",
          "Cuba",
          "Netherlands",
          "Philippines",
          "Georgia",
          "El Salvador",
          "Belgium",
          "Bulgaria",
          "Uruguay",
          "Sweden",
          "Greece",
          "Ireland",
          "Japan",
          "Algeria",
          "Turkey",
          "Switzerland",
          "Armenia",
          "Iran",
          "Hungary",
          "Nicaragua",
          "Senegal",
          "Canada",
          "Austria",
          "Bangladesh",
          "Albania",
          "Lebanon",
          "Belarus",
          "Egypt",
          "Nepal",
          "Denmark",
          "Croatia",
          "Finland",
          "Lithuania",
          "Serbia",
          "Nigeria",
          "Israel",
          "South Korea",
          "Costa Rica",
          "Czechia",
          "Syria",
          "Panama",
          "Guatemala",
          "Moldova",
          "Australia",
          "Slovakia",
          "Norway",
          "Tunisia",
          "Kazakhstan",
          "Latvia",
          "Not available",
          "Guinea",
          "Slovenia",
          "Andorra",
          "Ghana",
          "Cameroon",
          "Equatorial Guinea",
          "Thailand",
          "Gambia",
          "South Africa",
          "Vietnam",
          "Estonia",
          "Jordan",
          "Cyprus",
          "Indonesia",
          "Mali",
          "Afghanistan",
          "Iraq",
          "Palestine",
          "Azerbaijan",
          "North Macedonia",
          "Kenya",
          "New Zealand",
          "Iceland",
          "Ivory Coast",
          "Saudi Arabia",
          "Luxembourg",
          "Guinea-Bissau",
          "Malaysia",
          "Uzbekistan",
          "Libya",
          "Bosnia and Herzegovina",
          "Singapore",
          "Malta",
          "Kyrgyzstan",
          "Mozambique",
          "Mauritania",
          "Congo Republic",
          "Angola",
          "Montenegro",
          "Haiti",
          "Tanzania",
          "Ethiopia",
          "Mongolia",
          "Burkina Faso",
          "Sri Lanka",
          "Dominica",
          "Kuwait",
          "Sudan",
          "Niger",
          "Somalia",
          "Sierra Leone",
          "Benin",
          "Uganda",
          "Cabo Verde",
          "Rwanda",
          "Madagascar",
          "Zimbabwe",
          "Namibia",
          "Yemen",
          "Mauritius",
          "Myanmar",
          "Jamaica",
          "Oman",
          "Liberia",
          "Burundi",
          "United Arab Emirates",
          "Togo",
          "Zambia",
          "Gabon",
          "Maldives",
          "St Kitts and Nevis",
          "Cambodia",
          "Central African Republic",
          "Vanuatu",
          "Tajikistan",
          "Trinidad and Tobago",
          "São Tomé and Príncipe",
          "Qatar",
          "Turkmenistan",
          "Malawi",
          "Chad",
          "Antigua and Barbuda",
          "Bahrain",
          "Bahamas",
          "Monaco",
          "Barbados",
          "Liechtenstein",
          "Seychelles",
          "Djibouti",
          "Grenada",
          "Guyana",
          "Kiribati",
          "San Marino",
          "Eritrea",
          "South Sudan",
          "DR Congo",
          "Bhutan",
          "Laos",
          "Eswatini",
          "Botswana",
          "Lesotho",
          "Suriname"
         ],
         "locationmode": "country names",
         "locations": [
          "Spain",
          "Italy",
          "Colombia",
          "Venezuela",
          "Peru",
          "Argentina",
          "China",
          "France",
          "Brazil",
          "Russia",
          "Morocco",
          "Honduras",
          "Portugal",
          "Romania",
          "Ecuador",
          "Germany",
          "United Kingdom",
          "Ukraine",
          "Bolivia",
          "Chile",
          "Mexico",
          "Pakistan",
          "United States",
          "India",
          "Dominican Republic",
          "Paraguay",
          "Poland",
          "Cuba",
          "Netherlands",
          "Philippines",
          "Georgia",
          "El Salvador",
          "Belgium",
          "Bulgaria",
          "Uruguay",
          "Sweden",
          "Greece",
          "Ireland",
          "Japan",
          "Algeria",
          "Turkey",
          "Switzerland",
          "Armenia",
          "Iran",
          "Hungary",
          "Nicaragua",
          "Senegal",
          "Canada",
          "Austria",
          "Bangladesh",
          "Albania",
          "Lebanon",
          "Belarus",
          "Egypt",
          "Nepal",
          "Denmark",
          "Croatia",
          "Finland",
          "Lithuania",
          "Serbia",
          "Nigeria",
          "Israel",
          "South Korea",
          "Costa Rica",
          "Czechia",
          "Syria",
          "Panama",
          "Guatemala",
          "Moldova",
          "Australia",
          "Slovakia",
          "Norway",
          "Tunisia",
          "Kazakhstan",
          "Latvia",
          "Not available",
          "Guinea",
          "Slovenia",
          "Andorra",
          "Ghana",
          "Cameroon",
          "Equatorial Guinea",
          "Thailand",
          "Gambia",
          "South Africa",
          "Vietnam",
          "Estonia",
          "Jordan",
          "Cyprus",
          "Indonesia",
          "Mali",
          "Afghanistan",
          "Iraq",
          "Palestine",
          "Azerbaijan",
          "North Macedonia",
          "Kenya",
          "New Zealand",
          "Iceland",
          "Ivory Coast",
          "Saudi Arabia",
          "Luxembourg",
          "Guinea-Bissau",
          "Malaysia",
          "Uzbekistan",
          "Libya",
          "Bosnia and Herzegovina",
          "Singapore",
          "Malta",
          "Kyrgyzstan",
          "Mozambique",
          "Mauritania",
          "Congo Republic",
          "Angola",
          "Montenegro",
          "Haiti",
          "Tanzania",
          "Ethiopia",
          "Mongolia",
          "Burkina Faso",
          "Sri Lanka",
          "Dominica",
          "Kuwait",
          "Sudan",
          "Niger",
          "Somalia",
          "Sierra Leone",
          "Benin",
          "Uganda",
          "Cabo Verde",
          "Rwanda",
          "Madagascar",
          "Zimbabwe",
          "Namibia",
          "Yemen",
          "Mauritius",
          "Myanmar",
          "Jamaica",
          "Oman",
          "Liberia",
          "Burundi",
          "United Arab Emirates",
          "Togo",
          "Zambia",
          "Gabon",
          "Maldives",
          "St Kitts and Nevis",
          "Cambodia",
          "Central African Republic",
          "Vanuatu",
          "Tajikistan",
          "Trinidad and Tobago",
          "São Tomé and Príncipe",
          "Qatar",
          "Turkmenistan",
          "Malawi",
          "Chad",
          "Antigua and Barbuda",
          "Bahrain",
          "Bahamas",
          "Monaco",
          "Barbados",
          "Liechtenstein",
          "Seychelles",
          "Djibouti",
          "Grenada",
          "Guyana",
          "Kiribati",
          "San Marino",
          "Eritrea",
          "South Sudan",
          "DR Congo",
          "Bhutan",
          "Laos",
          "Eswatini",
          "Botswana",
          "Lesotho",
          "Suriname"
         ],
         "name": "",
         "type": "choropleth",
         "z": [
          2.599204176249407,
          2.58460190559632,
          2.533493958310517,
          2.50185570522883,
          2.4848197228002284,
          2.4324949196266688,
          2.4045072342082525,
          2.3692184134632934,
          2.2548339600141154,
          2.2195451392691563,
          2.2098102921670986,
          2.1647866243200817,
          2.1587023448812954,
          2.1404495065649374,
          2.10881125348325,
          2.101510118156707,
          2.094208982830163,
          2.058920162085204,
          2.03458304433006,
          1.9676559705034131,
          1.8763917789216222,
          1.8374523905133917,
          1.8167658404215188,
          1.8082478492072185,
          1.7376702077173,
          1.7048150987478552,
          1.652490295574295,
          1.5356721303496028,
          1.5295878509108165,
          1.3616617384003211,
          1.319071782328819,
          1.1754827875734677,
          1.1706153640224388,
          1.1389771109407512,
          1.1304591197264509,
          1.1000377225325204,
          1.057447766461018,
          1.0306769369303592,
          0.9832195573078282,
          0.977135277869042,
          0.977135277869042,
          0.862750824419864,
          0.8420642743279914,
          0.8359799948892053,
          0.822594580123876,
          0.7617517857360153,
          0.7142944061134839,
          0.7094269825624552,
          0.7057764148991835,
          0.6996921354603974,
          0.6960415677971258,
          0.5913919614500055,
          0.5561031407050463,
          0.5561031407050463,
          0.5561031407050463,
          0.5341997347254165,
          0.5110794728580295,
          0.5098626169702721,
          0.508645761082515,
          0.5037783375314862,
          0.5013446257559717,
          0.4940434904294284,
          0.4867423551028852,
          0.47092322856204144,
          0.4538872461334404,
          0.44050183136811105,
          0.42833327249053893,
          0.41616471361296686,
          0.4100804341741807,
          0.4100804341741807,
          0.4076467223986663,
          0.4064298665109091,
          0.4027792988476375,
          0.3991287311843658,
          0.33463536913323355,
          0.28961170128621666,
          0.27744314240864454,
          0.26892515119434407,
          0.2652745835310724,
          0.26284087175555804,
          0.2591903040922864,
          0.2251183392350844,
          0.22268462745956996,
          0.22146777157181274,
          0.21051606858199784,
          0.20443178914321178,
          0.19713065381666847,
          0.19226323026563963,
          0.188612662602368,
          0.17401039194928145,
          0.14602270653086555,
          0.13628785942880783,
          0.11925187700020687,
          0.11925187700020687,
          0.11195074167366359,
          0.10830017401039195,
          0.10708331812263473,
          0.10343275045936311,
          0.10221589457160589,
          0.10221589457160589,
          0.10099903868384867,
          0.09734847102057703,
          0.09491475924506261,
          0.09004733569403375,
          0.08396305625524769,
          0.07909563270421884,
          0.07909563270421884,
          0.0754450650409472,
          0.07422820915318999,
          0.07057764148991834,
          0.07057764148991834,
          0.06936078560216113,
          0.06571021793888951,
          0.06449336205113229,
          0.055975370836831795,
          0.053541659061317366,
          0.051107947285802945,
          0.04989109139804573,
          0.04624052373477409,
          0.04624052373477409,
          0.043806811959259666,
          0.040156244295988026,
          0.03163825308168754,
          0.029204541306173108,
          0.029204541306173108,
          0.027987685418415897,
          0.027987685418415897,
          0.024337117755144258,
          0.023120261867387044,
          0.018252838316358194,
          0.018252838316358194,
          0.018252838316358194,
          0.01703598242860098,
          0.01581912654084377,
          0.01581912654084377,
          0.014602270653086554,
          0.014602270653086554,
          0.014602270653086554,
          0.013385414765329342,
          0.013385414765329342,
          0.013385414765329342,
          0.013385414765329342,
          0.012168558877572129,
          0.012168558877572129,
          0.010951702989814916,
          0.010951702989814916,
          0.010951702989814916,
          0.009734847102057704,
          0.009734847102057704,
          0.009734847102057704,
          0.00851799121430049,
          0.00851799121430049,
          0.007301135326543277,
          0.007301135326543277,
          0.007301135326543277,
          0.0060842794387860645,
          0.0060842794387860645,
          0.0060842794387860645,
          0.0060842794387860645,
          0.004867423551028852,
          0.004867423551028852,
          0.004867423551028852,
          0.0036505676632716385,
          0.0036505676632716385,
          0.0036505676632716385,
          0.0036505676632716385,
          0.002433711775514426,
          0.002433711775514426,
          0.002433711775514426,
          0.002433711775514426,
          0.002433711775514426,
          0.002433711775514426,
          0.002433711775514426,
          0.001216855887757213,
          0.001216855887757213,
          0.001216855887757213,
          0.001216855887757213,
          0.001216855887757213
         ]
        }
       ],
       "layout": {
        "coloraxis": {
         "colorbar": {
          "title": {
           "text": "Percentage"
          }
         },
         "colorscale": [
          [
           0,
           "#0d0887"
          ],
          [
           0.1111111111111111,
           "#46039f"
          ],
          [
           0.2222222222222222,
           "#7201a8"
          ],
          [
           0.3333333333333333,
           "#9c179e"
          ],
          [
           0.4444444444444444,
           "#bd3786"
          ],
          [
           0.5555555555555556,
           "#d8576b"
          ],
          [
           0.6666666666666666,
           "#ed7953"
          ],
          [
           0.7777777777777778,
           "#fb9f3a"
          ],
          [
           0.8888888888888888,
           "#fdca26"
          ],
          [
           1,
           "#f0f921"
          ]
         ]
        },
        "geo": {
         "center": {
          "lat": 14.675217657093041,
          "lon": -79.506208471067
         },
         "domain": {
          "x": [
           0,
           1
          ],
          "y": [
           0,
           1
          ]
         },
         "projection": {
          "rotation": {
           "lon": -79.506208471067
          },
          "scale": 1.0732602863934637
         }
        },
        "height": 600,
        "legend": {
         "tracegroupgap": 0
        },
        "template": {
         "data": {
          "bar": [
           {
            "error_x": {
             "color": "#2a3f5f"
            },
            "error_y": {
             "color": "#2a3f5f"
            },
            "marker": {
             "line": {
              "color": "#E5ECF6",
              "width": 0.5
             },
             "pattern": {
              "fillmode": "overlay",
              "size": 10,
              "solidity": 0.2
             }
            },
            "type": "bar"
           }
          ],
          "barpolar": [
           {
            "marker": {
             "line": {
              "color": "#E5ECF6",
              "width": 0.5
             },
             "pattern": {
              "fillmode": "overlay",
              "size": 10,
              "solidity": 0.2
             }
            },
            "type": "barpolar"
           }
          ],
          "carpet": [
           {
            "aaxis": {
             "endlinecolor": "#2a3f5f",
             "gridcolor": "white",
             "linecolor": "white",
             "minorgridcolor": "white",
             "startlinecolor": "#2a3f5f"
            },
            "baxis": {
             "endlinecolor": "#2a3f5f",
             "gridcolor": "white",
             "linecolor": "white",
             "minorgridcolor": "white",
             "startlinecolor": "#2a3f5f"
            },
            "type": "carpet"
           }
          ],
          "choropleth": [
           {
            "colorbar": {
             "outlinewidth": 0,
             "ticks": ""
            },
            "type": "choropleth"
           }
          ],
          "contour": [
           {
            "colorbar": {
             "outlinewidth": 0,
             "ticks": ""
            },
            "colorscale": [
             [
              0,
              "#0d0887"
             ],
             [
              0.1111111111111111,
              "#46039f"
             ],
             [
              0.2222222222222222,
              "#7201a8"
             ],
             [
              0.3333333333333333,
              "#9c179e"
             ],
             [
              0.4444444444444444,
              "#bd3786"
             ],
             [
              0.5555555555555556,
              "#d8576b"
             ],
             [
              0.6666666666666666,
              "#ed7953"
             ],
             [
              0.7777777777777778,
              "#fb9f3a"
             ],
             [
              0.8888888888888888,
              "#fdca26"
             ],
             [
              1,
              "#f0f921"
             ]
            ],
            "type": "contour"
           }
          ],
          "contourcarpet": [
           {
            "colorbar": {
             "outlinewidth": 0,
             "ticks": ""
            },
            "type": "contourcarpet"
           }
          ],
          "heatmap": [
           {
            "colorbar": {
             "outlinewidth": 0,
             "ticks": ""
            },
            "colorscale": [
             [
              0,
              "#0d0887"
             ],
             [
              0.1111111111111111,
              "#46039f"
             ],
             [
              0.2222222222222222,
              "#7201a8"
             ],
             [
              0.3333333333333333,
              "#9c179e"
             ],
             [
              0.4444444444444444,
              "#bd3786"
             ],
             [
              0.5555555555555556,
              "#d8576b"
             ],
             [
              0.6666666666666666,
              "#ed7953"
             ],
             [
              0.7777777777777778,
              "#fb9f3a"
             ],
             [
              0.8888888888888888,
              "#fdca26"
             ],
             [
              1,
              "#f0f921"
             ]
            ],
            "type": "heatmap"
           }
          ],
          "heatmapgl": [
           {
            "colorbar": {
             "outlinewidth": 0,
             "ticks": ""
            },
            "colorscale": [
             [
              0,
              "#0d0887"
             ],
             [
              0.1111111111111111,
              "#46039f"
             ],
             [
              0.2222222222222222,
              "#7201a8"
             ],
             [
              0.3333333333333333,
              "#9c179e"
             ],
             [
              0.4444444444444444,
              "#bd3786"
             ],
             [
              0.5555555555555556,
              "#d8576b"
             ],
             [
              0.6666666666666666,
              "#ed7953"
             ],
             [
              0.7777777777777778,
              "#fb9f3a"
             ],
             [
              0.8888888888888888,
              "#fdca26"
             ],
             [
              1,
              "#f0f921"
             ]
            ],
            "type": "heatmapgl"
           }
          ],
          "histogram": [
           {
            "marker": {
             "pattern": {
              "fillmode": "overlay",
              "size": 10,
              "solidity": 0.2
             }
            },
            "type": "histogram"
           }
          ],
          "histogram2d": [
           {
            "colorbar": {
             "outlinewidth": 0,
             "ticks": ""
            },
            "colorscale": [
             [
              0,
              "#0d0887"
             ],
             [
              0.1111111111111111,
              "#46039f"
             ],
             [
              0.2222222222222222,
              "#7201a8"
             ],
             [
              0.3333333333333333,
              "#9c179e"
             ],
             [
              0.4444444444444444,
              "#bd3786"
             ],
             [
              0.5555555555555556,
              "#d8576b"
             ],
             [
              0.6666666666666666,
              "#ed7953"
             ],
             [
              0.7777777777777778,
              "#fb9f3a"
             ],
             [
              0.8888888888888888,
              "#fdca26"
             ],
             [
              1,
              "#f0f921"
             ]
            ],
            "type": "histogram2d"
           }
          ],
          "histogram2dcontour": [
           {
            "colorbar": {
             "outlinewidth": 0,
             "ticks": ""
            },
            "colorscale": [
             [
              0,
              "#0d0887"
             ],
             [
              0.1111111111111111,
              "#46039f"
             ],
             [
              0.2222222222222222,
              "#7201a8"
             ],
             [
              0.3333333333333333,
              "#9c179e"
             ],
             [
              0.4444444444444444,
              "#bd3786"
             ],
             [
              0.5555555555555556,
              "#d8576b"
             ],
             [
              0.6666666666666666,
              "#ed7953"
             ],
             [
              0.7777777777777778,
              "#fb9f3a"
             ],
             [
              0.8888888888888888,
              "#fdca26"
             ],
             [
              1,
              "#f0f921"
             ]
            ],
            "type": "histogram2dcontour"
           }
          ],
          "mesh3d": [
           {
            "colorbar": {
             "outlinewidth": 0,
             "ticks": ""
            },
            "type": "mesh3d"
           }
          ],
          "parcoords": [
           {
            "line": {
             "colorbar": {
              "outlinewidth": 0,
              "ticks": ""
             }
            },
            "type": "parcoords"
           }
          ],
          "pie": [
           {
            "automargin": true,
            "type": "pie"
           }
          ],
          "scatter": [
           {
            "fillpattern": {
             "fillmode": "overlay",
             "size": 10,
             "solidity": 0.2
            },
            "type": "scatter"
           }
          ],
          "scatter3d": [
           {
            "line": {
             "colorbar": {
              "outlinewidth": 0,
              "ticks": ""
             }
            },
            "marker": {
             "colorbar": {
              "outlinewidth": 0,
              "ticks": ""
             }
            },
            "type": "scatter3d"
           }
          ],
          "scattercarpet": [
           {
            "marker": {
             "colorbar": {
              "outlinewidth": 0,
              "ticks": ""
             }
            },
            "type": "scattercarpet"
           }
          ],
          "scattergeo": [
           {
            "marker": {
             "colorbar": {
              "outlinewidth": 0,
              "ticks": ""
             }
            },
            "type": "scattergeo"
           }
          ],
          "scattergl": [
           {
            "marker": {
             "colorbar": {
              "outlinewidth": 0,
              "ticks": ""
             }
            },
            "type": "scattergl"
           }
          ],
          "scattermapbox": [
           {
            "marker": {
             "colorbar": {
              "outlinewidth": 0,
              "ticks": ""
             }
            },
            "type": "scattermapbox"
           }
          ],
          "scatterpolar": [
           {
            "marker": {
             "colorbar": {
              "outlinewidth": 0,
              "ticks": ""
             }
            },
            "type": "scatterpolar"
           }
          ],
          "scatterpolargl": [
           {
            "marker": {
             "colorbar": {
              "outlinewidth": 0,
              "ticks": ""
             }
            },
            "type": "scatterpolargl"
           }
          ],
          "scatterternary": [
           {
            "marker": {
             "colorbar": {
              "outlinewidth": 0,
              "ticks": ""
             }
            },
            "type": "scatterternary"
           }
          ],
          "surface": [
           {
            "colorbar": {
             "outlinewidth": 0,
             "ticks": ""
            },
            "colorscale": [
             [
              0,
              "#0d0887"
             ],
             [
              0.1111111111111111,
              "#46039f"
             ],
             [
              0.2222222222222222,
              "#7201a8"
             ],
             [
              0.3333333333333333,
              "#9c179e"
             ],
             [
              0.4444444444444444,
              "#bd3786"
             ],
             [
              0.5555555555555556,
              "#d8576b"
             ],
             [
              0.6666666666666666,
              "#ed7953"
             ],
             [
              0.7777777777777778,
              "#fb9f3a"
             ],
             [
              0.8888888888888888,
              "#fdca26"
             ],
             [
              1,
              "#f0f921"
             ]
            ],
            "type": "surface"
           }
          ],
          "table": [
           {
            "cells": {
             "fill": {
              "color": "#EBF0F8"
             },
             "line": {
              "color": "white"
             }
            },
            "header": {
             "fill": {
              "color": "#C8D4E3"
             },
             "line": {
              "color": "white"
             }
            },
            "type": "table"
           }
          ]
         },
         "layout": {
          "annotationdefaults": {
           "arrowcolor": "#2a3f5f",
           "arrowhead": 0,
           "arrowwidth": 1
          },
          "autotypenumbers": "strict",
          "coloraxis": {
           "colorbar": {
            "outlinewidth": 0,
            "ticks": ""
           }
          },
          "colorscale": {
           "diverging": [
            [
             0,
             "#8e0152"
            ],
            [
             0.1,
             "#c51b7d"
            ],
            [
             0.2,
             "#de77ae"
            ],
            [
             0.3,
             "#f1b6da"
            ],
            [
             0.4,
             "#fde0ef"
            ],
            [
             0.5,
             "#f7f7f7"
            ],
            [
             0.6,
             "#e6f5d0"
            ],
            [
             0.7,
             "#b8e186"
            ],
            [
             0.8,
             "#7fbc41"
            ],
            [
             0.9,
             "#4d9221"
            ],
            [
             1,
             "#276419"
            ]
           ],
           "sequential": [
            [
             0,
             "#0d0887"
            ],
            [
             0.1111111111111111,
             "#46039f"
            ],
            [
             0.2222222222222222,
             "#7201a8"
            ],
            [
             0.3333333333333333,
             "#9c179e"
            ],
            [
             0.4444444444444444,
             "#bd3786"
            ],
            [
             0.5555555555555556,
             "#d8576b"
            ],
            [
             0.6666666666666666,
             "#ed7953"
            ],
            [
             0.7777777777777778,
             "#fb9f3a"
            ],
            [
             0.8888888888888888,
             "#fdca26"
            ],
            [
             1,
             "#f0f921"
            ]
           ],
           "sequentialminus": [
            [
             0,
             "#0d0887"
            ],
            [
             0.1111111111111111,
             "#46039f"
            ],
            [
             0.2222222222222222,
             "#7201a8"
            ],
            [
             0.3333333333333333,
             "#9c179e"
            ],
            [
             0.4444444444444444,
             "#bd3786"
            ],
            [
             0.5555555555555556,
             "#d8576b"
            ],
            [
             0.6666666666666666,
             "#ed7953"
            ],
            [
             0.7777777777777778,
             "#fb9f3a"
            ],
            [
             0.8888888888888888,
             "#fdca26"
            ],
            [
             1,
             "#f0f921"
            ]
           ]
          },
          "colorway": [
           "#636efa",
           "#EF553B",
           "#00cc96",
           "#ab63fa",
           "#FFA15A",
           "#19d3f3",
           "#FF6692",
           "#B6E880",
           "#FF97FF",
           "#FECB52"
          ],
          "font": {
           "color": "#2a3f5f"
          },
          "geo": {
           "bgcolor": "white",
           "lakecolor": "white",
           "landcolor": "#E5ECF6",
           "showlakes": true,
           "showland": true,
           "subunitcolor": "white"
          },
          "hoverlabel": {
           "align": "left"
          },
          "hovermode": "closest",
          "mapbox": {
           "style": "light"
          },
          "paper_bgcolor": "white",
          "plot_bgcolor": "#E5ECF6",
          "polar": {
           "angularaxis": {
            "gridcolor": "white",
            "linecolor": "white",
            "ticks": ""
           },
           "bgcolor": "#E5ECF6",
           "radialaxis": {
            "gridcolor": "white",
            "linecolor": "white",
            "ticks": ""
           }
          },
          "scene": {
           "xaxis": {
            "backgroundcolor": "#E5ECF6",
            "gridcolor": "white",
            "gridwidth": 2,
            "linecolor": "white",
            "showbackground": true,
            "ticks": "",
            "zerolinecolor": "white"
           },
           "yaxis": {
            "backgroundcolor": "#E5ECF6",
            "gridcolor": "white",
            "gridwidth": 2,
            "linecolor": "white",
            "showbackground": true,
            "ticks": "",
            "zerolinecolor": "white"
           },
           "zaxis": {
            "backgroundcolor": "#E5ECF6",
            "gridcolor": "white",
            "gridwidth": 2,
            "linecolor": "white",
            "showbackground": true,
            "ticks": "",
            "zerolinecolor": "white"
           }
          },
          "shapedefaults": {
           "line": {
            "color": "#2a3f5f"
           }
          },
          "ternary": {
           "aaxis": {
            "gridcolor": "white",
            "linecolor": "white",
            "ticks": ""
           },
           "baxis": {
            "gridcolor": "white",
            "linecolor": "white",
            "ticks": ""
           },
           "bgcolor": "#E5ECF6",
           "caxis": {
            "gridcolor": "white",
            "linecolor": "white",
            "ticks": ""
           }
          },
          "title": {
           "x": 0.05
          },
          "xaxis": {
           "automargin": true,
           "gridcolor": "white",
           "linecolor": "white",
           "ticks": "",
           "title": {
            "standoff": 15
           },
           "zerolinecolor": "white",
           "zerolinewidth": 2
          },
          "yaxis": {
           "automargin": true,
           "gridcolor": "white",
           "linecolor": "white",
           "ticks": "",
           "title": {
            "standoff": 15
           },
           "zerolinecolor": "white",
           "zerolinewidth": 2
          }
         }
        },
        "title": {
         "text": "Percentage of Students by Country"
        },
        "width": 900
       }
      },
      "image/png": "[encoded data removed]",
      "text/html": [
       "<div>                            <div id=\"0cea1b0f-c654-4c1b-8913-8bb1cdc77560\" class=\"plotly-graph-div\" style=\"height:600px; width:900px;\"></div>            <script type=\"text/javascript\">                require([\"plotly\"], function(Plotly) {                    window.PLOTLYENV=window.PLOTLYENV || {};                                    if (document.getElementById(\"0cea1b0f-c654-4c1b-8913-8bb1cdc77560\")) {                    Plotly.newPlot(                        \"0cea1b0f-c654-4c1b-8913-8bb1cdc77560\",                        [{\"coloraxis\":\"coloraxis\",\"geo\":\"geo\",\"hovertemplate\":\"<b>%{hovertext}</b><br><br>Country=%{location}<br>Percentage=%{z}<extra></extra>\",\"hovertext\":[\"Spain\",\"Italy\",\"Colombia\",\"Venezuela\",\"Peru\",\"Argentina\",\"China\",\"France\",\"Brazil\",\"Russia\",\"Morocco\",\"Honduras\",\"Portugal\",\"Romania\",\"Ecuador\",\"Germany\",\"United Kingdom\",\"Ukraine\",\"Bolivia\",\"Chile\",\"Mexico\",\"Pakistan\",\"United States\",\"India\",\"Dominican Republic\",\"Paraguay\",\"Poland\",\"Cuba\",\"Netherlands\",\"Philippines\",\"Georgia\",\"El Salvador\",\"Belgium\",\"Bulgaria\",\"Uruguay\",\"Sweden\",\"Greece\",\"Ireland\",\"Japan\",\"Algeria\",\"Turkey\",\"Switzerland\",\"Armenia\",\"Iran\",\"Hungary\",\"Nicaragua\",\"Senegal\",\"Canada\",\"Austria\",\"Bangladesh\",\"Albania\",\"Lebanon\",\"Belarus\",\"Egypt\",\"Nepal\",\"Denmark\",\"Croatia\",\"Finland\",\"Lithuania\",\"Serbia\",\"Nigeria\",\"Israel\",\"South Korea\",\"Costa Rica\",\"Czechia\",\"Syria\",\"Panama\",\"Guatemala\",\"Moldova\",\"Australia\",\"Slovakia\",\"Norway\",\"Tunisia\",\"Kazakhstan\",\"Latvia\",\"Not available\",\"Guinea\",\"Slovenia\",\"Andorra\",\"Ghana\",\"Cameroon\",\"Equatorial Guinea\",\"Thailand\",\"Gambia\",\"South Africa\",\"Vietnam\",\"Estonia\",\"Jordan\",\"Cyprus\",\"Indonesia\",\"Mali\",\"Afghanistan\",\"Iraq\",\"Palestine\",\"Azerbaijan\",\"North Macedonia\",\"Kenya\",\"New Zealand\",\"Iceland\",\"Ivory Coast\",\"Saudi Arabia\",\"Luxembourg\",\"Guinea-Bissau\",\"Malaysia\",\"Uzbekistan\",\"Libya\",\"Bosnia and Herzegovina\",\"Singapore\",\"Malta\",\"Kyrgyzstan\",\"Mozambique\",\"Mauritania\",\"Congo Republic\",\"Angola\",\"Montenegro\",\"Haiti\",\"Tanzania\",\"Ethiopia\",\"Mongolia\",\"Burkina Faso\",\"Sri Lanka\",\"Dominica\",\"Kuwait\",\"Sudan\",\"Niger\",\"Somalia\",\"Sierra Leone\",\"Benin\",\"Uganda\",\"Cabo Verde\",\"Rwanda\",\"Madagascar\",\"Zimbabwe\",\"Namibia\",\"Yemen\",\"Mauritius\",\"Myanmar\",\"Jamaica\",\"Oman\",\"Liberia\",\"Burundi\",\"United Arab Emirates\",\"Togo\",\"Zambia\",\"Gabon\",\"Maldives\",\"St Kitts and Nevis\",\"Cambodia\",\"Central African Republic\",\"Vanuatu\",\"Tajikistan\",\"Trinidad and Tobago\",\"S\\u00e3o Tom\\u00e9 and Pr\\u00edncipe\",\"Qatar\",\"Turkmenistan\",\"Malawi\",\"Chad\",\"Antigua and Barbuda\",\"Bahrain\",\"Bahamas\",\"Monaco\",\"Barbados\",\"Liechtenstein\",\"Seychelles\",\"Djibouti\",\"Grenada\",\"Guyana\",\"Kiribati\",\"San Marino\",\"Eritrea\",\"South Sudan\",\"DR Congo\",\"Bhutan\",\"Laos\",\"Eswatini\",\"Botswana\",\"Lesotho\",\"Suriname\"],\"locationmode\":\"country names\",\"locations\":[\"Spain\",\"Italy\",\"Colombia\",\"Venezuela\",\"Peru\",\"Argentina\",\"China\",\"France\",\"Brazil\",\"Russia\",\"Morocco\",\"Honduras\",\"Portugal\",\"Romania\",\"Ecuador\",\"Germany\",\"United Kingdom\",\"Ukraine\",\"Bolivia\",\"Chile\",\"Mexico\",\"Pakistan\",\"United States\",\"India\",\"Dominican Republic\",\"Paraguay\",\"Poland\",\"Cuba\",\"Netherlands\",\"Philippines\",\"Georgia\",\"El Salvador\",\"Belgium\",\"Bulgaria\",\"Uruguay\",\"Sweden\",\"Greece\",\"Ireland\",\"Japan\",\"Algeria\",\"Turkey\",\"Switzerland\",\"Armenia\",\"Iran\",\"Hungary\",\"Nicaragua\",\"Senegal\",\"Canada\",\"Austria\",\"Bangladesh\",\"Albania\",\"Lebanon\",\"Belarus\",\"Egypt\",\"Nepal\",\"Denmark\",\"Croatia\",\"Finland\",\"Lithuania\",\"Serbia\",\"Nigeria\",\"Israel\",\"South Korea\",\"Costa Rica\",\"Czechia\",\"Syria\",\"Panama\",\"Guatemala\",\"Moldova\",\"Australia\",\"Slovakia\",\"Norway\",\"Tunisia\",\"Kazakhstan\",\"Latvia\",\"Not available\",\"Guinea\",\"Slovenia\",\"Andorra\",\"Ghana\",\"Cameroon\",\"Equatorial Guinea\",\"Thailand\",\"Gambia\",\"South Africa\",\"Vietnam\",\"Estonia\",\"Jordan\",\"Cyprus\",\"Indonesia\",\"Mali\",\"Afghanistan\",\"Iraq\",\"Palestine\",\"Azerbaijan\",\"North Macedonia\",\"Kenya\",\"New Zealand\",\"Iceland\",\"Ivory Coast\",\"Saudi Arabia\",\"Luxembourg\",\"Guinea-Bissau\",\"Malaysia\",\"Uzbekistan\",\"Libya\",\"Bosnia and Herzegovina\",\"Singapore\",\"Malta\",\"Kyrgyzstan\",\"Mozambique\",\"Mauritania\",\"Congo Republic\",\"Angola\",\"Montenegro\",\"Haiti\",\"Tanzania\",\"Ethiopia\",\"Mongolia\",\"Burkina Faso\",\"Sri Lanka\",\"Dominica\",\"Kuwait\",\"Sudan\",\"Niger\",\"Somalia\",\"Sierra Leone\",\"Benin\",\"Uganda\",\"Cabo Verde\",\"Rwanda\",\"Madagascar\",\"Zimbabwe\",\"Namibia\",\"Yemen\",\"Mauritius\",\"Myanmar\",\"Jamaica\",\"Oman\",\"Liberia\",\"Burundi\",\"United Arab Emirates\",\"Togo\",\"Zambia\",\"Gabon\",\"Maldives\",\"St Kitts and Nevis\",\"Cambodia\",\"Central African Republic\",\"Vanuatu\",\"Tajikistan\",\"Trinidad and Tobago\",\"S\\u00e3o Tom\\u00e9 and Pr\\u00edncipe\",\"Qatar\",\"Turkmenistan\",\"Malawi\",\"Chad\",\"Antigua and Barbuda\",\"Bahrain\",\"Bahamas\",\"Monaco\",\"Barbados\",\"Liechtenstein\",\"Seychelles\",\"Djibouti\",\"Grenada\",\"Guyana\",\"Kiribati\",\"San Marino\",\"Eritrea\",\"South Sudan\",\"DR Congo\",\"Bhutan\",\"Laos\",\"Eswatini\",\"Botswana\",\"Lesotho\",\"Suriname\"],\"name\":\"\",\"z\":[2.599204176249407,2.58460190559632,2.533493958310517,2.50185570522883,2.4848197228002284,2.4324949196266688,2.4045072342082525,2.3692184134632934,2.2548339600141154,2.2195451392691563,2.2098102921670986,2.1647866243200817,2.1587023448812954,2.1404495065649374,2.10881125348325,2.101510118156707,2.094208982830163,2.058920162085204,2.03458304433006,1.9676559705034131,1.8763917789216222,1.8374523905133917,1.8167658404215188,1.8082478492072185,1.7376702077173,1.7048150987478552,1.652490295574295,1.5356721303496028,1.5295878509108165,1.3616617384003211,1.319071782328819,1.1754827875734677,1.1706153640224388,1.1389771109407512,1.1304591197264509,1.1000377225325204,1.057447766461018,1.0306769369303592,0.9832195573078282,0.977135277869042,0.977135277869042,0.862750824419864,0.8420642743279914,0.8359799948892053,0.822594580123876,0.7617517857360153,0.7142944061134839,0.7094269825624552,0.7057764148991835,0.6996921354603974,0.6960415677971258,0.5913919614500055,0.5561031407050463,0.5561031407050463,0.5561031407050463,0.5341997347254165,0.5110794728580295,0.5098626169702721,0.508645761082515,0.5037783375314862,0.5013446257559717,0.4940434904294284,0.4867423551028852,0.47092322856204144,0.4538872461334404,0.44050183136811105,0.42833327249053893,0.41616471361296686,0.4100804341741807,0.4100804341741807,0.4076467223986663,0.4064298665109091,0.4027792988476375,0.3991287311843658,0.33463536913323355,0.28961170128621666,0.27744314240864454,0.26892515119434407,0.2652745835310724,0.26284087175555804,0.2591903040922864,0.2251183392350844,0.22268462745956996,0.22146777157181274,0.21051606858199784,0.20443178914321178,0.19713065381666847,0.19226323026563963,0.188612662602368,0.17401039194928145,0.14602270653086555,0.13628785942880783,0.11925187700020687,0.11925187700020687,0.11195074167366359,0.10830017401039195,0.10708331812263473,0.10343275045936311,0.10221589457160589,0.10221589457160589,0.10099903868384867,0.09734847102057703,0.09491475924506261,0.09004733569403375,0.08396305625524769,0.07909563270421884,0.07909563270421884,0.0754450650409472,0.07422820915318999,0.07057764148991834,0.07057764148991834,0.06936078560216113,0.06571021793888951,0.06449336205113229,0.055975370836831795,0.053541659061317366,0.051107947285802945,0.04989109139804573,0.04624052373477409,0.04624052373477409,0.043806811959259666,0.040156244295988026,0.03163825308168754,0.029204541306173108,0.029204541306173108,0.027987685418415897,0.027987685418415897,0.024337117755144258,0.023120261867387044,0.018252838316358194,0.018252838316358194,0.018252838316358194,0.01703598242860098,0.01581912654084377,0.01581912654084377,0.014602270653086554,0.014602270653086554,0.014602270653086554,0.013385414765329342,0.013385414765329342,0.013385414765329342,0.013385414765329342,0.012168558877572129,0.012168558877572129,0.010951702989814916,0.010951702989814916,0.010951702989814916,0.009734847102057704,0.009734847102057704,0.009734847102057704,0.00851799121430049,0.00851799121430049,0.007301135326543277,0.007301135326543277,0.007301135326543277,0.0060842794387860645,0.0060842794387860645,0.0060842794387860645,0.0060842794387860645,0.004867423551028852,0.004867423551028852,0.004867423551028852,0.0036505676632716385,0.0036505676632716385,0.0036505676632716385,0.0036505676632716385,0.002433711775514426,0.002433711775514426,0.002433711775514426,0.002433711775514426,0.002433711775514426,0.002433711775514426,0.002433711775514426,0.001216855887757213,0.001216855887757213,0.001216855887757213,0.001216855887757213,0.001216855887757213],\"type\":\"choropleth\"}],                        {\"template\":{\"data\":{\"histogram2dcontour\":[{\"type\":\"histogram2dcontour\",\"colorbar\":{\"outlinewidth\":0,\"ticks\":\"\"},\"colorscale\":[[0.0,\"#0d0887\"],[0.1111111111111111,\"#46039f\"],[0.2222222222222222,\"#7201a8\"],[0.3333333333333333,\"#9c179e\"],[0.4444444444444444,\"#bd3786\"],[0.5555555555555556,\"#d8576b\"],[0.6666666666666666,\"#ed7953\"],[0.7777777777777778,\"#fb9f3a\"],[0.8888888888888888,\"#fdca26\"],[1.0,\"#f0f921\"]]}],\"choropleth\":[{\"type\":\"choropleth\",\"colorbar\":{\"outlinewidth\":0,\"ticks\":\"\"}}],\"histogram2d\":[{\"type\":\"histogram2d\",\"colorbar\":{\"outlinewidth\":0,\"ticks\":\"\"},\"colorscale\":[[0.0,\"#0d0887\"],[0.1111111111111111,\"#46039f\"],[0.2222222222222222,\"#7201a8\"],[0.3333333333333333,\"#9c179e\"],[0.4444444444444444,\"#bd3786\"],[0.5555555555555556,\"#d8576b\"],[0.6666666666666666,\"#ed7953\"],[0.7777777777777778,\"#fb9f3a\"],[0.8888888888888888,\"#fdca26\"],[1.0,\"#f0f921\"]]}],\"heatmap\":[{\"type\":\"heatmap\",\"colorbar\":{\"outlinewidth\":0,\"ticks\":\"\"},\"colorscale\":[[0.0,\"#0d0887\"],[0.1111111111111111,\"#46039f\"],[0.2222222222222222,\"#7201a8\"],[0.3333333333333333,\"#9c179e\"],[0.4444444444444444,\"#bd3786\"],[0.5555555555555556,\"#d8576b\"],[0.6666666666666666,\"#ed7953\"],[0.7777777777777778,\"#fb9f3a\"],[0.8888888888888888,\"#fdca26\"],[1.0,\"#f0f921\"]]}],\"heatmapgl\":[{\"type\":\"heatmapgl\",\"colorbar\":{\"outlinewidth\":0,\"ticks\":\"\"},\"colorscale\":[[0.0,\"#0d0887\"],[0.1111111111111111,\"#46039f\"],[0.2222222222222222,\"#7201a8\"],[0.3333333333333333,\"#9c179e\"],[0.4444444444444444,\"#bd3786\"],[0.5555555555555556,\"#d8576b\"],[0.6666666666666666,\"#ed7953\"],[0.7777777777777778,\"#fb9f3a\"],[0.8888888888888888,\"#fdca26\"],[1.0,\"#f0f921\"]]}],\"contourcarpet\":[{\"type\":\"contourcarpet\",\"colorbar\":{\"outlinewidth\":0,\"ticks\":\"\"}}],\"contour\":[{\"type\":\"contour\",\"colorbar\":{\"outlinewidth\":0,\"ticks\":\"\"},\"colorscale\":[[0.0,\"#0d0887\"],[0.1111111111111111,\"#46039f\"],[0.2222222222222222,\"#7201a8\"],[0.3333333333333333,\"#9c179e\"],[0.4444444444444444,\"#bd3786\"],[0.5555555555555556,\"#d8576b\"],[0.6666666666666666,\"#ed7953\"],[0.7777777777777778,\"#fb9f3a\"],[0.8888888888888888,\"#fdca26\"],[1.0,\"#f0f921\"]]}],\"surface\":[{\"type\":\"surface\",\"colorbar\":{\"outlinewidth\":0,\"ticks\":\"\"},\"colorscale\":[[0.0,\"#0d0887\"],[0.1111111111111111,\"#46039f\"],[0.2222222222222222,\"#7201a8\"],[0.3333333333333333,\"#9c179e\"],[0.4444444444444444,\"#bd3786\"],[0.5555555555555556,\"#d8576b\"],[0.6666666666666666,\"#ed7953\"],[0.7777777777777778,\"#fb9f3a\"],[0.8888888888888888,\"#fdca26\"],[1.0,\"#f0f921\"]]}],\"mesh3d\":[{\"type\":\"mesh3d\",\"colorbar\":{\"outlinewidth\":0,\"ticks\":\"\"}}],\"scatter\":[{\"fillpattern\":{\"fillmode\":\"overlay\",\"size\":10,\"solidity\":0.2},\"type\":\"scatter\"}],\"parcoords\":[{\"type\":\"parcoords\",\"line\":{\"colorbar\":{\"outlinewidth\":0,\"ticks\":\"\"}}}],\"scatterpolargl\":[{\"type\":\"scatterpolargl\",\"marker\":{\"colorbar\":{\"outlinewidth\":0,\"ticks\":\"\"}}}],\"bar\":[{\"error_x\":{\"color\":\"#2a3f5f\"},\"error_y\":{\"color\":\"#2a3f5f\"},\"marker\":{\"line\":{\"color\":\"#E5ECF6\",\"width\":0.5},\"pattern\":{\"fillmode\":\"overlay\",\"size\":10,\"solidity\":0.2}},\"type\":\"bar\"}],\"scattergeo\":[{\"type\":\"scattergeo\",\"marker\":{\"colorbar\":{\"outlinewidth\":0,\"ticks\":\"\"}}}],\"scatterpolar\":[{\"type\":\"scatterpolar\",\"marker\":{\"colorbar\":{\"outlinewidth\":0,\"ticks\":\"\"}}}],\"histogram\":[{\"marker\":{\"pattern\":{\"fillmode\":\"overlay\",\"size\":10,\"solidity\":0.2}},\"type\":\"histogram\"}],\"scattergl\":[{\"type\":\"scattergl\",\"marker\":{\"colorbar\":{\"outlinewidth\":0,\"ticks\":\"\"}}}],\"scatter3d\":[{\"type\":\"scatter3d\",\"line\":{\"colorbar\":{\"outlinewidth\":0,\"ticks\":\"\"}},\"marker\":{\"colorbar\":{\"outlinewidth\":0,\"ticks\":\"\"}}}],\"scattermapbox\":[{\"type\":\"scattermapbox\",\"marker\":{\"colorbar\":{\"outlinewidth\":0,\"ticks\":\"\"}}}],\"scatterternary\":[{\"type\":\"scatterternary\",\"marker\":{\"colorbar\":{\"outlinewidth\":0,\"ticks\":\"\"}}}],\"scattercarpet\":[{\"type\":\"scattercarpet\",\"marker\":{\"colorbar\":{\"outlinewidth\":0,\"ticks\":\"\"}}}],\"carpet\":[{\"aaxis\":{\"endlinecolor\":\"#2a3f5f\",\"gridcolor\":\"white\",\"linecolor\":\"white\",\"minorgridcolor\":\"white\",\"startlinecolor\":\"#2a3f5f\"},\"baxis\":{\"endlinecolor\":\"#2a3f5f\",\"gridcolor\":\"white\",\"linecolor\":\"white\",\"minorgridcolor\":\"white\",\"startlinecolor\":\"#2a3f5f\"},\"type\":\"carpet\"}],\"table\":[{\"cells\":{\"fill\":{\"color\":\"#EBF0F8\"},\"line\":{\"color\":\"white\"}},\"header\":{\"fill\":{\"color\":\"#C8D4E3\"},\"line\":{\"color\":\"white\"}},\"type\":\"table\"}],\"barpolar\":[{\"marker\":{\"line\":{\"color\":\"#E5ECF6\",\"width\":0.5},\"pattern\":{\"fillmode\":\"overlay\",\"size\":10,\"solidity\":0.2}},\"type\":\"barpolar\"}],\"pie\":[{\"automargin\":true,\"type\":\"pie\"}]},\"layout\":{\"autotypenumbers\":\"strict\",\"colorway\":[\"#636efa\",\"#EF553B\",\"#00cc96\",\"#ab63fa\",\"#FFA15A\",\"#19d3f3\",\"#FF6692\",\"#B6E880\",\"#FF97FF\",\"#FECB52\"],\"font\":{\"color\":\"#2a3f5f\"},\"hovermode\":\"closest\",\"hoverlabel\":{\"align\":\"left\"},\"paper_bgcolor\":\"white\",\"plot_bgcolor\":\"#E5ECF6\",\"polar\":{\"bgcolor\":\"#E5ECF6\",\"angularaxis\":{\"gridcolor\":\"white\",\"linecolor\":\"white\",\"ticks\":\"\"},\"radialaxis\":{\"gridcolor\":\"white\",\"linecolor\":\"white\",\"ticks\":\"\"}},\"ternary\":{\"bgcolor\":\"#E5ECF6\",\"aaxis\":{\"gridcolor\":\"white\",\"linecolor\":\"white\",\"ticks\":\"\"},\"baxis\":{\"gridcolor\":\"white\",\"linecolor\":\"white\",\"ticks\":\"\"},\"caxis\":{\"gridcolor\":\"white\",\"linecolor\":\"white\",\"ticks\":\"\"}},\"coloraxis\":{\"colorbar\":{\"outlinewidth\":0,\"ticks\":\"\"}},\"colorscale\":{\"sequential\":[[0.0,\"#0d0887\"],[0.1111111111111111,\"#46039f\"],[0.2222222222222222,\"#7201a8\"],[0.3333333333333333,\"#9c179e\"],[0.4444444444444444,\"#bd3786\"],[0.5555555555555556,\"#d8576b\"],[0.6666666666666666,\"#ed7953\"],[0.7777777777777778,\"#fb9f3a\"],[0.8888888888888888,\"#fdca26\"],[1.0,\"#f0f921\"]],\"sequentialminus\":[[0.0,\"#0d0887\"],[0.1111111111111111,\"#46039f\"],[0.2222222222222222,\"#7201a8\"],[0.3333333333333333,\"#9c179e\"],[0.4444444444444444,\"#bd3786\"],[0.5555555555555556,\"#d8576b\"],[0.6666666666666666,\"#ed7953\"],[0.7777777777777778,\"#fb9f3a\"],[0.8888888888888888,\"#fdca26\"],[1.0,\"#f0f921\"]],\"diverging\":[[0,\"#8e0152\"],[0.1,\"#c51b7d\"],[0.2,\"#de77ae\"],[0.3,\"#f1b6da\"],[0.4,\"#fde0ef\"],[0.5,\"#f7f7f7\"],[0.6,\"#e6f5d0\"],[0.7,\"#b8e186\"],[0.8,\"#7fbc41\"],[0.9,\"#4d9221\"],[1,\"#276419\"]]},\"xaxis\":{\"gridcolor\":\"white\",\"linecolor\":\"white\",\"ticks\":\"\",\"title\":{\"standoff\":15},\"zerolinecolor\":\"white\",\"automargin\":true,\"zerolinewidth\":2},\"yaxis\":{\"gridcolor\":\"white\",\"linecolor\":\"white\",\"ticks\":\"\",\"title\":{\"standoff\":15},\"zerolinecolor\":\"white\",\"automargin\":true,\"zerolinewidth\":2},\"scene\":{\"xaxis\":{\"backgroundcolor\":\"#E5ECF6\",\"gridcolor\":\"white\",\"linecolor\":\"white\",\"showbackground\":true,\"ticks\":\"\",\"zerolinecolor\":\"white\",\"gridwidth\":2},\"yaxis\":{\"backgroundcolor\":\"#E5ECF6\",\"gridcolor\":\"white\",\"linecolor\":\"white\",\"showbackground\":true,\"ticks\":\"\",\"zerolinecolor\":\"white\",\"gridwidth\":2},\"zaxis\":{\"backgroundcolor\":\"#E5ECF6\",\"gridcolor\":\"white\",\"linecolor\":\"white\",\"showbackground\":true,\"ticks\":\"\",\"zerolinecolor\":\"white\",\"gridwidth\":2}},\"shapedefaults\":{\"line\":{\"color\":\"#2a3f5f\"}},\"annotationdefaults\":{\"arrowcolor\":\"#2a3f5f\",\"arrowhead\":0,\"arrowwidth\":1},\"geo\":{\"bgcolor\":\"white\",\"landcolor\":\"#E5ECF6\",\"subunitcolor\":\"white\",\"showland\":true,\"showlakes\":true,\"lakecolor\":\"white\"},\"title\":{\"x\":0.05},\"mapbox\":{\"style\":\"light\"}}},\"geo\":{\"domain\":{\"x\":[0.0,1.0],\"y\":[0.0,1.0]},\"center\":{}},\"coloraxis\":{\"colorbar\":{\"title\":{\"text\":\"Percentage\"}},\"colorscale\":[[0.0,\"#0d0887\"],[0.1111111111111111,\"#46039f\"],[0.2222222222222222,\"#7201a8\"],[0.3333333333333333,\"#9c179e\"],[0.4444444444444444,\"#bd3786\"],[0.5555555555555556,\"#d8576b\"],[0.6666666666666666,\"#ed7953\"],[0.7777777777777778,\"#fb9f3a\"],[0.8888888888888888,\"#fdca26\"],[1.0,\"#f0f921\"]]},\"legend\":{\"tracegroupgap\":0},\"title\":{\"text\":\"Percentage of Students by Country\"},\"width\":900,\"height\":600},                        {\"responsive\": true}                    ).then(function(){\n",
       "                            \n",
       "var gd = document.getElementById('0cea1b0f-c654-4c1b-8913-8bb1cdc77560');\n",
       "var x = new MutationObserver(function (mutations, observer) {{\n",
       "        var display = window.getComputedStyle(gd).display;\n",
       "        if (!display || display === 'none') {{\n",
       "            console.log([gd, 'removed!']);\n",
       "            Plotly.purge(gd);\n",
       "            observer.disconnect();\n",
       "        }}\n",
       "}});\n",
       "\n",
       "// Listen for the removal of the full notebook cells\n",
       "var notebookContainer = gd.closest('#notebook-container');\n",
       "if (notebookContainer) {{\n",
       "    x.observe(notebookContainer, {childList: true});\n",
       "}}\n",
       "\n",
       "// Listen for the clearing of the current output cell\n",
       "var outputEl = gd.closest('.output');\n",
       "if (outputEl) {{\n",
       "    x.observe(outputEl, {childList: true});\n",
       "}}\n",
       "\n",
       "                        })                };                });            </script>        </div>"
      ]
     },
     "metadata": {},
     "output_type": "display_data"
    }
   ],
   "source": [
    "import pandas as pd\n",
    "import plotly.express as px\n",
    "\n",
    "# Load your datasets\n",
    "pop_codes = pd.read_csv('./data/Barcelona_Population_City_Hall_2023.csv')  # Contains country codes\n",
    "country_encodings = pd.read_csv('./data/Country_Encodings.csv')          # Contains code-to-name mapping\n",
    "\n",
    "dataset_with_codes.head(10)\n",
    "codes_to_names.head(10)\n",
    "\n",
    "#Merge datasets to get country names\n",
    "merged_data = pop_codes.merge(codes_to_names, left_on='NACIONALITAT_PAIS', right_on='Codi_Valor')\n",
    "\n",
    "# Calculate the percentage of each country\n",
    "country_counts = merged_data['Desc_Valor_EN'].value_counts(normalize=True) * 100\n",
    "country_counts = country_counts.reset_index()\n",
    "country_counts.columns = ['Country', 'Percentage']\n",
    "\n",
    "# Create the interactive map\n",
    "fig = px.choropleth(\n",
    "    country_counts,\n",
    "    locations=\"Country\",\n",
    "    locationmode=\"country names\",\n",
    "    color=\"Percentage\",\n",
    "    hover_name=\"Country\",\n",
    "    color_continuous_scale=px.colors.sequential.Plasma,\n",
    "    title=\"Percentage of Students by Country\"\n",
    ")\n",
    "\n",
    "# Update layout to make the map larger\n",
    "fig.update_layout(\n",
    "    width=900,  # Adjust the width\n",
    "    height=600   # Adjust the height\n",
    ")\n",
    "\n",
    "# Show the map\n",
    "fig.show()\n"
   ]
  },
  {
   "cell_type": "markdown",
   "id": "fb7e34a1-7f4d-4374-ba93-87367be469ab",
   "metadata": {},
   "source": [
    "## Discussion"
   ]
  },
  {
   "cell_type": "markdown",
   "id": "db2d0fe7-d714-497b-9356-37ef15362360",
   "metadata": {},
   "source": [
    "### Aside\n",
    "During the internship, while I was often tasked with web development issues, my coworker was instructed to improve many of the data tables, as there are many across OCC's various other projects. He ran into issues when attempting to automate what I have manually done here, as people can misspell their names, use the same email for different people, or use many different formats for phone numbers. OCC doesn't currently use a unique identifier such as a student ID. Because it's such a small organization, we quickly realized that we were the only people trying to improve this (me by looking over his shoulder). This makes it difficult for the people at OCC to draw conclusions about their students, and for me to do the same throughout this project.  \n",
    "\n",
    "From a web development standpoint, the websites for OCC, Migracode and other projects can be visually confusing, not updated, or, simply put, bad. This can make it more confusing to apply for these classes and properly fill out the forms. \n",
    "\n",
    "For these reasons, error can be introduced when I attempt to make each entry correspond to one individual. "
   ]
  }
 ],
 "metadata": {
  "kernelspec": {
   "display_name": "Python 3 (ipykernel)",
   "language": "python",
   "name": "python3"
  },
  "language_info": {
   "codemirror_mode": {
    "name": "ipython",
    "version": 3
   },
   "file_extension": ".py",
   "mimetype": "text/x-python",
   "name": "python",
   "nbconvert_exporter": "python",
   "pygments_lexer": "ipython3",
   "version": "3.11.5"
  }
 },
 "nbformat": 4,
 "nbformat_minor": 5
}
