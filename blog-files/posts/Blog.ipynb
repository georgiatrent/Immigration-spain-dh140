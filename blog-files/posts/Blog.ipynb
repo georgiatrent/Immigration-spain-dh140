{
 "cells": [
  {
   "cell_type": "markdown",
   "id": "1aab0ad7-10dc-415a-9e6c-e44e4c86b8e5",
   "metadata": {},
   "source": [
    "---\n",
    "title: \"Immigration into Spain: A Case Study\"\n",
    "author: \"Georgia Trentalange\"\n",
    "date: \"August 2 2024\"\n",
    "date-modified: \"August 2 2024\"\n",
    "---"
   ]
  },
  {
   "cell_type": "markdown",
   "id": "03511b7e-3ff3-4a96-8d11-89e8adbd8b9f",
   "metadata": {},
   "source": [
    "# Immigration into Spain: A Case Study\n",
    "This is the blog post for this project. Full file can be found in the main directory titled \"Notebook.ipynb\" "
   ]
  }
 ],
 "metadata": {
  "kernelspec": {
   "display_name": "Python 3 (ipykernel)",
   "language": "python",
   "name": "python3"
  },
  "language_info": {
   "codemirror_mode": {
    "name": "ipython",
    "version": 3
   },
   "file_extension": ".py",
   "mimetype": "text/x-python",
   "name": "python",
   "nbconvert_exporter": "python",
   "pygments_lexer": "ipython3",
   "version": "3.11.5"
  }
 },
 "nbformat": 4,
 "nbformat_minor": 5
}
