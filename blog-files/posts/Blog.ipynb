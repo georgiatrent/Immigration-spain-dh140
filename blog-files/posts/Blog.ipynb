{
 "cells": [
  {
   "cell_type": "markdown",
   "id": "1aab0ad7-10dc-415a-9e6c-e44e4c86b8e5",
   "metadata": {},
   "source": [
    "---\n",
    "title: \"Immigration into Spain: A Case Study\"\n",
    "author: \"Georgia Trentalange\"\n",
    "date: \"August 2 2024\"\n",
    "date-modified: \"August 2 2024\"\n",
    "---"
   ]
  },
  {
   "cell_type": "markdown",
   "id": "03511b7e-3ff3-4a96-8d11-89e8adbd8b9f",
   "metadata": {},
   "source": [
    "## Analysis of Migracode Students vs. 4 Criteria People\n",
    "\n",
    "### Introduction\n",
    "Migracode is a non-profit project that provides coding classes for migrants reaching certain criteria. \n",
    "This analysis investigates how Migracode Students compare to the broader population of immigrants in Barcelona and more broadly in Spain. This exploration seeks to determine whether Migracode Students reflect the general population of eligible applicants or if there are disparities among different groups.\n",
    "\n",
    "There are four criteria to apply to Migracode classes: \n",
    "\n",
    "**(1)** EITHER / Be a refugee or asylum seeker / Be a migrant from outside the EU who cannot find work / OR / Be a migrant from outside the EU in a difficult/vulnerable living situation\n",
    "\n",
    "**(2)** Be fluent in **English** or **Spanish**\n",
    "\n",
    "**(3)** Have **documentation** to live/work in Spain \n",
    "\n",
    "**(4)** Live in/around **Barcelona**\n",
    "\n",
    "I refer to people who meet this eligibility requirements as 4 Criteria People, a demographic that is not described fully by any public dataset. \n",
    "\n",
    "### Data and Methods\n",
    "\n",
    "**Migracode Students Database**\n",
    "\n",
    "Contains records of individuals who have applied to Migracode classes from 2021 to 2024.\n",
    "Data has been anonymized and cleaned for analysis.\n",
    "\n",
    "**Ajuntament de Barcelona Public Immigrants Dataset (2023)**\n",
    "\n",
    "Provides annual statistics on immigrants in Barcelona by nationality, sex, and age.\n",
    "\n",
    "**Instituto Nacional de Estadística Living Conditions Survey (2023)**\n",
    "\n",
    "Contains data on the risk of poverty or social exclusion by nationality in Spain.\n",
    "\n",
    "### Limitations\n",
    "\n",
    "Defining 4 Criteria People: Data directly describing the specific demographic of individuals who meet all four criteria (immigrants/asylum seekers in vulnerable situations, fluent in English or Spanish, with documentation, living in Barcelona) is unavailable.\n",
    "Why?:\n",
    "Population data on immigration lacks details on income, employment, and language.\n",
    "Asylum seeker data does not specify individual cities or work documentation.\n",
    "Annual reports do not cover long-term immigrants comprehensively.\n",
    "\n",
    "### Results\n",
    "\n",
    "1. **Geographic Origin Distribution**\n",
    "   - **Migracode Students**:\n",
    "   - **Barcelo\n",
    "   - **Implication**:\n",
    "\n",
    "2. **Country of Origin**\n",
    "   - **Migracode Students**: \n",
    "   - **Implication**: \n",
    "\n",
    "3. **Age Distribution**\n",
    "   - **Migracode Students**: \n",
    "   - **4 Criteria People**: \n",
    "   - **Implication**:\n",
    "     \n",
    "4. **Technical Experience**\n",
    "   - **Migracode Students**:\n",
    "   - **Implication**:\n",
    "\n",
    "### Conclusion\n"
   ]
  }
 ],
 "metadata": {
  "kernelspec": {
   "display_name": "Python 3 (ipykernel)",
   "language": "python",
   "name": "python3"
  },
  "language_info": {
   "codemirror_mode": {
    "name": "ipython",
    "version": 3
   },
   "file_extension": ".py",
   "mimetype": "text/x-python",
   "name": "python",
   "nbconvert_exporter": "python",
   "pygments_lexer": "ipython3",
   "version": "3.11.5"
  }
 },
 "nbformat": 4,
 "nbformat_minor": 5
}
